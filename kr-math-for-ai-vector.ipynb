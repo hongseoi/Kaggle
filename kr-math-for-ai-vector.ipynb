{
 "cells": [
  {
   "cell_type": "code",
   "execution_count": 1,
   "id": "3aec6569",
   "metadata": {
    "_cell_guid": "b1076dfc-b9ad-4769-8c92-a6c4dae69d19",
    "_uuid": "8f2839f25d086af736a60e9eeb907d3b93b6e0e5",
    "execution": {
     "iopub.execute_input": "2022-11-22T16:40:26.758639Z",
     "iopub.status.busy": "2022-11-22T16:40:26.758148Z",
     "iopub.status.idle": "2022-11-22T16:40:26.927593Z",
     "shell.execute_reply": "2022-11-22T16:40:26.926765Z"
    },
    "papermill": {
     "duration": 0.184435,
     "end_time": "2022-11-22T16:40:26.930089",
     "exception": false,
     "start_time": "2022-11-22T16:40:26.745654",
     "status": "completed"
    },
    "tags": []
   },
   "outputs": [],
   "source": [
    "# This Python 3 environment comes with many helpful analytics libraries installed\n",
    "# It is defined by the kaggle/python Docker image: https://github.com/kaggle/docker-python\n",
    "# For example, here's several helpful packages to load\n",
    "\n",
    "#import libraries\n",
    "import numpy as np # linear algebra\n",
    "import pandas as pd # data processing, CSV file I/O (e.g. pd.read_csv)\n",
    "import scipy\n",
    "from scipy import linalg as la\n",
    "import matplotlib.pyplot as plt\n",
    "\n",
    "# Input data files are available in the read-only \"../input/\" directory\n",
    "# For example, running this (by clicking run or pressing Shift+Enter) will list all files under the input directory\n",
    "\n",
    "import os\n",
    "for dirname, _, filenames in os.walk('/kaggle/input'):\n",
    "    for filename in filenames:\n",
    "        print(os.path.join(dirname, filename))\n",
    "\n",
    "# You can write up to 20GB to the current directory (/kaggle/working/) that gets preserved as output when you create a version using \"Save & Run All\" \n",
    "# You can also write temporary files to /kaggle/temp/, but they won't be saved outside of the current session"
   ]
  },
  {
   "cell_type": "markdown",
   "id": "512a90c5",
   "metadata": {
    "papermill": {
     "duration": 0.009585,
     "end_time": "2022-11-22T16:40:26.951148",
     "exception": false,
     "start_time": "2022-11-22T16:40:26.941563",
     "status": "completed"
    },
    "tags": []
   },
   "source": [
    "<h1>Express Vector</h1>"
   ]
  },
  {
   "cell_type": "code",
   "execution_count": 2,
   "id": "127a9d7b",
   "metadata": {
    "execution": {
     "iopub.execute_input": "2022-11-22T16:40:26.974228Z",
     "iopub.status.busy": "2022-11-22T16:40:26.973868Z",
     "iopub.status.idle": "2022-11-22T16:40:26.980043Z",
     "shell.execute_reply": "2022-11-22T16:40:26.979433Z"
    },
    "papermill": {
     "duration": 0.020355,
     "end_time": "2022-11-22T16:40:26.982812",
     "exception": false,
     "start_time": "2022-11-22T16:40:26.962457",
     "status": "completed"
    },
    "tags": []
   },
   "outputs": [
    {
     "name": "stdout",
     "output_type": "stream",
     "text": [
      "[1 2 3 4 5]\n",
      "1\n"
     ]
    }
   ],
   "source": [
    "#create vector\n",
    "v = np.array([1,2,3,4,5])\n",
    "\n",
    "print(v)\n",
    "print(v[0])"
   ]
  },
  {
   "cell_type": "code",
   "execution_count": 3,
   "id": "507f9275",
   "metadata": {
    "execution": {
     "iopub.execute_input": "2022-11-22T16:40:27.005451Z",
     "iopub.status.busy": "2022-11-22T16:40:27.004827Z",
     "iopub.status.idle": "2022-11-22T16:40:27.011316Z",
     "shell.execute_reply": "2022-11-22T16:40:27.010698Z"
    },
    "papermill": {
     "duration": 0.020326,
     "end_time": "2022-11-22T16:40:27.013573",
     "exception": false,
     "start_time": "2022-11-22T16:40:26.993247",
     "status": "completed"
    },
    "tags": []
   },
   "outputs": [
    {
     "data": {
      "text/plain": [
       "(5,)"
      ]
     },
     "execution_count": 3,
     "metadata": {},
     "output_type": "execute_result"
    }
   ],
   "source": [
    "# vector's size\n",
    "v.shape"
   ]
  },
  {
   "cell_type": "code",
   "execution_count": 4,
   "id": "955f1796",
   "metadata": {
    "execution": {
     "iopub.execute_input": "2022-11-22T16:40:27.036363Z",
     "iopub.status.busy": "2022-11-22T16:40:27.036031Z",
     "iopub.status.idle": "2022-11-22T16:40:27.042463Z",
     "shell.execute_reply": "2022-11-22T16:40:27.041053Z"
    },
    "papermill": {
     "duration": 0.020174,
     "end_time": "2022-11-22T16:40:27.044699",
     "exception": false,
     "start_time": "2022-11-22T16:40:27.024525",
     "status": "completed"
    },
    "tags": []
   },
   "outputs": [
    {
     "data": {
      "text/plain": [
       "array([1, 2])"
      ]
     },
     "execution_count": 4,
     "metadata": {},
     "output_type": "execute_result"
    }
   ],
   "source": [
    "#부분벡터(sub vector)\n",
    "v_sub = v[0:2]\n",
    "v_sub"
   ]
  },
  {
   "cell_type": "code",
   "execution_count": 5,
   "id": "dc6b5699",
   "metadata": {
    "execution": {
     "iopub.execute_input": "2022-11-22T16:40:27.067668Z",
     "iopub.status.busy": "2022-11-22T16:40:27.066935Z",
     "iopub.status.idle": "2022-11-22T16:40:27.072975Z",
     "shell.execute_reply": "2022-11-22T16:40:27.071863Z"
    },
    "papermill": {
     "duration": 0.019915,
     "end_time": "2022-11-22T16:40:27.075402",
     "exception": false,
     "start_time": "2022-11-22T16:40:27.055487",
     "status": "completed"
    },
    "tags": []
   },
   "outputs": [
    {
     "data": {
      "text/plain": [
       "array([0., 0., 0., 0., 0.])"
      ]
     },
     "execution_count": 5,
     "metadata": {},
     "output_type": "execute_result"
    }
   ],
   "source": [
    "#zero vector\n",
    "size = 5\n",
    "zeros = np.zeros(shape=(size))\n",
    "zeros"
   ]
  },
  {
   "cell_type": "code",
   "execution_count": 6,
   "id": "79c88cd2",
   "metadata": {
    "execution": {
     "iopub.execute_input": "2022-11-22T16:40:27.099002Z",
     "iopub.status.busy": "2022-11-22T16:40:27.098478Z",
     "iopub.status.idle": "2022-11-22T16:40:27.105418Z",
     "shell.execute_reply": "2022-11-22T16:40:27.104503Z"
    },
    "papermill": {
     "duration": 0.020778,
     "end_time": "2022-11-22T16:40:27.107235",
     "exception": false,
     "start_time": "2022-11-22T16:40:27.086457",
     "status": "completed"
    },
    "tags": []
   },
   "outputs": [
    {
     "data": {
      "text/plain": [
       "array([0., 1., 0.])"
      ]
     },
     "execution_count": 6,
     "metadata": {},
     "output_type": "execute_result"
    }
   ],
   "source": [
    "# 단위벡터(unit vector): a value in vector is 1, and the others are 0\n",
    "e = np.zeros(shape=(3,))\n",
    "i = 1\n",
    "e[i] = 1\n",
    "e"
   ]
  },
  {
   "cell_type": "code",
   "execution_count": 7,
   "id": "bcb498df",
   "metadata": {
    "execution": {
     "iopub.execute_input": "2022-11-22T16:40:27.130143Z",
     "iopub.status.busy": "2022-11-22T16:40:27.129612Z",
     "iopub.status.idle": "2022-11-22T16:40:27.135512Z",
     "shell.execute_reply": "2022-11-22T16:40:27.134847Z"
    },
    "papermill": {
     "duration": 0.019169,
     "end_time": "2022-11-22T16:40:27.137110",
     "exception": false,
     "start_time": "2022-11-22T16:40:27.117941",
     "status": "completed"
    },
    "tags": []
   },
   "outputs": [
    {
     "data": {
      "text/plain": [
       "array([[1., 1., 1., 1.],\n",
       "       [1., 1., 1., 1.],\n",
       "       [1., 1., 1., 1.]])"
      ]
     },
     "execution_count": 7,
     "metadata": {},
     "output_type": "execute_result"
    }
   ],
   "source": [
    "# 1vector : all elements' value are 1\n",
    "one = np.ones(shape=(3,4))\n",
    "one"
   ]
  },
  {
   "cell_type": "code",
   "execution_count": 8,
   "id": "3c0e2c5b",
   "metadata": {
    "execution": {
     "iopub.execute_input": "2022-11-22T16:40:27.159575Z",
     "iopub.status.busy": "2022-11-22T16:40:27.159264Z",
     "iopub.status.idle": "2022-11-22T16:40:27.165226Z",
     "shell.execute_reply": "2022-11-22T16:40:27.164561Z"
    },
    "papermill": {
     "duration": 0.019142,
     "end_time": "2022-11-22T16:40:27.166869",
     "exception": false,
     "start_time": "2022-11-22T16:40:27.147727",
     "status": "completed"
    },
    "tags": []
   },
   "outputs": [
    {
     "data": {
      "text/plain": [
       "array([4, 6])"
      ]
     },
     "execution_count": 8,
     "metadata": {},
     "output_type": "execute_result"
    }
   ],
   "source": [
    "# vector addition\n",
    "a = np.array([1,2])\n",
    "b = np.array([3,4])\n",
    "\n",
    "a+b"
   ]
  },
  {
   "cell_type": "code",
   "execution_count": 9,
   "id": "5a0a9048",
   "metadata": {
    "execution": {
     "iopub.execute_input": "2022-11-22T16:40:27.189688Z",
     "iopub.status.busy": "2022-11-22T16:40:27.189185Z",
     "iopub.status.idle": "2022-11-22T16:40:27.194011Z",
     "shell.execute_reply": "2022-11-22T16:40:27.193424Z"
    },
    "papermill": {
     "duration": 0.018331,
     "end_time": "2022-11-22T16:40:27.195828",
     "exception": false,
     "start_time": "2022-11-22T16:40:27.177497",
     "status": "completed"
    },
    "tags": []
   },
   "outputs": [
    {
     "data": {
      "text/plain": [
       "array([ True,  True])"
      ]
     },
     "execution_count": 9,
     "metadata": {},
     "output_type": "execute_result"
    }
   ],
   "source": [
    "#commutative law\n",
    "a+b == b+a"
   ]
  },
  {
   "cell_type": "code",
   "execution_count": 10,
   "id": "04aae844",
   "metadata": {
    "execution": {
     "iopub.execute_input": "2022-11-22T16:40:27.219159Z",
     "iopub.status.busy": "2022-11-22T16:40:27.218886Z",
     "iopub.status.idle": "2022-11-22T16:40:27.225224Z",
     "shell.execute_reply": "2022-11-22T16:40:27.224346Z"
    },
    "papermill": {
     "duration": 0.019832,
     "end_time": "2022-11-22T16:40:27.226976",
     "exception": false,
     "start_time": "2022-11-22T16:40:27.207144",
     "status": "completed"
    },
    "tags": []
   },
   "outputs": [
    {
     "data": {
      "text/plain": [
       "array([ True,  True])"
      ]
     },
     "execution_count": 10,
     "metadata": {},
     "output_type": "execute_result"
    }
   ],
   "source": [
    "# combination law\n",
    "c = np.array([5,6])\n",
    "\n",
    "(a+b)+c == a+(b+c)"
   ]
  },
  {
   "cell_type": "code",
   "execution_count": 11,
   "id": "1e6211dc",
   "metadata": {
    "execution": {
     "iopub.execute_input": "2022-11-22T16:40:27.250315Z",
     "iopub.status.busy": "2022-11-22T16:40:27.249615Z",
     "iopub.status.idle": "2022-11-22T16:40:27.256502Z",
     "shell.execute_reply": "2022-11-22T16:40:27.255541Z"
    },
    "papermill": {
     "duration": 0.020617,
     "end_time": "2022-11-22T16:40:27.258428",
     "exception": false,
     "start_time": "2022-11-22T16:40:27.237811",
     "status": "completed"
    },
    "tags": []
   },
   "outputs": [
    {
     "data": {
      "text/plain": [
       "array([2, 4])"
      ]
     },
     "execution_count": 11,
     "metadata": {},
     "output_type": "execute_result"
    }
   ],
   "source": [
    "#scalar multiplication\n",
    "s = 2\n",
    "a*s"
   ]
  },
  {
   "cell_type": "markdown",
   "id": "5e633eee",
   "metadata": {
    "papermill": {
     "duration": 0.010813,
     "end_time": "2022-11-22T16:40:27.280341",
     "exception": false,
     "start_time": "2022-11-22T16:40:27.269528",
     "status": "completed"
    },
    "tags": []
   },
   "source": [
    "<h3>Inner product</h3>\n",
    "두 벡터의 각 성분끼리의 곱의 합 <br>\n",
    "$a^Tb =\\displaystyle\\sum_{i}{(a_i b_i)}$\n",
    "\n",
    "<h3>Euclidean Norm</h3><br>\n",
    "벡터의 길이, 크기(magnititude)<br>****\n",
    "$||a|| = \\sqrt{a^Ta} = \\sqrt{a_1^2 + ... + a_n^2}$"
   ]
  },
  {
   "cell_type": "code",
   "execution_count": 12,
   "id": "bd5e613f",
   "metadata": {
    "execution": {
     "iopub.execute_input": "2022-11-22T16:40:27.304179Z",
     "iopub.status.busy": "2022-11-22T16:40:27.303857Z",
     "iopub.status.idle": "2022-11-22T16:40:27.310213Z",
     "shell.execute_reply": "2022-11-22T16:40:27.308707Z"
    },
    "papermill": {
     "duration": 0.020511,
     "end_time": "2022-11-22T16:40:27.312082",
     "exception": false,
     "start_time": "2022-11-22T16:40:27.291571",
     "status": "completed"
    },
    "tags": []
   },
   "outputs": [
    {
     "name": "stdout",
     "output_type": "stream",
     "text": [
      "11\n",
      "11\n",
      "11\n"
     ]
    }
   ],
   "source": [
    "# inner product(벡터 내적): 두 벡터의 각 성분끼리의 곱의 합\n",
    "#1.\n",
    "print(np.sum(a*b))\n",
    "\n",
    "#2.\n",
    "print(np.inner(a,b))\n",
    "\n",
    "#3.\n",
    "print(np.dot(a,b))"
   ]
  },
  {
   "cell_type": "code",
   "execution_count": 13,
   "id": "bb1e752a",
   "metadata": {
    "execution": {
     "iopub.execute_input": "2022-11-22T16:40:27.336208Z",
     "iopub.status.busy": "2022-11-22T16:40:27.335334Z",
     "iopub.status.idle": "2022-11-22T16:40:27.342311Z",
     "shell.execute_reply": "2022-11-22T16:40:27.341010Z"
    },
    "papermill": {
     "duration": 0.021785,
     "end_time": "2022-11-22T16:40:27.345002",
     "exception": false,
     "start_time": "2022-11-22T16:40:27.323217",
     "status": "completed"
    },
    "tags": []
   },
   "outputs": [
    {
     "name": "stdout",
     "output_type": "stream",
     "text": [
      "True\n",
      "True\n",
      "True\n"
     ]
    }
   ],
   "source": [
    "# characters of inner product\n",
    "print(np.dot(a,b) == np.dot(b,a))\n",
    "print(np.dot(2*a,b)==2*np.dot(a,b))\n",
    "print(np.dot(a+b,c)==np.dot(a,c)+np.dot(b,c))"
   ]
  },
  {
   "cell_type": "code",
   "execution_count": 14,
   "id": "bd56ca1a",
   "metadata": {
    "execution": {
     "iopub.execute_input": "2022-11-22T16:40:27.369731Z",
     "iopub.status.busy": "2022-11-22T16:40:27.369170Z",
     "iopub.status.idle": "2022-11-22T16:40:27.375772Z",
     "shell.execute_reply": "2022-11-22T16:40:27.374626Z"
    },
    "papermill": {
     "duration": 0.021194,
     "end_time": "2022-11-22T16:40:27.377727",
     "exception": false,
     "start_time": "2022-11-22T16:40:27.356533",
     "status": "completed"
    },
    "tags": []
   },
   "outputs": [
    {
     "name": "stdout",
     "output_type": "stream",
     "text": [
      "6.0\n",
      "2.0\n",
      "14\n"
     ]
    }
   ],
   "source": [
    "# 내적의 활용\n",
    "a = np.array([1,2,3])\n",
    "ones = np.ones(shape=(3,))\n",
    "\n",
    "##1. 합\n",
    "print(np.dot(ones,a))\n",
    "\n",
    "##2.평균\n",
    "print(np.dot(ones,a)/len(a))\n",
    "\n",
    "##3.제곱합\n",
    "print(np.dot(a,a))"
   ]
  },
  {
   "cell_type": "code",
   "execution_count": 15,
   "id": "8ea396d5",
   "metadata": {
    "execution": {
     "iopub.execute_input": "2022-11-22T16:40:27.402590Z",
     "iopub.status.busy": "2022-11-22T16:40:27.402200Z",
     "iopub.status.idle": "2022-11-22T16:40:27.409818Z",
     "shell.execute_reply": "2022-11-22T16:40:27.408497Z"
    },
    "papermill": {
     "duration": 0.022279,
     "end_time": "2022-11-22T16:40:27.411684",
     "exception": false,
     "start_time": "2022-11-22T16:40:27.389405",
     "status": "completed"
    },
    "tags": []
   },
   "outputs": [
    {
     "data": {
      "text/plain": [
       "3.605551275463989"
      ]
     },
     "execution_count": 15,
     "metadata": {},
     "output_type": "execute_result"
    }
   ],
   "source": [
    "# Euclidean norm: length, magnitude of vector\n",
    "from scipy import linalg as la\n",
    "\n",
    "a = np.array([2,3])\n",
    "la.norm(a)"
   ]
  },
  {
   "cell_type": "code",
   "execution_count": 16,
   "id": "e1d63878",
   "metadata": {
    "execution": {
     "iopub.execute_input": "2022-11-22T16:40:27.436483Z",
     "iopub.status.busy": "2022-11-22T16:40:27.435312Z",
     "iopub.status.idle": "2022-11-22T16:40:27.440241Z",
     "shell.execute_reply": "2022-11-22T16:40:27.439462Z"
    },
    "papermill": {
     "duration": 0.018685,
     "end_time": "2022-11-22T16:40:27.441852",
     "exception": false,
     "start_time": "2022-11-22T16:40:27.423167",
     "status": "completed"
    },
    "tags": []
   },
   "outputs": [],
   "source": [
    "# characteristic of vector norm\n",
    "a = np.array([-1, 2, 3])\n",
    "b = np.array([1, -2, 4])"
   ]
  },
  {
   "cell_type": "raw",
   "id": "38ea75b3",
   "metadata": {
    "papermill": {
     "duration": 0.010763,
     "end_time": "2022-11-22T16:40:27.463797",
     "exception": false,
     "start_time": "2022-11-22T16:40:27.453034",
     "status": "completed"
    },
    "tags": []
   },
   "source": [
    "#scalar 곱\n",
    "beta = 0.5\n",
    "la.norm(beta*a) == np.abs(beta) * la.norm(a)"
   ]
  },
  {
   "cell_type": "code",
   "execution_count": 17,
   "id": "2745da56",
   "metadata": {
    "execution": {
     "iopub.execute_input": "2022-11-22T16:40:27.488316Z",
     "iopub.status.busy": "2022-11-22T16:40:27.487742Z",
     "iopub.status.idle": "2022-11-22T16:40:27.494043Z",
     "shell.execute_reply": "2022-11-22T16:40:27.493138Z"
    },
    "papermill": {
     "duration": 0.020992,
     "end_time": "2022-11-22T16:40:27.496064",
     "exception": false,
     "start_time": "2022-11-22T16:40:27.475072",
     "status": "completed"
    },
    "tags": []
   },
   "outputs": [
    {
     "data": {
      "text/plain": [
       "True"
      ]
     },
     "execution_count": 17,
     "metadata": {},
     "output_type": "execute_result"
    }
   ],
   "source": [
    "#삼각형의 한 변의 길이는 다른 두 변의 길이의 합보다 작다\n",
    "la.norm(a+b) <= la.norm(a)+la.norm(b)"
   ]
  },
  {
   "cell_type": "code",
   "execution_count": 18,
   "id": "5e077672",
   "metadata": {
    "execution": {
     "iopub.execute_input": "2022-11-22T16:40:27.520533Z",
     "iopub.status.busy": "2022-11-22T16:40:27.519943Z",
     "iopub.status.idle": "2022-11-22T16:40:27.525947Z",
     "shell.execute_reply": "2022-11-22T16:40:27.525109Z"
    },
    "papermill": {
     "duration": 0.020333,
     "end_time": "2022-11-22T16:40:27.527852",
     "exception": false,
     "start_time": "2022-11-22T16:40:27.507519",
     "status": "completed"
    },
    "tags": []
   },
   "outputs": [
    {
     "data": {
      "text/plain": [
       "True"
      ]
     },
     "execution_count": 18,
     "metadata": {},
     "output_type": "execute_result"
    }
   ],
   "source": [
    "#길이는 0보다 크거나 작다\n",
    "la.norm(a) >= 0"
   ]
  },
  {
   "cell_type": "code",
   "execution_count": 19,
   "id": "d6620ca9",
   "metadata": {
    "execution": {
     "iopub.execute_input": "2022-11-22T16:40:27.553558Z",
     "iopub.status.busy": "2022-11-22T16:40:27.552923Z",
     "iopub.status.idle": "2022-11-22T16:40:27.558339Z",
     "shell.execute_reply": "2022-11-22T16:40:27.557666Z"
    },
    "papermill": {
     "duration": 0.020365,
     "end_time": "2022-11-22T16:40:27.560246",
     "exception": false,
     "start_time": "2022-11-22T16:40:27.539881",
     "status": "completed"
    },
    "tags": []
   },
   "outputs": [],
   "source": [
    "#orthonormal vector\n",
    "a1 = np.array([0,0,1]).reshape(-1,1)\n",
    "a2 = 1/np.sqrt(2)*np.array([1,1,0]).reshape(-1,1)\n",
    "a3 = 1/np.sqrt(2)*np.array([1,-1,0]).reshape(-1,1)"
   ]
  },
  {
   "cell_type": "code",
   "execution_count": 20,
   "id": "5a770664",
   "metadata": {
    "execution": {
     "iopub.execute_input": "2022-11-22T16:40:27.585440Z",
     "iopub.status.busy": "2022-11-22T16:40:27.585050Z",
     "iopub.status.idle": "2022-11-22T16:40:27.596039Z",
     "shell.execute_reply": "2022-11-22T16:40:27.594984Z"
    },
    "papermill": {
     "duration": 0.026361,
     "end_time": "2022-11-22T16:40:27.598377",
     "exception": false,
     "start_time": "2022-11-22T16:40:27.572016",
     "status": "completed"
    },
    "tags": []
   },
   "outputs": [
    {
     "data": {
      "text/plain": [
       "array([[ 1.,  0.,  0.],\n",
       "       [ 0.,  1., -0.],\n",
       "       [ 0., -0.,  1.]])"
      ]
     },
     "execution_count": 20,
     "metadata": {},
     "output_type": "execute_result"
    }
   ],
   "source": [
    "#norm=1, 열들의 곱\n",
    "A = np.concatenate((a1,a2,a3),axis=1)\n",
    "np.round(A.T@A,3)"
   ]
  },
  {
   "cell_type": "code",
   "execution_count": 21,
   "id": "2d658a82",
   "metadata": {
    "execution": {
     "iopub.execute_input": "2022-11-22T16:40:27.623466Z",
     "iopub.status.busy": "2022-11-22T16:40:27.622899Z",
     "iopub.status.idle": "2022-11-22T16:40:27.629016Z",
     "shell.execute_reply": "2022-11-22T16:40:27.628374Z"
    },
    "papermill": {
     "duration": 0.02046,
     "end_time": "2022-11-22T16:40:27.630630",
     "exception": false,
     "start_time": "2022-11-22T16:40:27.610170",
     "status": "completed"
    },
    "tags": []
   },
   "outputs": [
    {
     "data": {
      "text/plain": [
       "array([[-1.086,  0.997,  0.283, -1.506],\n",
       "       [-0.579,  1.651, -2.427, -0.429],\n",
       "       [ 1.266, -0.867, -0.679, -0.095],\n",
       "       [ 1.491, -0.639, -0.444, -0.434]])"
      ]
     },
     "execution_count": 21,
     "metadata": {},
     "output_type": "execute_result"
    }
   ],
   "source": [
    "# 2차원 배열 생성 \n",
    "A = np.array(np.random.RandomState(123).normal(size=16)).reshape(4,4)\n",
    "A.round(3)"
   ]
  },
  {
   "cell_type": "code",
   "execution_count": 22,
   "id": "266dae91",
   "metadata": {
    "execution": {
     "iopub.execute_input": "2022-11-22T16:40:27.655685Z",
     "iopub.status.busy": "2022-11-22T16:40:27.655137Z",
     "iopub.status.idle": "2022-11-22T16:40:27.662030Z",
     "shell.execute_reply": "2022-11-22T16:40:27.661093Z"
    },
    "papermill": {
     "duration": 0.021637,
     "end_time": "2022-11-22T16:40:27.663830",
     "exception": false,
     "start_time": "2022-11-22T16:40:27.642193",
     "status": "completed"
    },
    "tags": []
   },
   "outputs": [
    {
     "data": {
      "text/plain": [
       "(3, 4)"
      ]
     },
     "execution_count": 22,
     "metadata": {},
     "output_type": "execute_result"
    }
   ],
   "source": [
    "#행렬의 크기\n",
    "A = np.random.RandomState(123).randint(1,12,size=12).reshape(3,4)\n",
    "A.shape"
   ]
  },
  {
   "cell_type": "code",
   "execution_count": 23,
   "id": "ed4abc67",
   "metadata": {
    "execution": {
     "iopub.execute_input": "2022-11-22T16:40:27.688950Z",
     "iopub.status.busy": "2022-11-22T16:40:27.688604Z",
     "iopub.status.idle": "2022-11-22T16:40:27.695188Z",
     "shell.execute_reply": "2022-11-22T16:40:27.694193Z"
    },
    "papermill": {
     "duration": 0.021433,
     "end_time": "2022-11-22T16:40:27.697031",
     "exception": false,
     "start_time": "2022-11-22T16:40:27.675598",
     "status": "completed"
    },
    "tags": []
   },
   "outputs": [
    {
     "data": {
      "text/plain": [
       "array([3, 4, 2])"
      ]
     },
     "execution_count": 23,
     "metadata": {},
     "output_type": "execute_result"
    }
   ],
   "source": [
    "#열벡터\n",
    "A[:,0]"
   ]
  },
  {
   "cell_type": "code",
   "execution_count": 24,
   "id": "a6b67382",
   "metadata": {
    "execution": {
     "iopub.execute_input": "2022-11-22T16:40:27.722429Z",
     "iopub.status.busy": "2022-11-22T16:40:27.721893Z",
     "iopub.status.idle": "2022-11-22T16:40:27.727210Z",
     "shell.execute_reply": "2022-11-22T16:40:27.726427Z"
    },
    "papermill": {
     "duration": 0.020047,
     "end_time": "2022-11-22T16:40:27.729013",
     "exception": false,
     "start_time": "2022-11-22T16:40:27.708966",
     "status": "completed"
    },
    "tags": []
   },
   "outputs": [
    {
     "data": {
      "text/plain": [
       "array([3, 3, 7, 2])"
      ]
     },
     "execution_count": 24,
     "metadata": {},
     "output_type": "execute_result"
    }
   ],
   "source": [
    "#행벡터\n",
    "A[0,:]"
   ]
  },
  {
   "cell_type": "code",
   "execution_count": 25,
   "id": "7340348d",
   "metadata": {
    "execution": {
     "iopub.execute_input": "2022-11-22T16:40:27.753905Z",
     "iopub.status.busy": "2022-11-22T16:40:27.753540Z",
     "iopub.status.idle": "2022-11-22T16:40:27.758850Z",
     "shell.execute_reply": "2022-11-22T16:40:27.758236Z"
    },
    "papermill": {
     "duration": 0.019773,
     "end_time": "2022-11-22T16:40:27.760433",
     "exception": false,
     "start_time": "2022-11-22T16:40:27.740660",
     "status": "completed"
    },
    "tags": []
   },
   "outputs": [
    {
     "data": {
      "text/plain": [
       "7"
      ]
     },
     "execution_count": 25,
     "metadata": {},
     "output_type": "execute_result"
    }
   ],
   "source": [
    "#행렬의 표기법\n",
    "A[0,2]"
   ]
  },
  {
   "cell_type": "code",
   "execution_count": 26,
   "id": "611a981c",
   "metadata": {
    "execution": {
     "iopub.execute_input": "2022-11-22T16:40:27.786326Z",
     "iopub.status.busy": "2022-11-22T16:40:27.785749Z",
     "iopub.status.idle": "2022-11-22T16:40:27.792254Z",
     "shell.execute_reply": "2022-11-22T16:40:27.791430Z"
    },
    "papermill": {
     "duration": 0.021892,
     "end_time": "2022-11-22T16:40:27.794330",
     "exception": false,
     "start_time": "2022-11-22T16:40:27.772438",
     "status": "completed"
    },
    "tags": []
   },
   "outputs": [
    {
     "data": {
      "text/plain": [
       "array([[1, 2, 3],\n",
       "       [4, 5, 6]])"
      ]
     },
     "execution_count": 26,
     "metadata": {},
     "output_type": "execute_result"
    }
   ],
   "source": [
    "#행렬 덧셈\n",
    "A = np.arange(1,7).reshape(2,3)\n",
    "B = np.arange(3,9).reshape(2,3)\n",
    "A"
   ]
  },
  {
   "cell_type": "code",
   "execution_count": 27,
   "id": "c39f1384",
   "metadata": {
    "execution": {
     "iopub.execute_input": "2022-11-22T16:40:27.821166Z",
     "iopub.status.busy": "2022-11-22T16:40:27.820591Z",
     "iopub.status.idle": "2022-11-22T16:40:27.826982Z",
     "shell.execute_reply": "2022-11-22T16:40:27.825693Z"
    },
    "papermill": {
     "duration": 0.022516,
     "end_time": "2022-11-22T16:40:27.829377",
     "exception": false,
     "start_time": "2022-11-22T16:40:27.806861",
     "status": "completed"
    },
    "tags": []
   },
   "outputs": [
    {
     "data": {
      "text/plain": [
       "array([[3, 4, 5],\n",
       "       [6, 7, 8]])"
      ]
     },
     "execution_count": 27,
     "metadata": {},
     "output_type": "execute_result"
    }
   ],
   "source": [
    "B"
   ]
  },
  {
   "cell_type": "code",
   "execution_count": 28,
   "id": "ef4f154c",
   "metadata": {
    "execution": {
     "iopub.execute_input": "2022-11-22T16:40:27.857595Z",
     "iopub.status.busy": "2022-11-22T16:40:27.856794Z",
     "iopub.status.idle": "2022-11-22T16:40:27.862229Z",
     "shell.execute_reply": "2022-11-22T16:40:27.861649Z"
    },
    "papermill": {
     "duration": 0.022228,
     "end_time": "2022-11-22T16:40:27.863971",
     "exception": false,
     "start_time": "2022-11-22T16:40:27.841743",
     "status": "completed"
    },
    "tags": []
   },
   "outputs": [
    {
     "data": {
      "text/plain": [
       "array([[ 4,  6,  8],\n",
       "       [10, 12, 14]])"
      ]
     },
     "execution_count": 28,
     "metadata": {},
     "output_type": "execute_result"
    }
   ],
   "source": [
    "A+B"
   ]
  },
  {
   "cell_type": "code",
   "execution_count": 29,
   "id": "ce5c7d15",
   "metadata": {
    "execution": {
     "iopub.execute_input": "2022-11-22T16:40:27.891518Z",
     "iopub.status.busy": "2022-11-22T16:40:27.890668Z",
     "iopub.status.idle": "2022-11-22T16:40:27.895930Z",
     "shell.execute_reply": "2022-11-22T16:40:27.895345Z"
    },
    "papermill": {
     "duration": 0.020783,
     "end_time": "2022-11-22T16:40:27.897591",
     "exception": false,
     "start_time": "2022-11-22T16:40:27.876808",
     "status": "completed"
    },
    "tags": []
   },
   "outputs": [
    {
     "data": {
      "text/plain": [
       "array([[ True,  True],\n",
       "       [ True,  True],\n",
       "       [ True,  True]])"
      ]
     },
     "execution_count": 29,
     "metadata": {},
     "output_type": "execute_result"
    }
   ],
   "source": [
    "#행렬의 전치의 성질\n",
    "A.T + B.T == (A+B).T"
   ]
  },
  {
   "cell_type": "code",
   "execution_count": 30,
   "id": "a7ac4ed7",
   "metadata": {
    "execution": {
     "iopub.execute_input": "2022-11-22T16:40:27.924216Z",
     "iopub.status.busy": "2022-11-22T16:40:27.923630Z",
     "iopub.status.idle": "2022-11-22T16:40:27.928791Z",
     "shell.execute_reply": "2022-11-22T16:40:27.928178Z"
    },
    "papermill": {
     "duration": 0.020278,
     "end_time": "2022-11-22T16:40:27.930425",
     "exception": false,
     "start_time": "2022-11-22T16:40:27.910147",
     "status": "completed"
    },
    "tags": []
   },
   "outputs": [
    {
     "data": {
      "text/plain": [
       "array([[ 26,  44],\n",
       "       [ 62, 107]])"
      ]
     },
     "execution_count": 30,
     "metadata": {},
     "output_type": "execute_result"
    }
   ],
   "source": [
    "#행렬 곱 연산자:@\n",
    "A @ B.T"
   ]
  },
  {
   "cell_type": "code",
   "execution_count": 31,
   "id": "4ada4c3a",
   "metadata": {
    "execution": {
     "iopub.execute_input": "2022-11-22T16:40:27.957177Z",
     "iopub.status.busy": "2022-11-22T16:40:27.956667Z",
     "iopub.status.idle": "2022-11-22T16:40:27.961408Z",
     "shell.execute_reply": "2022-11-22T16:40:27.960806Z"
    },
    "papermill": {
     "duration": 0.020773,
     "end_time": "2022-11-22T16:40:27.963748",
     "exception": false,
     "start_time": "2022-11-22T16:40:27.942975",
     "status": "completed"
    },
    "tags": []
   },
   "outputs": [
    {
     "data": {
      "text/plain": [
       "array([[ 26,  44],\n",
       "       [ 62, 107]])"
      ]
     },
     "execution_count": 31,
     "metadata": {},
     "output_type": "execute_result"
    }
   ],
   "source": [
    "# 행렬 곱 함수: np.matmul\n",
    "np.matmul(A,B.T)"
   ]
  },
  {
   "cell_type": "code",
   "execution_count": 32,
   "id": "5885157b",
   "metadata": {
    "execution": {
     "iopub.execute_input": "2022-11-22T16:40:27.992720Z",
     "iopub.status.busy": "2022-11-22T16:40:27.992217Z",
     "iopub.status.idle": "2022-11-22T16:40:27.996225Z",
     "shell.execute_reply": "2022-11-22T16:40:27.995296Z"
    },
    "papermill": {
     "duration": 0.020601,
     "end_time": "2022-11-22T16:40:27.998084",
     "exception": false,
     "start_time": "2022-11-22T16:40:27.977483",
     "status": "completed"
    },
    "tags": []
   },
   "outputs": [],
   "source": [
    "B = B.T"
   ]
  },
  {
   "cell_type": "code",
   "execution_count": 33,
   "id": "4f30f578",
   "metadata": {
    "execution": {
     "iopub.execute_input": "2022-11-22T16:40:28.026239Z",
     "iopub.status.busy": "2022-11-22T16:40:28.025675Z",
     "iopub.status.idle": "2022-11-22T16:40:28.030728Z",
     "shell.execute_reply": "2022-11-22T16:40:28.030089Z"
    },
    "papermill": {
     "duration": 0.021244,
     "end_time": "2022-11-22T16:40:28.032516",
     "exception": false,
     "start_time": "2022-11-22T16:40:28.011272",
     "status": "completed"
    },
    "tags": []
   },
   "outputs": [
    {
     "data": {
      "text/plain": [
       "array([[ True,  True],\n",
       "       [ True,  True]])"
      ]
     },
     "execution_count": 33,
     "metadata": {},
     "output_type": "execute_result"
    }
   ],
   "source": [
    "# 행렬 곱의 전치\n",
    "(A@B).T == B.T @ A.T"
   ]
  },
  {
   "cell_type": "code",
   "execution_count": 34,
   "id": "61533728",
   "metadata": {
    "execution": {
     "iopub.execute_input": "2022-11-22T16:40:28.060180Z",
     "iopub.status.busy": "2022-11-22T16:40:28.059637Z",
     "iopub.status.idle": "2022-11-22T16:40:28.065525Z",
     "shell.execute_reply": "2022-11-22T16:40:28.064466Z"
    },
    "papermill": {
     "duration": 0.022311,
     "end_time": "2022-11-22T16:40:28.067747",
     "exception": false,
     "start_time": "2022-11-22T16:40:28.045436",
     "status": "completed"
    },
    "tags": []
   },
   "outputs": [
    {
     "data": {
      "text/plain": [
       "array([[0., 0., 0.],\n",
       "       [0., 0., 0.],\n",
       "       [0., 0., 0.]])"
      ]
     },
     "execution_count": 34,
     "metadata": {},
     "output_type": "execute_result"
    }
   ],
   "source": [
    "#영행렬\n",
    "size = 3\n",
    "np.zeros(shape=(size,size))"
   ]
  },
  {
   "cell_type": "code",
   "execution_count": 35,
   "id": "3e10de04",
   "metadata": {
    "execution": {
     "iopub.execute_input": "2022-11-22T16:40:28.095948Z",
     "iopub.status.busy": "2022-11-22T16:40:28.095434Z",
     "iopub.status.idle": "2022-11-22T16:40:28.100657Z",
     "shell.execute_reply": "2022-11-22T16:40:28.099890Z"
    },
    "papermill": {
     "duration": 0.021823,
     "end_time": "2022-11-22T16:40:28.102845",
     "exception": false,
     "start_time": "2022-11-22T16:40:28.081022",
     "status": "completed"
    },
    "tags": []
   },
   "outputs": [
    {
     "data": {
      "text/plain": [
       "array([[1., 0., 0.],\n",
       "       [0., 1., 0.],\n",
       "       [0., 0., 1.]])"
      ]
     },
     "execution_count": 35,
     "metadata": {},
     "output_type": "execute_result"
    }
   ],
   "source": [
    "#항등행렬\n",
    "np.identity(n=size)"
   ]
  },
  {
   "cell_type": "code",
   "execution_count": 36,
   "id": "7aa5173b",
   "metadata": {
    "execution": {
     "iopub.execute_input": "2022-11-22T16:40:28.131007Z",
     "iopub.status.busy": "2022-11-22T16:40:28.130484Z",
     "iopub.status.idle": "2022-11-22T16:40:28.136258Z",
     "shell.execute_reply": "2022-11-22T16:40:28.135591Z"
    },
    "papermill": {
     "duration": 0.022139,
     "end_time": "2022-11-22T16:40:28.138245",
     "exception": false,
     "start_time": "2022-11-22T16:40:28.116106",
     "status": "completed"
    },
    "tags": []
   },
   "outputs": [
    {
     "data": {
      "text/plain": [
       "array([[1, 0, 0],\n",
       "       [0, 2, 0],\n",
       "       [0, 0, 3]])"
      ]
     },
     "execution_count": 36,
     "metadata": {},
     "output_type": "execute_result"
    }
   ],
   "source": [
    "#대각행렬\n",
    "np.diag([1,2,3])"
   ]
  },
  {
   "cell_type": "code",
   "execution_count": 37,
   "id": "22901406",
   "metadata": {
    "execution": {
     "iopub.execute_input": "2022-11-22T16:40:28.166576Z",
     "iopub.status.busy": "2022-11-22T16:40:28.165968Z",
     "iopub.status.idle": "2022-11-22T16:40:28.173027Z",
     "shell.execute_reply": "2022-11-22T16:40:28.171638Z"
    },
    "papermill": {
     "duration": 0.023564,
     "end_time": "2022-11-22T16:40:28.175214",
     "exception": false,
     "start_time": "2022-11-22T16:40:28.151650",
     "status": "completed"
    },
    "tags": []
   },
   "outputs": [
    {
     "data": {
      "text/plain": [
       "array([[1, 2, 3],\n",
       "       [0, 2, 7],\n",
       "       [0, 0, 5]])"
      ]
     },
     "execution_count": 37,
     "metadata": {},
     "output_type": "execute_result"
    }
   ],
   "source": [
    "# 상삼각행렬\n",
    "np.triu([[1,2,3],[1,2,7],[7,8,5]], k=0)"
   ]
  },
  {
   "cell_type": "code",
   "execution_count": 38,
   "id": "16f9b3aa",
   "metadata": {
    "execution": {
     "iopub.execute_input": "2022-11-22T16:40:28.207724Z",
     "iopub.status.busy": "2022-11-22T16:40:28.206554Z",
     "iopub.status.idle": "2022-11-22T16:40:28.213927Z",
     "shell.execute_reply": "2022-11-22T16:40:28.213032Z"
    },
    "papermill": {
     "duration": 0.025004,
     "end_time": "2022-11-22T16:40:28.215839",
     "exception": false,
     "start_time": "2022-11-22T16:40:28.190835",
     "status": "completed"
    },
    "tags": []
   },
   "outputs": [
    {
     "data": {
      "text/plain": [
       "array([[1, 0],\n",
       "       [0, 1]])"
      ]
     },
     "execution_count": 38,
     "metadata": {},
     "output_type": "execute_result"
    }
   ],
   "source": [
    "#A^T*A = A*A^T = I 일때 A는 직교행렬(orthogonal matrix)\n",
    "A = np.array([[1,0],[0,1]])\n",
    "A"
   ]
  },
  {
   "cell_type": "code",
   "execution_count": 39,
   "id": "fd62d566",
   "metadata": {
    "execution": {
     "iopub.execute_input": "2022-11-22T16:40:28.247325Z",
     "iopub.status.busy": "2022-11-22T16:40:28.245961Z",
     "iopub.status.idle": "2022-11-22T16:40:28.252269Z",
     "shell.execute_reply": "2022-11-22T16:40:28.251629Z"
    },
    "papermill": {
     "duration": 0.022478,
     "end_time": "2022-11-22T16:40:28.254014",
     "exception": false,
     "start_time": "2022-11-22T16:40:28.231536",
     "status": "completed"
    },
    "tags": []
   },
   "outputs": [
    {
     "data": {
      "text/plain": [
       "array([[1, 0],\n",
       "       [0, 1]])"
      ]
     },
     "execution_count": 39,
     "metadata": {},
     "output_type": "execute_result"
    }
   ],
   "source": [
    "A.T@A"
   ]
  },
  {
   "cell_type": "code",
   "execution_count": 40,
   "id": "fbbd3f6c",
   "metadata": {
    "execution": {
     "iopub.execute_input": "2022-11-22T16:40:28.282584Z",
     "iopub.status.busy": "2022-11-22T16:40:28.281927Z",
     "iopub.status.idle": "2022-11-22T16:40:28.290131Z",
     "shell.execute_reply": "2022-11-22T16:40:28.288969Z"
    },
    "papermill": {
     "duration": 0.025164,
     "end_time": "2022-11-22T16:40:28.292534",
     "exception": false,
     "start_time": "2022-11-22T16:40:28.267370",
     "status": "completed"
    },
    "tags": []
   },
   "outputs": [
    {
     "data": {
      "text/plain": [
       "array([[1.25, 0.5 ],\n",
       "       [0.5 , 2.  ]])"
      ]
     },
     "execution_count": 40,
     "metadata": {},
     "output_type": "execute_result"
    }
   ],
   "source": [
    "#선형방적식과 후방대입법\n",
    "A = np.array([[1,1],[1/2, -1]])\n",
    "XTX = A.T@A\n",
    "XTX"
   ]
  },
  {
   "cell_type": "code",
   "execution_count": 41,
   "id": "a14145e4",
   "metadata": {
    "execution": {
     "iopub.execute_input": "2022-11-22T16:40:28.324797Z",
     "iopub.status.busy": "2022-11-22T16:40:28.324418Z",
     "iopub.status.idle": "2022-11-22T16:40:28.343344Z",
     "shell.execute_reply": "2022-11-22T16:40:28.342445Z"
    },
    "papermill": {
     "duration": 0.03633,
     "end_time": "2022-11-22T16:40:28.345170",
     "exception": false,
     "start_time": "2022-11-22T16:40:28.308840",
     "status": "completed"
    },
    "tags": []
   },
   "outputs": [
    {
     "data": {
      "text/plain": [
       "array([[-1.35, -1.21],\n",
       "       [ 0.  ,  1.67]])"
      ]
     },
     "execution_count": 41,
     "metadata": {},
     "output_type": "execute_result"
    }
   ],
   "source": [
    "#QR 분해\n",
    "Q, R = la.qr(XTX)\n",
    "R.round(2)"
   ]
  },
  {
   "cell_type": "code",
   "execution_count": 42,
   "id": "0eddc902",
   "metadata": {
    "execution": {
     "iopub.execute_input": "2022-11-22T16:40:28.374609Z",
     "iopub.status.busy": "2022-11-22T16:40:28.374234Z",
     "iopub.status.idle": "2022-11-22T16:40:28.381450Z",
     "shell.execute_reply": "2022-11-22T16:40:28.380223Z"
    },
    "papermill": {
     "duration": 0.024882,
     "end_time": "2022-11-22T16:40:28.383821",
     "exception": false,
     "start_time": "2022-11-22T16:40:28.358939",
     "status": "completed"
    },
    "tags": []
   },
   "outputs": [
    {
     "data": {
      "text/plain": [
       "array([-4.46,  0.37])"
      ]
     },
     "execution_count": 42,
     "metadata": {},
     "output_type": "execute_result"
    }
   ],
   "source": [
    "b = np.array([4,2])\n",
    "np.round(Q.T @ b, 2)"
   ]
  },
  {
   "cell_type": "code",
   "execution_count": 43,
   "id": "8b268018",
   "metadata": {
    "execution": {
     "iopub.execute_input": "2022-11-22T16:40:28.415118Z",
     "iopub.status.busy": "2022-11-22T16:40:28.414509Z",
     "iopub.status.idle": "2022-11-22T16:40:28.420893Z",
     "shell.execute_reply": "2022-11-22T16:40:28.419766Z"
    },
    "papermill": {
     "duration": 0.023336,
     "end_time": "2022-11-22T16:40:28.422799",
     "exception": false,
     "start_time": "2022-11-22T16:40:28.399463",
     "status": "completed"
    },
    "tags": []
   },
   "outputs": [
    {
     "data": {
      "text/plain": [
       "array([[5, 1, 5],\n",
       "       [3, 9, 8],\n",
       "       [2, 1, 4]])"
      ]
     },
     "execution_count": 43,
     "metadata": {},
     "output_type": "execute_result"
    }
   ],
   "source": [
    "#하우스 홀더 변환 이해하기\n",
    "A = np.array([[5,1,5],\n",
    "             [3,9,8],\n",
    "             [2,1,4]])\n",
    "A"
   ]
  },
  {
   "cell_type": "code",
   "execution_count": 44,
   "id": "e1deab93",
   "metadata": {
    "execution": {
     "iopub.execute_input": "2022-11-22T16:40:28.451469Z",
     "iopub.status.busy": "2022-11-22T16:40:28.450853Z",
     "iopub.status.idle": "2022-11-22T16:40:28.458795Z",
     "shell.execute_reply": "2022-11-22T16:40:28.456248Z"
    },
    "papermill": {
     "duration": 0.024867,
     "end_time": "2022-11-22T16:40:28.461214",
     "exception": false,
     "start_time": "2022-11-22T16:40:28.436347",
     "status": "completed"
    },
    "tags": []
   },
   "outputs": [
    {
     "data": {
      "text/plain": [
       "array([[5],\n",
       "       [3],\n",
       "       [2]])"
      ]
     },
     "execution_count": 44,
     "metadata": {},
     "output_type": "execute_result"
    }
   ],
   "source": [
    "#첫번째 열벡터 추출\n",
    "a = A[:,0].reshape(-1,1)\n",
    "a"
   ]
  },
  {
   "cell_type": "code",
   "execution_count": 45,
   "id": "da5e2b40",
   "metadata": {
    "execution": {
     "iopub.execute_input": "2022-11-22T16:40:28.494649Z",
     "iopub.status.busy": "2022-11-22T16:40:28.494266Z",
     "iopub.status.idle": "2022-11-22T16:40:28.501473Z",
     "shell.execute_reply": "2022-11-22T16:40:28.500687Z"
    },
    "papermill": {
     "duration": 0.026155,
     "end_time": "2022-11-22T16:40:28.503288",
     "exception": false,
     "start_time": "2022-11-22T16:40:28.477133",
     "status": "completed"
    },
    "tags": []
   },
   "outputs": [
    {
     "data": {
      "text/plain": [
       "array([[-1.164414],\n",
       "       [ 3.      ],\n",
       "       [ 2.      ]])"
      ]
     },
     "execution_count": 45,
     "metadata": {},
     "output_type": "execute_result"
    }
   ],
   "source": [
    "# 하우스홀더 행렬 Q1 구성\n",
    "size = A.shape[0]\n",
    "e1 = np.identity(n=size)[:,0].reshape(-1,1) #단위행렬 생성후 열벡터 생성\n",
    "\n",
    "#u,v 벡터 구성\n",
    "u = a - la.norm(a)*e1\n",
    "u"
   ]
  },
  {
   "cell_type": "code",
   "execution_count": 46,
   "id": "a48cdf31",
   "metadata": {
    "execution": {
     "iopub.execute_input": "2022-11-22T16:40:28.535685Z",
     "iopub.status.busy": "2022-11-22T16:40:28.535097Z",
     "iopub.status.idle": "2022-11-22T16:40:28.541131Z",
     "shell.execute_reply": "2022-11-22T16:40:28.539775Z"
    },
    "papermill": {
     "duration": 0.025532,
     "end_time": "2022-11-22T16:40:28.543029",
     "exception": false,
     "start_time": "2022-11-22T16:40:28.517497",
     "status": "completed"
    },
    "tags": []
   },
   "outputs": [
    {
     "data": {
      "text/plain": [
       "array([[-0.30732141],\n",
       "       [ 0.79178387],\n",
       "       [ 0.52785591]])"
      ]
     },
     "execution_count": 46,
     "metadata": {},
     "output_type": "execute_result"
    }
   ],
   "source": [
    "v = u/la.norm(u)\n",
    "v"
   ]
  },
  {
   "cell_type": "code",
   "execution_count": 47,
   "id": "eaca5174",
   "metadata": {
    "execution": {
     "iopub.execute_input": "2022-11-22T16:40:28.572747Z",
     "iopub.status.busy": "2022-11-22T16:40:28.572336Z",
     "iopub.status.idle": "2022-11-22T16:40:28.576238Z",
     "shell.execute_reply": "2022-11-22T16:40:28.575155Z"
    },
    "papermill": {
     "duration": 0.021738,
     "end_time": "2022-11-22T16:40:28.578936",
     "exception": false,
     "start_time": "2022-11-22T16:40:28.557198",
     "status": "completed"
    },
    "tags": []
   },
   "outputs": [],
   "source": [
    "#84p"
   ]
  },
  {
   "cell_type": "code",
   "execution_count": null,
   "id": "98bbf346",
   "metadata": {
    "papermill": {
     "duration": 0.014465,
     "end_time": "2022-11-22T16:40:28.608092",
     "exception": false,
     "start_time": "2022-11-22T16:40:28.593627",
     "status": "completed"
    },
    "tags": []
   },
   "outputs": [],
   "source": []
  }
 ],
 "metadata": {
  "kernelspec": {
   "display_name": "Python 3",
   "language": "python",
   "name": "python3"
  },
  "language_info": {
   "codemirror_mode": {
    "name": "ipython",
    "version": 3
   },
   "file_extension": ".py",
   "mimetype": "text/x-python",
   "name": "python",
   "nbconvert_exporter": "python",
   "pygments_lexer": "ipython3",
   "version": "3.7.12"
  },
  "papermill": {
   "default_parameters": {},
   "duration": 9.490045,
   "end_time": "2022-11-22T16:40:29.242514",
   "environment_variables": {},
   "exception": null,
   "input_path": "__notebook__.ipynb",
   "output_path": "__notebook__.ipynb",
   "parameters": {},
   "start_time": "2022-11-22T16:40:19.752469",
   "version": "2.3.4"
  }
 },
 "nbformat": 4,
 "nbformat_minor": 5
}
