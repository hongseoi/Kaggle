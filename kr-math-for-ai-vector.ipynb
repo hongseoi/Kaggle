{
 "cells": [
  {
   "cell_type": "code",
   "execution_count": 1,
   "id": "8bd60b26",
   "metadata": {
    "_cell_guid": "b1076dfc-b9ad-4769-8c92-a6c4dae69d19",
    "_uuid": "8f2839f25d086af736a60e9eeb907d3b93b6e0e5",
    "execution": {
     "iopub.execute_input": "2022-11-22T16:08:51.807338Z",
     "iopub.status.busy": "2022-11-22T16:08:51.806293Z",
     "iopub.status.idle": "2022-11-22T16:08:51.996782Z",
     "shell.execute_reply": "2022-11-22T16:08:51.995898Z"
    },
    "papermill": {
     "duration": 0.20913,
     "end_time": "2022-11-22T16:08:51.999588",
     "exception": false,
     "start_time": "2022-11-22T16:08:51.790458",
     "status": "completed"
    },
    "tags": []
   },
   "outputs": [],
   "source": [
    "# This Python 3 environment comes with many helpful analytics libraries installed\n",
    "# It is defined by the kaggle/python Docker image: https://github.com/kaggle/docker-python\n",
    "# For example, here's several helpful packages to load\n",
    "\n",
    "#import libraries\n",
    "import numpy as np # linear algebra\n",
    "import pandas as pd # data processing, CSV file I/O (e.g. pd.read_csv)\n",
    "import scipy\n",
    "from scipy import linalg as la\n",
    "import matplotlib.pyplot as plt\n",
    "\n",
    "# Input data files are available in the read-only \"../input/\" directory\n",
    "# For example, running this (by clicking run or pressing Shift+Enter) will list all files under the input directory\n",
    "\n",
    "import os\n",
    "for dirname, _, filenames in os.walk('/kaggle/input'):\n",
    "    for filename in filenames:\n",
    "        print(os.path.join(dirname, filename))\n",
    "\n",
    "# You can write up to 20GB to the current directory (/kaggle/working/) that gets preserved as output when you create a version using \"Save & Run All\" \n",
    "# You can also write temporary files to /kaggle/temp/, but they won't be saved outside of the current session"
   ]
  },
  {
   "cell_type": "markdown",
   "id": "329fbba6",
   "metadata": {
    "papermill": {
     "duration": 0.01101,
     "end_time": "2022-11-22T16:08:52.022196",
     "exception": false,
     "start_time": "2022-11-22T16:08:52.011186",
     "status": "completed"
    },
    "tags": []
   },
   "source": [
    "<h1>Express Vector</h1>"
   ]
  },
  {
   "cell_type": "code",
   "execution_count": 2,
   "id": "b19a823b",
   "metadata": {
    "execution": {
     "iopub.execute_input": "2022-11-22T16:08:52.048747Z",
     "iopub.status.busy": "2022-11-22T16:08:52.047644Z",
     "iopub.status.idle": "2022-11-22T16:08:52.057150Z",
     "shell.execute_reply": "2022-11-22T16:08:52.056111Z"
    },
    "papermill": {
     "duration": 0.024476,
     "end_time": "2022-11-22T16:08:52.059615",
     "exception": false,
     "start_time": "2022-11-22T16:08:52.035139",
     "status": "completed"
    },
    "tags": []
   },
   "outputs": [
    {
     "name": "stdout",
     "output_type": "stream",
     "text": [
      "[1 2 3 4 5]\n",
      "1\n"
     ]
    }
   ],
   "source": [
    "#create vector\n",
    "v = np.array([1,2,3,4,5])\n",
    "\n",
    "print(v)\n",
    "print(v[0])"
   ]
  },
  {
   "cell_type": "code",
   "execution_count": 3,
   "id": "4a5be2b2",
   "metadata": {
    "execution": {
     "iopub.execute_input": "2022-11-22T16:08:52.085157Z",
     "iopub.status.busy": "2022-11-22T16:08:52.084468Z",
     "iopub.status.idle": "2022-11-22T16:08:52.092098Z",
     "shell.execute_reply": "2022-11-22T16:08:52.091079Z"
    },
    "papermill": {
     "duration": 0.023197,
     "end_time": "2022-11-22T16:08:52.094535",
     "exception": false,
     "start_time": "2022-11-22T16:08:52.071338",
     "status": "completed"
    },
    "tags": []
   },
   "outputs": [
    {
     "data": {
      "text/plain": [
       "(5,)"
      ]
     },
     "execution_count": 3,
     "metadata": {},
     "output_type": "execute_result"
    }
   ],
   "source": [
    "# vector's size\n",
    "v.shape"
   ]
  },
  {
   "cell_type": "code",
   "execution_count": 4,
   "id": "f114a8fc",
   "metadata": {
    "execution": {
     "iopub.execute_input": "2022-11-22T16:08:52.119765Z",
     "iopub.status.busy": "2022-11-22T16:08:52.119323Z",
     "iopub.status.idle": "2022-11-22T16:08:52.126592Z",
     "shell.execute_reply": "2022-11-22T16:08:52.125435Z"
    },
    "papermill": {
     "duration": 0.022581,
     "end_time": "2022-11-22T16:08:52.128896",
     "exception": false,
     "start_time": "2022-11-22T16:08:52.106315",
     "status": "completed"
    },
    "tags": []
   },
   "outputs": [
    {
     "data": {
      "text/plain": [
       "array([1, 2])"
      ]
     },
     "execution_count": 4,
     "metadata": {},
     "output_type": "execute_result"
    }
   ],
   "source": [
    "#부분벡터(sub vector)\n",
    "v_sub = v[0:2]\n",
    "v_sub"
   ]
  },
  {
   "cell_type": "code",
   "execution_count": 5,
   "id": "125631b1",
   "metadata": {
    "execution": {
     "iopub.execute_input": "2022-11-22T16:08:52.153997Z",
     "iopub.status.busy": "2022-11-22T16:08:52.153600Z",
     "iopub.status.idle": "2022-11-22T16:08:52.160323Z",
     "shell.execute_reply": "2022-11-22T16:08:52.159537Z"
    },
    "papermill": {
     "duration": 0.02158,
     "end_time": "2022-11-22T16:08:52.162308",
     "exception": false,
     "start_time": "2022-11-22T16:08:52.140728",
     "status": "completed"
    },
    "tags": []
   },
   "outputs": [
    {
     "data": {
      "text/plain": [
       "array([0., 0., 0., 0., 0.])"
      ]
     },
     "execution_count": 5,
     "metadata": {},
     "output_type": "execute_result"
    }
   ],
   "source": [
    "#zero vector\n",
    "size = 5\n",
    "zeros = np.zeros(shape=(size))\n",
    "zeros"
   ]
  },
  {
   "cell_type": "code",
   "execution_count": 6,
   "id": "f90617e9",
   "metadata": {
    "execution": {
     "iopub.execute_input": "2022-11-22T16:08:52.188130Z",
     "iopub.status.busy": "2022-11-22T16:08:52.187478Z",
     "iopub.status.idle": "2022-11-22T16:08:52.194146Z",
     "shell.execute_reply": "2022-11-22T16:08:52.193111Z"
    },
    "papermill": {
     "duration": 0.021896,
     "end_time": "2022-11-22T16:08:52.196164",
     "exception": false,
     "start_time": "2022-11-22T16:08:52.174268",
     "status": "completed"
    },
    "tags": []
   },
   "outputs": [
    {
     "data": {
      "text/plain": [
       "array([0., 1., 0.])"
      ]
     },
     "execution_count": 6,
     "metadata": {},
     "output_type": "execute_result"
    }
   ],
   "source": [
    "# 단위벡터(unit vector): a value in vector is 1, and the others are 0\n",
    "e = np.zeros(shape=(3,))\n",
    "i = 1\n",
    "e[i] = 1\n",
    "e"
   ]
  },
  {
   "cell_type": "code",
   "execution_count": 7,
   "id": "4fd13a53",
   "metadata": {
    "execution": {
     "iopub.execute_input": "2022-11-22T16:08:52.222364Z",
     "iopub.status.busy": "2022-11-22T16:08:52.221729Z",
     "iopub.status.idle": "2022-11-22T16:08:52.228366Z",
     "shell.execute_reply": "2022-11-22T16:08:52.227610Z"
    },
    "papermill": {
     "duration": 0.021991,
     "end_time": "2022-11-22T16:08:52.230313",
     "exception": false,
     "start_time": "2022-11-22T16:08:52.208322",
     "status": "completed"
    },
    "tags": []
   },
   "outputs": [
    {
     "data": {
      "text/plain": [
       "array([[1., 1., 1., 1.],\n",
       "       [1., 1., 1., 1.],\n",
       "       [1., 1., 1., 1.]])"
      ]
     },
     "execution_count": 7,
     "metadata": {},
     "output_type": "execute_result"
    }
   ],
   "source": [
    "# 1vector : all elements' value are 1\n",
    "one = np.ones(shape=(3,4))\n",
    "one"
   ]
  },
  {
   "cell_type": "code",
   "execution_count": 8,
   "id": "c1a0eb14",
   "metadata": {
    "execution": {
     "iopub.execute_input": "2022-11-22T16:08:52.256441Z",
     "iopub.status.busy": "2022-11-22T16:08:52.255808Z",
     "iopub.status.idle": "2022-11-22T16:08:52.262265Z",
     "shell.execute_reply": "2022-11-22T16:08:52.261551Z"
    },
    "papermill": {
     "duration": 0.021992,
     "end_time": "2022-11-22T16:08:52.264410",
     "exception": false,
     "start_time": "2022-11-22T16:08:52.242418",
     "status": "completed"
    },
    "tags": []
   },
   "outputs": [
    {
     "data": {
      "text/plain": [
       "array([4, 6])"
      ]
     },
     "execution_count": 8,
     "metadata": {},
     "output_type": "execute_result"
    }
   ],
   "source": [
    "# vector addition\n",
    "a = np.array([1,2])\n",
    "b = np.array([3,4])\n",
    "\n",
    "a+b"
   ]
  },
  {
   "cell_type": "code",
   "execution_count": 9,
   "id": "6ad621ba",
   "metadata": {
    "execution": {
     "iopub.execute_input": "2022-11-22T16:08:52.295900Z",
     "iopub.status.busy": "2022-11-22T16:08:52.295011Z",
     "iopub.status.idle": "2022-11-22T16:08:52.302547Z",
     "shell.execute_reply": "2022-11-22T16:08:52.301440Z"
    },
    "papermill": {
     "duration": 0.027358,
     "end_time": "2022-11-22T16:08:52.305752",
     "exception": false,
     "start_time": "2022-11-22T16:08:52.278394",
     "status": "completed"
    },
    "tags": []
   },
   "outputs": [
    {
     "data": {
      "text/plain": [
       "array([ True,  True])"
      ]
     },
     "execution_count": 9,
     "metadata": {},
     "output_type": "execute_result"
    }
   ],
   "source": [
    "#commutative law\n",
    "a+b == b+a"
   ]
  },
  {
   "cell_type": "code",
   "execution_count": 10,
   "id": "7ccc8e72",
   "metadata": {
    "execution": {
     "iopub.execute_input": "2022-11-22T16:08:52.338371Z",
     "iopub.status.busy": "2022-11-22T16:08:52.337700Z",
     "iopub.status.idle": "2022-11-22T16:08:52.343995Z",
     "shell.execute_reply": "2022-11-22T16:08:52.343209Z"
    },
    "papermill": {
     "duration": 0.025225,
     "end_time": "2022-11-22T16:08:52.346129",
     "exception": false,
     "start_time": "2022-11-22T16:08:52.320904",
     "status": "completed"
    },
    "tags": []
   },
   "outputs": [
    {
     "data": {
      "text/plain": [
       "array([ True,  True])"
      ]
     },
     "execution_count": 10,
     "metadata": {},
     "output_type": "execute_result"
    }
   ],
   "source": [
    "# combination law\n",
    "c = np.array([5,6])\n",
    "\n",
    "(a+b)+c == a+(b+c)"
   ]
  },
  {
   "cell_type": "code",
   "execution_count": 11,
   "id": "b68525ae",
   "metadata": {
    "execution": {
     "iopub.execute_input": "2022-11-22T16:08:52.372985Z",
     "iopub.status.busy": "2022-11-22T16:08:52.372510Z",
     "iopub.status.idle": "2022-11-22T16:08:52.379086Z",
     "shell.execute_reply": "2022-11-22T16:08:52.378044Z"
    },
    "papermill": {
     "duration": 0.022382,
     "end_time": "2022-11-22T16:08:52.381222",
     "exception": false,
     "start_time": "2022-11-22T16:08:52.358840",
     "status": "completed"
    },
    "tags": []
   },
   "outputs": [
    {
     "data": {
      "text/plain": [
       "array([2, 4])"
      ]
     },
     "execution_count": 11,
     "metadata": {},
     "output_type": "execute_result"
    }
   ],
   "source": [
    "#scalar multiplication\n",
    "s = 2\n",
    "a*s"
   ]
  },
  {
   "cell_type": "markdown",
   "id": "e1ab1c75",
   "metadata": {
    "papermill": {
     "duration": 0.012257,
     "end_time": "2022-11-22T16:08:52.406084",
     "exception": false,
     "start_time": "2022-11-22T16:08:52.393827",
     "status": "completed"
    },
    "tags": []
   },
   "source": [
    "<h3>Inner product</h3>\n",
    "두 벡터의 각 성분끼리의 곱의 합 <br>\n",
    "$a^Tb =\\displaystyle\\sum_{i}{(a_i b_i)}$\n",
    "\n",
    "<h3>Euclidean Norm</h3><br>\n",
    "벡터의 길이, 크기(magnititude)<br>****\n",
    "$||a|| = \\sqrt{a^Ta} = \\sqrt{a_1^2 + ... + a_n^2}$"
   ]
  },
  {
   "cell_type": "code",
   "execution_count": 12,
   "id": "5dad8139",
   "metadata": {
    "execution": {
     "iopub.execute_input": "2022-11-22T16:08:52.432931Z",
     "iopub.status.busy": "2022-11-22T16:08:52.432524Z",
     "iopub.status.idle": "2022-11-22T16:08:52.438531Z",
     "shell.execute_reply": "2022-11-22T16:08:52.437443Z"
    },
    "papermill": {
     "duration": 0.022231,
     "end_time": "2022-11-22T16:08:52.440906",
     "exception": false,
     "start_time": "2022-11-22T16:08:52.418675",
     "status": "completed"
    },
    "tags": []
   },
   "outputs": [
    {
     "name": "stdout",
     "output_type": "stream",
     "text": [
      "11\n",
      "11\n",
      "11\n"
     ]
    }
   ],
   "source": [
    "# inner product(벡터 내적): 두 벡터의 각 성분끼리의 곱의 합\n",
    "#1.\n",
    "print(np.sum(a*b))\n",
    "\n",
    "#2.\n",
    "print(np.inner(a,b))\n",
    "\n",
    "#3.\n",
    "print(np.dot(a,b))"
   ]
  },
  {
   "cell_type": "code",
   "execution_count": 13,
   "id": "6d1883f5",
   "metadata": {
    "execution": {
     "iopub.execute_input": "2022-11-22T16:08:52.469350Z",
     "iopub.status.busy": "2022-11-22T16:08:52.468729Z",
     "iopub.status.idle": "2022-11-22T16:08:52.475490Z",
     "shell.execute_reply": "2022-11-22T16:08:52.474326Z"
    },
    "papermill": {
     "duration": 0.023369,
     "end_time": "2022-11-22T16:08:52.477797",
     "exception": false,
     "start_time": "2022-11-22T16:08:52.454428",
     "status": "completed"
    },
    "tags": []
   },
   "outputs": [
    {
     "name": "stdout",
     "output_type": "stream",
     "text": [
      "True\n",
      "True\n",
      "True\n"
     ]
    }
   ],
   "source": [
    "# characters of inner product\n",
    "print(np.dot(a,b) == np.dot(b,a))\n",
    "print(np.dot(2*a,b)==2*np.dot(a,b))\n",
    "print(np.dot(a+b,c)==np.dot(a,c)+np.dot(b,c))"
   ]
  },
  {
   "cell_type": "code",
   "execution_count": 14,
   "id": "b853e873",
   "metadata": {
    "execution": {
     "iopub.execute_input": "2022-11-22T16:08:52.504859Z",
     "iopub.status.busy": "2022-11-22T16:08:52.504443Z",
     "iopub.status.idle": "2022-11-22T16:08:52.511029Z",
     "shell.execute_reply": "2022-11-22T16:08:52.509973Z"
    },
    "papermill": {
     "duration": 0.023013,
     "end_time": "2022-11-22T16:08:52.513396",
     "exception": false,
     "start_time": "2022-11-22T16:08:52.490383",
     "status": "completed"
    },
    "tags": []
   },
   "outputs": [
    {
     "name": "stdout",
     "output_type": "stream",
     "text": [
      "6.0\n",
      "2.0\n",
      "14\n"
     ]
    }
   ],
   "source": [
    "# 내적의 활용\n",
    "a = np.array([1,2,3])\n",
    "ones = np.ones(shape=(3,))\n",
    "\n",
    "##1. 합\n",
    "print(np.dot(ones,a))\n",
    "\n",
    "##2.평균\n",
    "print(np.dot(ones,a)/len(a))\n",
    "\n",
    "##3.제곱합\n",
    "print(np.dot(a,a))"
   ]
  },
  {
   "cell_type": "code",
   "execution_count": 15,
   "id": "c7955b99",
   "metadata": {
    "execution": {
     "iopub.execute_input": "2022-11-22T16:08:52.540479Z",
     "iopub.status.busy": "2022-11-22T16:08:52.540091Z",
     "iopub.status.idle": "2022-11-22T16:08:52.547879Z",
     "shell.execute_reply": "2022-11-22T16:08:52.546595Z"
    },
    "papermill": {
     "duration": 0.023946,
     "end_time": "2022-11-22T16:08:52.549971",
     "exception": false,
     "start_time": "2022-11-22T16:08:52.526025",
     "status": "completed"
    },
    "tags": []
   },
   "outputs": [
    {
     "data": {
      "text/plain": [
       "3.605551275463989"
      ]
     },
     "execution_count": 15,
     "metadata": {},
     "output_type": "execute_result"
    }
   ],
   "source": [
    "# Euclidean norm: length, magnitude of vector\n",
    "from scipy import linalg as la\n",
    "\n",
    "a = np.array([2,3])\n",
    "la.norm(a)"
   ]
  },
  {
   "cell_type": "code",
   "execution_count": 16,
   "id": "1aa0aa03",
   "metadata": {
    "execution": {
     "iopub.execute_input": "2022-11-22T16:08:52.577779Z",
     "iopub.status.busy": "2022-11-22T16:08:52.577364Z",
     "iopub.status.idle": "2022-11-22T16:08:52.582771Z",
     "shell.execute_reply": "2022-11-22T16:08:52.581608Z"
    },
    "papermill": {
     "duration": 0.02242,
     "end_time": "2022-11-22T16:08:52.585449",
     "exception": false,
     "start_time": "2022-11-22T16:08:52.563029",
     "status": "completed"
    },
    "tags": []
   },
   "outputs": [],
   "source": [
    "# characteristic of vector norm\n",
    "a = np.array([-1, 2, 3])\n",
    "b = np.array([1, -2, 4])"
   ]
  },
  {
   "cell_type": "raw",
   "id": "4cb1fcfb",
   "metadata": {
    "papermill": {
     "duration": 0.016412,
     "end_time": "2022-11-22T16:08:52.617248",
     "exception": false,
     "start_time": "2022-11-22T16:08:52.600836",
     "status": "completed"
    },
    "tags": []
   },
   "source": [
    "#scalar 곱\n",
    "beta = 0.5\n",
    "la.norm(beta*a) == np.abs(beta) * la.norm(a)"
   ]
  },
  {
   "cell_type": "code",
   "execution_count": 17,
   "id": "5dc99c18",
   "metadata": {
    "execution": {
     "iopub.execute_input": "2022-11-22T16:08:52.644636Z",
     "iopub.status.busy": "2022-11-22T16:08:52.644227Z",
     "iopub.status.idle": "2022-11-22T16:08:52.651400Z",
     "shell.execute_reply": "2022-11-22T16:08:52.650614Z"
    },
    "papermill": {
     "duration": 0.023538,
     "end_time": "2022-11-22T16:08:52.653411",
     "exception": false,
     "start_time": "2022-11-22T16:08:52.629873",
     "status": "completed"
    },
    "tags": []
   },
   "outputs": [
    {
     "data": {
      "text/plain": [
       "True"
      ]
     },
     "execution_count": 17,
     "metadata": {},
     "output_type": "execute_result"
    }
   ],
   "source": [
    "#삼각형의 한 변의 길이는 다른 두 변의 길이의 합보다 작다\n",
    "la.norm(a+b) <= la.norm(a)+la.norm(b)"
   ]
  },
  {
   "cell_type": "code",
   "execution_count": 18,
   "id": "96ad41f0",
   "metadata": {
    "execution": {
     "iopub.execute_input": "2022-11-22T16:08:52.681088Z",
     "iopub.status.busy": "2022-11-22T16:08:52.680407Z",
     "iopub.status.idle": "2022-11-22T16:08:52.687593Z",
     "shell.execute_reply": "2022-11-22T16:08:52.686812Z"
    },
    "papermill": {
     "duration": 0.023381,
     "end_time": "2022-11-22T16:08:52.689484",
     "exception": false,
     "start_time": "2022-11-22T16:08:52.666103",
     "status": "completed"
    },
    "tags": []
   },
   "outputs": [
    {
     "data": {
      "text/plain": [
       "True"
      ]
     },
     "execution_count": 18,
     "metadata": {},
     "output_type": "execute_result"
    }
   ],
   "source": [
    "#길이는 0보다 크거나 작다\n",
    "la.norm(a) >= 0"
   ]
  },
  {
   "cell_type": "code",
   "execution_count": 19,
   "id": "d7c52423",
   "metadata": {
    "execution": {
     "iopub.execute_input": "2022-11-22T16:08:52.716723Z",
     "iopub.status.busy": "2022-11-22T16:08:52.716281Z",
     "iopub.status.idle": "2022-11-22T16:08:52.722209Z",
     "shell.execute_reply": "2022-11-22T16:08:52.721315Z"
    },
    "papermill": {
     "duration": 0.021944,
     "end_time": "2022-11-22T16:08:52.724197",
     "exception": false,
     "start_time": "2022-11-22T16:08:52.702253",
     "status": "completed"
    },
    "tags": []
   },
   "outputs": [],
   "source": [
    "#orthonormal vector\n",
    "a1 = np.array([0,0,1]).reshape(-1,1)\n",
    "a2 = 1/np.sqrt(2)*np.array([1,1,0]).reshape(-1,1)\n",
    "a3 = 1/np.sqrt(2)*np.array([1,-1,0]).reshape(-1,1)"
   ]
  },
  {
   "cell_type": "code",
   "execution_count": 20,
   "id": "873b75a9",
   "metadata": {
    "execution": {
     "iopub.execute_input": "2022-11-22T16:08:52.751362Z",
     "iopub.status.busy": "2022-11-22T16:08:52.750992Z",
     "iopub.status.idle": "2022-11-22T16:08:52.761468Z",
     "shell.execute_reply": "2022-11-22T16:08:52.760449Z"
    },
    "papermill": {
     "duration": 0.026642,
     "end_time": "2022-11-22T16:08:52.763663",
     "exception": false,
     "start_time": "2022-11-22T16:08:52.737021",
     "status": "completed"
    },
    "tags": []
   },
   "outputs": [
    {
     "data": {
      "text/plain": [
       "array([[ 1.,  0.,  0.],\n",
       "       [ 0.,  1., -0.],\n",
       "       [ 0., -0.,  1.]])"
      ]
     },
     "execution_count": 20,
     "metadata": {},
     "output_type": "execute_result"
    }
   ],
   "source": [
    "#norm=1, 열들의 곱\n",
    "A = np.concatenate((a1,a2,a3),axis=1)\n",
    "np.round(A.T@A,3)"
   ]
  },
  {
   "cell_type": "code",
   "execution_count": 21,
   "id": "78e0fcfd",
   "metadata": {
    "execution": {
     "iopub.execute_input": "2022-11-22T16:08:52.791365Z",
     "iopub.status.busy": "2022-11-22T16:08:52.790970Z",
     "iopub.status.idle": "2022-11-22T16:08:52.798995Z",
     "shell.execute_reply": "2022-11-22T16:08:52.797985Z"
    },
    "papermill": {
     "duration": 0.02471,
     "end_time": "2022-11-22T16:08:52.801136",
     "exception": false,
     "start_time": "2022-11-22T16:08:52.776426",
     "status": "completed"
    },
    "tags": []
   },
   "outputs": [
    {
     "data": {
      "text/plain": [
       "array([[-1.086,  0.997,  0.283, -1.506],\n",
       "       [-0.579,  1.651, -2.427, -0.429],\n",
       "       [ 1.266, -0.867, -0.679, -0.095],\n",
       "       [ 1.491, -0.639, -0.444, -0.434]])"
      ]
     },
     "execution_count": 21,
     "metadata": {},
     "output_type": "execute_result"
    }
   ],
   "source": [
    "# 2차원 배열 생성 \n",
    "A = np.array(np.random.RandomState(123).normal(size=16)).reshape(4,4)\n",
    "A.round(3)"
   ]
  },
  {
   "cell_type": "code",
   "execution_count": 22,
   "id": "e4731620",
   "metadata": {
    "execution": {
     "iopub.execute_input": "2022-11-22T16:08:52.828883Z",
     "iopub.status.busy": "2022-11-22T16:08:52.828475Z",
     "iopub.status.idle": "2022-11-22T16:08:52.836198Z",
     "shell.execute_reply": "2022-11-22T16:08:52.835201Z"
    },
    "papermill": {
     "duration": 0.024197,
     "end_time": "2022-11-22T16:08:52.838332",
     "exception": false,
     "start_time": "2022-11-22T16:08:52.814135",
     "status": "completed"
    },
    "tags": []
   },
   "outputs": [
    {
     "data": {
      "text/plain": [
       "(3, 4)"
      ]
     },
     "execution_count": 22,
     "metadata": {},
     "output_type": "execute_result"
    }
   ],
   "source": [
    "#행렬의 크기\n",
    "A = np.random.RandomState(123).randint(1,12,size=12).reshape(3,4)\n",
    "A.shape"
   ]
  },
  {
   "cell_type": "code",
   "execution_count": 23,
   "id": "d0a44aa5",
   "metadata": {
    "execution": {
     "iopub.execute_input": "2022-11-22T16:08:52.866328Z",
     "iopub.status.busy": "2022-11-22T16:08:52.865941Z",
     "iopub.status.idle": "2022-11-22T16:08:52.872194Z",
     "shell.execute_reply": "2022-11-22T16:08:52.871240Z"
    },
    "papermill": {
     "duration": 0.022523,
     "end_time": "2022-11-22T16:08:52.874254",
     "exception": false,
     "start_time": "2022-11-22T16:08:52.851731",
     "status": "completed"
    },
    "tags": []
   },
   "outputs": [
    {
     "data": {
      "text/plain": [
       "array([3, 4, 2])"
      ]
     },
     "execution_count": 23,
     "metadata": {},
     "output_type": "execute_result"
    }
   ],
   "source": [
    "#열벡터\n",
    "A[:,0]"
   ]
  },
  {
   "cell_type": "code",
   "execution_count": 24,
   "id": "1922b020",
   "metadata": {
    "execution": {
     "iopub.execute_input": "2022-11-22T16:08:52.902450Z",
     "iopub.status.busy": "2022-11-22T16:08:52.901672Z",
     "iopub.status.idle": "2022-11-22T16:08:52.908015Z",
     "shell.execute_reply": "2022-11-22T16:08:52.907107Z"
    },
    "papermill": {
     "duration": 0.022521,
     "end_time": "2022-11-22T16:08:52.909993",
     "exception": false,
     "start_time": "2022-11-22T16:08:52.887472",
     "status": "completed"
    },
    "tags": []
   },
   "outputs": [
    {
     "data": {
      "text/plain": [
       "array([3, 3, 7, 2])"
      ]
     },
     "execution_count": 24,
     "metadata": {},
     "output_type": "execute_result"
    }
   ],
   "source": [
    "#행벡터\n",
    "A[0,:]"
   ]
  },
  {
   "cell_type": "code",
   "execution_count": 25,
   "id": "15f95872",
   "metadata": {
    "execution": {
     "iopub.execute_input": "2022-11-22T16:08:52.945102Z",
     "iopub.status.busy": "2022-11-22T16:08:52.944323Z",
     "iopub.status.idle": "2022-11-22T16:08:52.952636Z",
     "shell.execute_reply": "2022-11-22T16:08:52.951314Z"
    },
    "papermill": {
     "duration": 0.02662,
     "end_time": "2022-11-22T16:08:52.954885",
     "exception": false,
     "start_time": "2022-11-22T16:08:52.928265",
     "status": "completed"
    },
    "tags": []
   },
   "outputs": [
    {
     "data": {
      "text/plain": [
       "7"
      ]
     },
     "execution_count": 25,
     "metadata": {},
     "output_type": "execute_result"
    }
   ],
   "source": [
    "#행렬의 표기법\n",
    "A[0,2]"
   ]
  },
  {
   "cell_type": "code",
   "execution_count": 26,
   "id": "68dd08c9",
   "metadata": {
    "execution": {
     "iopub.execute_input": "2022-11-22T16:08:52.984523Z",
     "iopub.status.busy": "2022-11-22T16:08:52.984135Z",
     "iopub.status.idle": "2022-11-22T16:08:52.992719Z",
     "shell.execute_reply": "2022-11-22T16:08:52.991211Z"
    },
    "papermill": {
     "duration": 0.026425,
     "end_time": "2022-11-22T16:08:52.995374",
     "exception": false,
     "start_time": "2022-11-22T16:08:52.968949",
     "status": "completed"
    },
    "tags": []
   },
   "outputs": [
    {
     "data": {
      "text/plain": [
       "array([[1, 2, 3],\n",
       "       [4, 5, 6]])"
      ]
     },
     "execution_count": 26,
     "metadata": {},
     "output_type": "execute_result"
    }
   ],
   "source": [
    "#행렬 덧셈\n",
    "A = np.arange(1,7).reshape(2,3)\n",
    "B = np.arange(3,9).reshape(2,3)\n",
    "A"
   ]
  },
  {
   "cell_type": "code",
   "execution_count": 27,
   "id": "8797a27c",
   "metadata": {
    "execution": {
     "iopub.execute_input": "2022-11-22T16:08:53.026047Z",
     "iopub.status.busy": "2022-11-22T16:08:53.025682Z",
     "iopub.status.idle": "2022-11-22T16:08:53.032437Z",
     "shell.execute_reply": "2022-11-22T16:08:53.031387Z"
    },
    "papermill": {
     "duration": 0.024864,
     "end_time": "2022-11-22T16:08:53.034826",
     "exception": false,
     "start_time": "2022-11-22T16:08:53.009962",
     "status": "completed"
    },
    "tags": []
   },
   "outputs": [
    {
     "data": {
      "text/plain": [
       "array([[3, 4, 5],\n",
       "       [6, 7, 8]])"
      ]
     },
     "execution_count": 27,
     "metadata": {},
     "output_type": "execute_result"
    }
   ],
   "source": [
    "B"
   ]
  },
  {
   "cell_type": "code",
   "execution_count": 28,
   "id": "9a25a263",
   "metadata": {
    "execution": {
     "iopub.execute_input": "2022-11-22T16:08:53.065169Z",
     "iopub.status.busy": "2022-11-22T16:08:53.064392Z",
     "iopub.status.idle": "2022-11-22T16:08:53.070481Z",
     "shell.execute_reply": "2022-11-22T16:08:53.069730Z"
    },
    "papermill": {
     "duration": 0.023184,
     "end_time": "2022-11-22T16:08:53.072422",
     "exception": false,
     "start_time": "2022-11-22T16:08:53.049238",
     "status": "completed"
    },
    "tags": []
   },
   "outputs": [
    {
     "data": {
      "text/plain": [
       "array([[ 4,  6,  8],\n",
       "       [10, 12, 14]])"
      ]
     },
     "execution_count": 28,
     "metadata": {},
     "output_type": "execute_result"
    }
   ],
   "source": [
    "A+B"
   ]
  },
  {
   "cell_type": "code",
   "execution_count": 29,
   "id": "ebe8819f",
   "metadata": {
    "execution": {
     "iopub.execute_input": "2022-11-22T16:08:53.103164Z",
     "iopub.status.busy": "2022-11-22T16:08:53.102213Z",
     "iopub.status.idle": "2022-11-22T16:08:53.109042Z",
     "shell.execute_reply": "2022-11-22T16:08:53.108202Z"
    },
    "papermill": {
     "duration": 0.024752,
     "end_time": "2022-11-22T16:08:53.111121",
     "exception": false,
     "start_time": "2022-11-22T16:08:53.086369",
     "status": "completed"
    },
    "tags": []
   },
   "outputs": [
    {
     "data": {
      "text/plain": [
       "array([[ True,  True],\n",
       "       [ True,  True],\n",
       "       [ True,  True]])"
      ]
     },
     "execution_count": 29,
     "metadata": {},
     "output_type": "execute_result"
    }
   ],
   "source": [
    "#행렬의 전치의 성질\n",
    "A.T + B.T == (A+B).T"
   ]
  },
  {
   "cell_type": "code",
   "execution_count": 30,
   "id": "a18b272e",
   "metadata": {
    "execution": {
     "iopub.execute_input": "2022-11-22T16:08:53.140506Z",
     "iopub.status.busy": "2022-11-22T16:08:53.140103Z",
     "iopub.status.idle": "2022-11-22T16:08:53.147115Z",
     "shell.execute_reply": "2022-11-22T16:08:53.146107Z"
    },
    "papermill": {
     "duration": 0.024305,
     "end_time": "2022-11-22T16:08:53.149320",
     "exception": false,
     "start_time": "2022-11-22T16:08:53.125015",
     "status": "completed"
    },
    "tags": []
   },
   "outputs": [
    {
     "data": {
      "text/plain": [
       "array([[ 26,  44],\n",
       "       [ 62, 107]])"
      ]
     },
     "execution_count": 30,
     "metadata": {},
     "output_type": "execute_result"
    }
   ],
   "source": [
    "#행렬 곱 연산자:@\n",
    "A @ B.T"
   ]
  },
  {
   "cell_type": "code",
   "execution_count": 31,
   "id": "c9ae1e5c",
   "metadata": {
    "execution": {
     "iopub.execute_input": "2022-11-22T16:08:53.179711Z",
     "iopub.status.busy": "2022-11-22T16:08:53.179305Z",
     "iopub.status.idle": "2022-11-22T16:08:53.185912Z",
     "shell.execute_reply": "2022-11-22T16:08:53.184956Z"
    },
    "papermill": {
     "duration": 0.024386,
     "end_time": "2022-11-22T16:08:53.188036",
     "exception": false,
     "start_time": "2022-11-22T16:08:53.163650",
     "status": "completed"
    },
    "tags": []
   },
   "outputs": [
    {
     "data": {
      "text/plain": [
       "array([[ 26,  44],\n",
       "       [ 62, 107]])"
      ]
     },
     "execution_count": 31,
     "metadata": {},
     "output_type": "execute_result"
    }
   ],
   "source": [
    "# 행렬 곱 함수: np.matmul\n",
    "np.matmul(A,B.T)"
   ]
  },
  {
   "cell_type": "code",
   "execution_count": 32,
   "id": "11c09ebc",
   "metadata": {
    "execution": {
     "iopub.execute_input": "2022-11-22T16:08:53.218110Z",
     "iopub.status.busy": "2022-11-22T16:08:53.217722Z",
     "iopub.status.idle": "2022-11-22T16:08:53.221521Z",
     "shell.execute_reply": "2022-11-22T16:08:53.220762Z"
    },
    "papermill": {
     "duration": 0.021314,
     "end_time": "2022-11-22T16:08:53.223485",
     "exception": false,
     "start_time": "2022-11-22T16:08:53.202171",
     "status": "completed"
    },
    "tags": []
   },
   "outputs": [],
   "source": [
    "B = B.T"
   ]
  },
  {
   "cell_type": "code",
   "execution_count": 33,
   "id": "20f7e454",
   "metadata": {
    "execution": {
     "iopub.execute_input": "2022-11-22T16:08:53.253800Z",
     "iopub.status.busy": "2022-11-22T16:08:53.252764Z",
     "iopub.status.idle": "2022-11-22T16:08:53.259429Z",
     "shell.execute_reply": "2022-11-22T16:08:53.258704Z"
    },
    "papermill": {
     "duration": 0.023841,
     "end_time": "2022-11-22T16:08:53.261434",
     "exception": false,
     "start_time": "2022-11-22T16:08:53.237593",
     "status": "completed"
    },
    "tags": []
   },
   "outputs": [
    {
     "data": {
      "text/plain": [
       "array([[ True,  True],\n",
       "       [ True,  True]])"
      ]
     },
     "execution_count": 33,
     "metadata": {},
     "output_type": "execute_result"
    }
   ],
   "source": [
    "# 행렬 곱의 전치\n",
    "(A@B).T == B.T @ A.T"
   ]
  },
  {
   "cell_type": "code",
   "execution_count": 34,
   "id": "f842f6f8",
   "metadata": {
    "execution": {
     "iopub.execute_input": "2022-11-22T16:08:53.292853Z",
     "iopub.status.busy": "2022-11-22T16:08:53.292437Z",
     "iopub.status.idle": "2022-11-22T16:08:53.299599Z",
     "shell.execute_reply": "2022-11-22T16:08:53.298600Z"
    },
    "papermill": {
     "duration": 0.024944,
     "end_time": "2022-11-22T16:08:53.301814",
     "exception": false,
     "start_time": "2022-11-22T16:08:53.276870",
     "status": "completed"
    },
    "tags": []
   },
   "outputs": [
    {
     "data": {
      "text/plain": [
       "array([[0., 0., 0.],\n",
       "       [0., 0., 0.],\n",
       "       [0., 0., 0.]])"
      ]
     },
     "execution_count": 34,
     "metadata": {},
     "output_type": "execute_result"
    }
   ],
   "source": [
    "#영행렬\n",
    "size = 3\n",
    "np.zeros(shape=(size,size))"
   ]
  },
  {
   "cell_type": "code",
   "execution_count": 35,
   "id": "446eb654",
   "metadata": {
    "execution": {
     "iopub.execute_input": "2022-11-22T16:08:53.332236Z",
     "iopub.status.busy": "2022-11-22T16:08:53.331848Z",
     "iopub.status.idle": "2022-11-22T16:08:53.338189Z",
     "shell.execute_reply": "2022-11-22T16:08:53.337193Z"
    },
    "papermill": {
     "duration": 0.024061,
     "end_time": "2022-11-22T16:08:53.340258",
     "exception": false,
     "start_time": "2022-11-22T16:08:53.316197",
     "status": "completed"
    },
    "tags": []
   },
   "outputs": [
    {
     "data": {
      "text/plain": [
       "array([[1., 0., 0.],\n",
       "       [0., 1., 0.],\n",
       "       [0., 0., 1.]])"
      ]
     },
     "execution_count": 35,
     "metadata": {},
     "output_type": "execute_result"
    }
   ],
   "source": [
    "#항등행렬\n",
    "np.identity(n=size)"
   ]
  },
  {
   "cell_type": "code",
   "execution_count": 36,
   "id": "40dbb0b1",
   "metadata": {
    "execution": {
     "iopub.execute_input": "2022-11-22T16:08:53.371354Z",
     "iopub.status.busy": "2022-11-22T16:08:53.370592Z",
     "iopub.status.idle": "2022-11-22T16:08:53.377179Z",
     "shell.execute_reply": "2022-11-22T16:08:53.376191Z"
    },
    "papermill": {
     "duration": 0.024392,
     "end_time": "2022-11-22T16:08:53.379246",
     "exception": false,
     "start_time": "2022-11-22T16:08:53.354854",
     "status": "completed"
    },
    "tags": []
   },
   "outputs": [
    {
     "data": {
      "text/plain": [
       "array([[1, 0, 0],\n",
       "       [0, 2, 0],\n",
       "       [0, 0, 3]])"
      ]
     },
     "execution_count": 36,
     "metadata": {},
     "output_type": "execute_result"
    }
   ],
   "source": [
    "#대각행렬\n",
    "np.diag([1,2,3])"
   ]
  },
  {
   "cell_type": "code",
   "execution_count": 37,
   "id": "2cf6aed2",
   "metadata": {
    "execution": {
     "iopub.execute_input": "2022-11-22T16:08:53.409990Z",
     "iopub.status.busy": "2022-11-22T16:08:53.409592Z",
     "iopub.status.idle": "2022-11-22T16:08:53.416533Z",
     "shell.execute_reply": "2022-11-22T16:08:53.415716Z"
    },
    "papermill": {
     "duration": 0.02484,
     "end_time": "2022-11-22T16:08:53.418539",
     "exception": false,
     "start_time": "2022-11-22T16:08:53.393699",
     "status": "completed"
    },
    "tags": []
   },
   "outputs": [
    {
     "data": {
      "text/plain": [
       "array([[1, 2, 3],\n",
       "       [0, 2, 7],\n",
       "       [0, 0, 5]])"
      ]
     },
     "execution_count": 37,
     "metadata": {},
     "output_type": "execute_result"
    }
   ],
   "source": [
    "# 상삼각행렬\n",
    "np.triu([[1,2,3],[1,2,7],[7,8,5]], k=0)"
   ]
  },
  {
   "cell_type": "code",
   "execution_count": 38,
   "id": "dc2a9b11",
   "metadata": {
    "execution": {
     "iopub.execute_input": "2022-11-22T16:08:53.449883Z",
     "iopub.status.busy": "2022-11-22T16:08:53.449205Z",
     "iopub.status.idle": "2022-11-22T16:08:53.455924Z",
     "shell.execute_reply": "2022-11-22T16:08:53.454985Z"
    },
    "papermill": {
     "duration": 0.024871,
     "end_time": "2022-11-22T16:08:53.458089",
     "exception": false,
     "start_time": "2022-11-22T16:08:53.433218",
     "status": "completed"
    },
    "tags": []
   },
   "outputs": [
    {
     "data": {
      "text/plain": [
       "array([[1, 0],\n",
       "       [0, 1]])"
      ]
     },
     "execution_count": 38,
     "metadata": {},
     "output_type": "execute_result"
    }
   ],
   "source": [
    "#A^T*A = A*A^T = I 일때 A는 직교행렬(orthogonal matrix)\n",
    "A = np.array([[1,0],[0,1]])\n",
    "A"
   ]
  },
  {
   "cell_type": "code",
   "execution_count": 39,
   "id": "da74e321",
   "metadata": {
    "execution": {
     "iopub.execute_input": "2022-11-22T16:08:53.489230Z",
     "iopub.status.busy": "2022-11-22T16:08:53.488828Z",
     "iopub.status.idle": "2022-11-22T16:08:53.495866Z",
     "shell.execute_reply": "2022-11-22T16:08:53.494836Z"
    },
    "papermill": {
     "duration": 0.025162,
     "end_time": "2022-11-22T16:08:53.497961",
     "exception": false,
     "start_time": "2022-11-22T16:08:53.472799",
     "status": "completed"
    },
    "tags": []
   },
   "outputs": [
    {
     "data": {
      "text/plain": [
       "array([[1, 0],\n",
       "       [0, 1]])"
      ]
     },
     "execution_count": 39,
     "metadata": {},
     "output_type": "execute_result"
    }
   ],
   "source": [
    "A.T@A"
   ]
  },
  {
   "cell_type": "code",
   "execution_count": 40,
   "id": "f1f1aa24",
   "metadata": {
    "execution": {
     "iopub.execute_input": "2022-11-22T16:08:53.529789Z",
     "iopub.status.busy": "2022-11-22T16:08:53.529394Z",
     "iopub.status.idle": "2022-11-22T16:08:53.537049Z",
     "shell.execute_reply": "2022-11-22T16:08:53.535999Z"
    },
    "papermill": {
     "duration": 0.026346,
     "end_time": "2022-11-22T16:08:53.539462",
     "exception": false,
     "start_time": "2022-11-22T16:08:53.513116",
     "status": "completed"
    },
    "tags": []
   },
   "outputs": [
    {
     "data": {
      "text/plain": [
       "array([[1.25, 0.5 ],\n",
       "       [0.5 , 2.  ]])"
      ]
     },
     "execution_count": 40,
     "metadata": {},
     "output_type": "execute_result"
    }
   ],
   "source": [
    "#선형방적식과 후방대입법\n",
    "A = np.array([[1,1],[1/2, -1]])\n",
    "XTX = A.T@A\n",
    "XTX"
   ]
  },
  {
   "cell_type": "code",
   "execution_count": 41,
   "id": "0c4e1f5d",
   "metadata": {
    "execution": {
     "iopub.execute_input": "2022-11-22T16:08:53.572777Z",
     "iopub.status.busy": "2022-11-22T16:08:53.572385Z",
     "iopub.status.idle": "2022-11-22T16:08:53.588353Z",
     "shell.execute_reply": "2022-11-22T16:08:53.587489Z"
    },
    "papermill": {
     "duration": 0.035017,
     "end_time": "2022-11-22T16:08:53.590338",
     "exception": false,
     "start_time": "2022-11-22T16:08:53.555321",
     "status": "completed"
    },
    "tags": []
   },
   "outputs": [
    {
     "data": {
      "text/plain": [
       "array([[-1.35, -1.21],\n",
       "       [ 0.  ,  1.67]])"
      ]
     },
     "execution_count": 41,
     "metadata": {},
     "output_type": "execute_result"
    }
   ],
   "source": [
    "#QR 분해\n",
    "Q, R = la.qr(XTX)\n",
    "R.round(2)"
   ]
  },
  {
   "cell_type": "code",
   "execution_count": 42,
   "id": "4efcc5d9",
   "metadata": {
    "execution": {
     "iopub.execute_input": "2022-11-22T16:08:53.622211Z",
     "iopub.status.busy": "2022-11-22T16:08:53.621457Z",
     "iopub.status.idle": "2022-11-22T16:08:53.629059Z",
     "shell.execute_reply": "2022-11-22T16:08:53.628067Z"
    },
    "papermill": {
     "duration": 0.025779,
     "end_time": "2022-11-22T16:08:53.631124",
     "exception": false,
     "start_time": "2022-11-22T16:08:53.605345",
     "status": "completed"
    },
    "tags": []
   },
   "outputs": [
    {
     "data": {
      "text/plain": [
       "array([-4.46,  0.37])"
      ]
     },
     "execution_count": 42,
     "metadata": {},
     "output_type": "execute_result"
    }
   ],
   "source": [
    "b = np.array([4,2])\n",
    "np.round(Q.T @ b, 2)"
   ]
  },
  {
   "cell_type": "code",
   "execution_count": 43,
   "id": "7b4db4d7",
   "metadata": {
    "execution": {
     "iopub.execute_input": "2022-11-22T16:08:53.663257Z",
     "iopub.status.busy": "2022-11-22T16:08:53.662351Z",
     "iopub.status.idle": "2022-11-22T16:08:53.670084Z",
     "shell.execute_reply": "2022-11-22T16:08:53.669061Z"
    },
    "papermill": {
     "duration": 0.026114,
     "end_time": "2022-11-22T16:08:53.672334",
     "exception": false,
     "start_time": "2022-11-22T16:08:53.646220",
     "status": "completed"
    },
    "tags": []
   },
   "outputs": [
    {
     "data": {
      "text/plain": [
       "array([[5, 1, 5],\n",
       "       [3, 9, 8],\n",
       "       [2, 1, 4]])"
      ]
     },
     "execution_count": 43,
     "metadata": {},
     "output_type": "execute_result"
    }
   ],
   "source": [
    "#하우스 홀더 변환 이해하기\n",
    "A = np.array([[5,1,5],\n",
    "             [3,9,8],\n",
    "             [2,1,4]])\n",
    "A"
   ]
  },
  {
   "cell_type": "code",
   "execution_count": 44,
   "id": "98bb61cb",
   "metadata": {
    "execution": {
     "iopub.execute_input": "2022-11-22T16:08:53.704926Z",
     "iopub.status.busy": "2022-11-22T16:08:53.704091Z",
     "iopub.status.idle": "2022-11-22T16:08:53.711134Z",
     "shell.execute_reply": "2022-11-22T16:08:53.710366Z"
    },
    "papermill": {
     "duration": 0.02547,
     "end_time": "2022-11-22T16:08:53.713147",
     "exception": false,
     "start_time": "2022-11-22T16:08:53.687677",
     "status": "completed"
    },
    "tags": []
   },
   "outputs": [
    {
     "data": {
      "text/plain": [
       "array([[5],\n",
       "       [3],\n",
       "       [2]])"
      ]
     },
     "execution_count": 44,
     "metadata": {},
     "output_type": "execute_result"
    }
   ],
   "source": [
    "#첫번째 열벡터 추출\n",
    "a = A[:,0].reshape(-1,1)\n",
    "a"
   ]
  },
  {
   "cell_type": "code",
   "execution_count": 45,
   "id": "30a55f2b",
   "metadata": {
    "execution": {
     "iopub.execute_input": "2022-11-22T16:08:53.745749Z",
     "iopub.status.busy": "2022-11-22T16:08:53.745322Z",
     "iopub.status.idle": "2022-11-22T16:08:53.753294Z",
     "shell.execute_reply": "2022-11-22T16:08:53.752305Z"
    },
    "papermill": {
     "duration": 0.027058,
     "end_time": "2022-11-22T16:08:53.755666",
     "exception": false,
     "start_time": "2022-11-22T16:08:53.728608",
     "status": "completed"
    },
    "tags": []
   },
   "outputs": [
    {
     "data": {
      "text/plain": [
       "array([[-1.164414],\n",
       "       [ 3.      ],\n",
       "       [ 2.      ]])"
      ]
     },
     "execution_count": 45,
     "metadata": {},
     "output_type": "execute_result"
    }
   ],
   "source": [
    "# 하우스홀더 행렬 Q1 구성\n",
    "size = A.shape[0]\n",
    "e1 = np.identity(n=size)[:,0].reshape(-1,1) #단위행렬 생성후 열벡터 생성\n",
    "\n",
    "#u,v 벡터 구성\n",
    "u = a - la.norm(a)*e1\n",
    "u"
   ]
  },
  {
   "cell_type": "code",
   "execution_count": 46,
   "id": "91eba062",
   "metadata": {
    "execution": {
     "iopub.execute_input": "2022-11-22T16:08:53.788961Z",
     "iopub.status.busy": "2022-11-22T16:08:53.788551Z",
     "iopub.status.idle": "2022-11-22T16:08:53.795440Z",
     "shell.execute_reply": "2022-11-22T16:08:53.794443Z"
    },
    "papermill": {
     "duration": 0.026039,
     "end_time": "2022-11-22T16:08:53.797680",
     "exception": false,
     "start_time": "2022-11-22T16:08:53.771641",
     "status": "completed"
    },
    "tags": []
   },
   "outputs": [
    {
     "data": {
      "text/plain": [
       "array([[-0.30732141],\n",
       "       [ 0.79178387],\n",
       "       [ 0.52785591]])"
      ]
     },
     "execution_count": 46,
     "metadata": {},
     "output_type": "execute_result"
    }
   ],
   "source": [
    "v = u/la.norm(u)\n",
    "v"
   ]
  },
  {
   "cell_type": "code",
   "execution_count": 47,
   "id": "dd12182a",
   "metadata": {
    "execution": {
     "iopub.execute_input": "2022-11-22T16:08:53.831515Z",
     "iopub.status.busy": "2022-11-22T16:08:53.831116Z",
     "iopub.status.idle": "2022-11-22T16:08:53.835702Z",
     "shell.execute_reply": "2022-11-22T16:08:53.834697Z"
    },
    "papermill": {
     "duration": 0.024005,
     "end_time": "2022-11-22T16:08:53.837962",
     "exception": false,
     "start_time": "2022-11-22T16:08:53.813957",
     "status": "completed"
    },
    "tags": []
   },
   "outputs": [],
   "source": [
    "#84p"
   ]
  },
  {
   "cell_type": "code",
   "execution_count": null,
   "id": "7874ad6f",
   "metadata": {
    "papermill": {
     "duration": 0.016159,
     "end_time": "2022-11-22T16:08:53.870944",
     "exception": false,
     "start_time": "2022-11-22T16:08:53.854785",
     "status": "completed"
    },
    "tags": []
   },
   "outputs": [],
   "source": []
  }
 ],
 "metadata": {
  "kernelspec": {
   "display_name": "Python 3",
   "language": "python",
   "name": "python3"
  },
  "language_info": {
   "codemirror_mode": {
    "name": "ipython",
    "version": 3
   },
   "file_extension": ".py",
   "mimetype": "text/x-python",
   "name": "python",
   "nbconvert_exporter": "python",
   "pygments_lexer": "ipython3",
   "version": "3.7.12"
  },
  "papermill": {
   "default_parameters": {},
   "duration": 11.094185,
   "end_time": "2022-11-22T16:08:54.506844",
   "environment_variables": {},
   "exception": null,
   "input_path": "__notebook__.ipynb",
   "output_path": "__notebook__.ipynb",
   "parameters": {},
   "start_time": "2022-11-22T16:08:43.412659",
   "version": "2.3.4"
  }
 },
 "nbformat": 4,
 "nbformat_minor": 5
}
