{
 "cells": [
  {
   "cell_type": "code",
   "execution_count": 1,
   "id": "f78221f1",
   "metadata": {
    "_cell_guid": "b1076dfc-b9ad-4769-8c92-a6c4dae69d19",
    "_uuid": "8f2839f25d086af736a60e9eeb907d3b93b6e0e5",
    "execution": {
     "iopub.execute_input": "2022-11-23T11:58:51.003569Z",
     "iopub.status.busy": "2022-11-23T11:58:51.003022Z",
     "iopub.status.idle": "2022-11-23T11:58:51.234803Z",
     "shell.execute_reply": "2022-11-23T11:58:51.233627Z"
    },
    "papermill": {
     "duration": 0.251869,
     "end_time": "2022-11-23T11:58:51.237583",
     "exception": false,
     "start_time": "2022-11-23T11:58:50.985714",
     "status": "completed"
    },
    "tags": []
   },
   "outputs": [],
   "source": [
    "# This Python 3 environment comes with many helpful analytics libraries installed\n",
    "# It is defined by the kaggle/python Docker image: https://github.com/kaggle/docker-python\n",
    "# For example, here's several helpful packages to load\n",
    "\n",
    "#import libraries\n",
    "import numpy as np # linear algebra\n",
    "import pandas as pd # data processing, CSV file I/O (e.g. pd.read_csv)\n",
    "import scipy\n",
    "from scipy import linalg as la\n",
    "import matplotlib.pyplot as plt\n",
    "\n",
    "# Input data files are available in the read-only \"../input/\" directory\n",
    "# For example, running this (by clicking run or pressing Shift+Enter) will list all files under the input directory\n",
    "\n",
    "import os\n",
    "for dirname, _, filenames in os.walk('/kaggle/input'):\n",
    "    for filename in filenames:\n",
    "        print(os.path.join(dirname, filename))\n",
    "\n",
    "# You can write up to 20GB to the current directory (/kaggle/working/) that gets preserved as output when you create a version using \"Save & Run All\" \n",
    "# You can also write temporary files to /kaggle/temp/, but they won't be saved outside of the current session"
   ]
  },
  {
   "cell_type": "markdown",
   "id": "e7b0d2c2",
   "metadata": {
    "papermill": {
     "duration": 0.015462,
     "end_time": "2022-11-23T11:58:51.266360",
     "exception": false,
     "start_time": "2022-11-23T11:58:51.250898",
     "status": "completed"
    },
    "tags": []
   },
   "source": [
    "<h1>Express Vector</h1>"
   ]
  },
  {
   "cell_type": "code",
   "execution_count": 2,
   "id": "34ada9ce",
   "metadata": {
    "execution": {
     "iopub.execute_input": "2022-11-23T11:58:51.295547Z",
     "iopub.status.busy": "2022-11-23T11:58:51.294715Z",
     "iopub.status.idle": "2022-11-23T11:58:51.303619Z",
     "shell.execute_reply": "2022-11-23T11:58:51.302478Z"
    },
    "papermill": {
     "duration": 0.026283,
     "end_time": "2022-11-23T11:58:51.305981",
     "exception": false,
     "start_time": "2022-11-23T11:58:51.279698",
     "status": "completed"
    },
    "tags": []
   },
   "outputs": [
    {
     "name": "stdout",
     "output_type": "stream",
     "text": [
      "[1 2 3 4 5]\n",
      "1\n"
     ]
    }
   ],
   "source": [
    "#create vector\n",
    "v = np.array([1,2,3,4,5])\n",
    "\n",
    "print(v)\n",
    "print(v[0])"
   ]
  },
  {
   "cell_type": "code",
   "execution_count": 3,
   "id": "951e2156",
   "metadata": {
    "execution": {
     "iopub.execute_input": "2022-11-23T11:58:51.337852Z",
     "iopub.status.busy": "2022-11-23T11:58:51.336582Z",
     "iopub.status.idle": "2022-11-23T11:58:51.344954Z",
     "shell.execute_reply": "2022-11-23T11:58:51.344168Z"
    },
    "papermill": {
     "duration": 0.026099,
     "end_time": "2022-11-23T11:58:51.347085",
     "exception": false,
     "start_time": "2022-11-23T11:58:51.320986",
     "status": "completed"
    },
    "tags": []
   },
   "outputs": [
    {
     "data": {
      "text/plain": [
       "(5,)"
      ]
     },
     "execution_count": 3,
     "metadata": {},
     "output_type": "execute_result"
    }
   ],
   "source": [
    "# vector's size\n",
    "v.shape"
   ]
  },
  {
   "cell_type": "code",
   "execution_count": 4,
   "id": "51906dbd",
   "metadata": {
    "execution": {
     "iopub.execute_input": "2022-11-23T11:58:51.377800Z",
     "iopub.status.busy": "2022-11-23T11:58:51.376997Z",
     "iopub.status.idle": "2022-11-23T11:58:51.383763Z",
     "shell.execute_reply": "2022-11-23T11:58:51.382716Z"
    },
    "papermill": {
     "duration": 0.0247,
     "end_time": "2022-11-23T11:58:51.386003",
     "exception": false,
     "start_time": "2022-11-23T11:58:51.361303",
     "status": "completed"
    },
    "tags": []
   },
   "outputs": [
    {
     "data": {
      "text/plain": [
       "array([1, 2])"
      ]
     },
     "execution_count": 4,
     "metadata": {},
     "output_type": "execute_result"
    }
   ],
   "source": [
    "#부분벡터(sub vector)\n",
    "v_sub = v[0:2]\n",
    "v_sub"
   ]
  },
  {
   "cell_type": "code",
   "execution_count": 5,
   "id": "0f953a18",
   "metadata": {
    "execution": {
     "iopub.execute_input": "2022-11-23T11:58:51.415903Z",
     "iopub.status.busy": "2022-11-23T11:58:51.415416Z",
     "iopub.status.idle": "2022-11-23T11:58:51.424781Z",
     "shell.execute_reply": "2022-11-23T11:58:51.423213Z"
    },
    "papermill": {
     "duration": 0.027408,
     "end_time": "2022-11-23T11:58:51.427331",
     "exception": false,
     "start_time": "2022-11-23T11:58:51.399923",
     "status": "completed"
    },
    "tags": []
   },
   "outputs": [
    {
     "data": {
      "text/plain": [
       "array([0., 0., 0., 0., 0.])"
      ]
     },
     "execution_count": 5,
     "metadata": {},
     "output_type": "execute_result"
    }
   ],
   "source": [
    "#zero vector\n",
    "size = 5\n",
    "zeros = np.zeros(shape=(size))\n",
    "zeros"
   ]
  },
  {
   "cell_type": "code",
   "execution_count": 6,
   "id": "b8476a01",
   "metadata": {
    "execution": {
     "iopub.execute_input": "2022-11-23T11:58:51.459082Z",
     "iopub.status.busy": "2022-11-23T11:58:51.457630Z",
     "iopub.status.idle": "2022-11-23T11:58:51.468160Z",
     "shell.execute_reply": "2022-11-23T11:58:51.466822Z"
    },
    "papermill": {
     "duration": 0.028693,
     "end_time": "2022-11-23T11:58:51.470495",
     "exception": false,
     "start_time": "2022-11-23T11:58:51.441802",
     "status": "completed"
    },
    "tags": []
   },
   "outputs": [
    {
     "data": {
      "text/plain": [
       "array([0., 1., 0.])"
      ]
     },
     "execution_count": 6,
     "metadata": {},
     "output_type": "execute_result"
    }
   ],
   "source": [
    "# 단위벡터(unit vector): a value in vector is 1, and the others are 0\n",
    "e = np.zeros(shape=(3,))\n",
    "i = 1\n",
    "e[i] = 1\n",
    "e"
   ]
  },
  {
   "cell_type": "code",
   "execution_count": 7,
   "id": "5e01681f",
   "metadata": {
    "execution": {
     "iopub.execute_input": "2022-11-23T11:58:51.501301Z",
     "iopub.status.busy": "2022-11-23T11:58:51.500822Z",
     "iopub.status.idle": "2022-11-23T11:58:51.509317Z",
     "shell.execute_reply": "2022-11-23T11:58:51.507717Z"
    },
    "papermill": {
     "duration": 0.026874,
     "end_time": "2022-11-23T11:58:51.511692",
     "exception": false,
     "start_time": "2022-11-23T11:58:51.484818",
     "status": "completed"
    },
    "tags": []
   },
   "outputs": [
    {
     "data": {
      "text/plain": [
       "array([[1., 1., 1., 1.],\n",
       "       [1., 1., 1., 1.],\n",
       "       [1., 1., 1., 1.]])"
      ]
     },
     "execution_count": 7,
     "metadata": {},
     "output_type": "execute_result"
    }
   ],
   "source": [
    "# 1vector : all elements' value are 1\n",
    "one = np.ones(shape=(3,4))\n",
    "one"
   ]
  },
  {
   "cell_type": "code",
   "execution_count": 8,
   "id": "97847c18",
   "metadata": {
    "execution": {
     "iopub.execute_input": "2022-11-23T11:58:51.543315Z",
     "iopub.status.busy": "2022-11-23T11:58:51.542841Z",
     "iopub.status.idle": "2022-11-23T11:58:51.551467Z",
     "shell.execute_reply": "2022-11-23T11:58:51.550253Z"
    },
    "papermill": {
     "duration": 0.027504,
     "end_time": "2022-11-23T11:58:51.553773",
     "exception": false,
     "start_time": "2022-11-23T11:58:51.526269",
     "status": "completed"
    },
    "tags": []
   },
   "outputs": [
    {
     "data": {
      "text/plain": [
       "array([4, 6])"
      ]
     },
     "execution_count": 8,
     "metadata": {},
     "output_type": "execute_result"
    }
   ],
   "source": [
    "# vector addition\n",
    "a = np.array([1,2])\n",
    "b = np.array([3,4])\n",
    "\n",
    "a+b"
   ]
  },
  {
   "cell_type": "code",
   "execution_count": 9,
   "id": "883f3ab3",
   "metadata": {
    "execution": {
     "iopub.execute_input": "2022-11-23T11:58:51.585484Z",
     "iopub.status.busy": "2022-11-23T11:58:51.583965Z",
     "iopub.status.idle": "2022-11-23T11:58:51.591542Z",
     "shell.execute_reply": "2022-11-23T11:58:51.590306Z"
    },
    "papermill": {
     "duration": 0.02564,
     "end_time": "2022-11-23T11:58:51.594080",
     "exception": false,
     "start_time": "2022-11-23T11:58:51.568440",
     "status": "completed"
    },
    "tags": []
   },
   "outputs": [
    {
     "data": {
      "text/plain": [
       "array([ True,  True])"
      ]
     },
     "execution_count": 9,
     "metadata": {},
     "output_type": "execute_result"
    }
   ],
   "source": [
    "#commutative law\n",
    "a+b == b+a"
   ]
  },
  {
   "cell_type": "code",
   "execution_count": 10,
   "id": "6df44c88",
   "metadata": {
    "execution": {
     "iopub.execute_input": "2022-11-23T11:58:51.624907Z",
     "iopub.status.busy": "2022-11-23T11:58:51.624482Z",
     "iopub.status.idle": "2022-11-23T11:58:51.631739Z",
     "shell.execute_reply": "2022-11-23T11:58:51.630888Z"
    },
    "papermill": {
     "duration": 0.025261,
     "end_time": "2022-11-23T11:58:51.633755",
     "exception": false,
     "start_time": "2022-11-23T11:58:51.608494",
     "status": "completed"
    },
    "tags": []
   },
   "outputs": [
    {
     "data": {
      "text/plain": [
       "array([ True,  True])"
      ]
     },
     "execution_count": 10,
     "metadata": {},
     "output_type": "execute_result"
    }
   ],
   "source": [
    "# combination law\n",
    "c = np.array([5,6])\n",
    "\n",
    "(a+b)+c == a+(b+c)"
   ]
  },
  {
   "cell_type": "code",
   "execution_count": 11,
   "id": "e368ef94",
   "metadata": {
    "execution": {
     "iopub.execute_input": "2022-11-23T11:58:51.664606Z",
     "iopub.status.busy": "2022-11-23T11:58:51.664190Z",
     "iopub.status.idle": "2022-11-23T11:58:51.672162Z",
     "shell.execute_reply": "2022-11-23T11:58:51.670709Z"
    },
    "papermill": {
     "duration": 0.026834,
     "end_time": "2022-11-23T11:58:51.674912",
     "exception": false,
     "start_time": "2022-11-23T11:58:51.648078",
     "status": "completed"
    },
    "tags": []
   },
   "outputs": [
    {
     "data": {
      "text/plain": [
       "array([2, 4])"
      ]
     },
     "execution_count": 11,
     "metadata": {},
     "output_type": "execute_result"
    }
   ],
   "source": [
    "#scalar multiplication\n",
    "s = 2\n",
    "a*s"
   ]
  },
  {
   "cell_type": "markdown",
   "id": "3a0416c4",
   "metadata": {
    "papermill": {
     "duration": 0.014178,
     "end_time": "2022-11-23T11:58:51.703893",
     "exception": false,
     "start_time": "2022-11-23T11:58:51.689715",
     "status": "completed"
    },
    "tags": []
   },
   "source": [
    "<h3>Inner product</h3>\n",
    "두 벡터의 각 성분끼리의 곱의 합 <br>\n",
    "$a^Tb =\\displaystyle\\sum_{i}{(a_i b_i)}$\n",
    "\n",
    "<h3>Euclidean Norm</h3><br>\n",
    "벡터의 길이, 크기(magnititude)<br>****\n",
    "$||a|| = \\sqrt{a^Ta} = \\sqrt{a_1^2 + ... + a_n^2}$"
   ]
  },
  {
   "cell_type": "code",
   "execution_count": 12,
   "id": "456f9bdb",
   "metadata": {
    "execution": {
     "iopub.execute_input": "2022-11-23T11:58:51.736654Z",
     "iopub.status.busy": "2022-11-23T11:58:51.735418Z",
     "iopub.status.idle": "2022-11-23T11:58:51.742496Z",
     "shell.execute_reply": "2022-11-23T11:58:51.741144Z"
    },
    "papermill": {
     "duration": 0.026376,
     "end_time": "2022-11-23T11:58:51.745134",
     "exception": false,
     "start_time": "2022-11-23T11:58:51.718758",
     "status": "completed"
    },
    "tags": []
   },
   "outputs": [
    {
     "name": "stdout",
     "output_type": "stream",
     "text": [
      "11\n",
      "11\n",
      "11\n"
     ]
    }
   ],
   "source": [
    "# inner product(벡터 내적): 두 벡터의 각 성분끼리의 곱의 합\n",
    "#1.\n",
    "print(np.sum(a*b))\n",
    "\n",
    "#2.\n",
    "print(np.inner(a,b))\n",
    "\n",
    "#3.\n",
    "print(np.dot(a,b))"
   ]
  },
  {
   "cell_type": "code",
   "execution_count": 13,
   "id": "cc8b9dbd",
   "metadata": {
    "execution": {
     "iopub.execute_input": "2022-11-23T11:58:51.775090Z",
     "iopub.status.busy": "2022-11-23T11:58:51.774693Z",
     "iopub.status.idle": "2022-11-23T11:58:51.781818Z",
     "shell.execute_reply": "2022-11-23T11:58:51.781062Z"
    },
    "papermill": {
     "duration": 0.025557,
     "end_time": "2022-11-23T11:58:51.784761",
     "exception": false,
     "start_time": "2022-11-23T11:58:51.759204",
     "status": "completed"
    },
    "tags": []
   },
   "outputs": [
    {
     "name": "stdout",
     "output_type": "stream",
     "text": [
      "True\n",
      "True\n",
      "True\n"
     ]
    }
   ],
   "source": [
    "# characters of inner product\n",
    "print(np.dot(a,b) == np.dot(b,a))\n",
    "print(np.dot(2*a,b)==2*np.dot(a,b))\n",
    "print(np.dot(a+b,c)==np.dot(a,c)+np.dot(b,c))"
   ]
  },
  {
   "cell_type": "code",
   "execution_count": 14,
   "id": "aea39bee",
   "metadata": {
    "execution": {
     "iopub.execute_input": "2022-11-23T11:58:51.818242Z",
     "iopub.status.busy": "2022-11-23T11:58:51.817000Z",
     "iopub.status.idle": "2022-11-23T11:58:51.825783Z",
     "shell.execute_reply": "2022-11-23T11:58:51.824463Z"
    },
    "papermill": {
     "duration": 0.027151,
     "end_time": "2022-11-23T11:58:51.827926",
     "exception": false,
     "start_time": "2022-11-23T11:58:51.800775",
     "status": "completed"
    },
    "tags": []
   },
   "outputs": [
    {
     "name": "stdout",
     "output_type": "stream",
     "text": [
      "6.0\n",
      "2.0\n",
      "14\n"
     ]
    }
   ],
   "source": [
    "# 내적의 활용\n",
    "a = np.array([1,2,3])\n",
    "ones = np.ones(shape=(3,))\n",
    "\n",
    "##1. 합\n",
    "print(np.dot(ones,a))\n",
    "\n",
    "##2.평균\n",
    "print(np.dot(ones,a)/len(a))\n",
    "\n",
    "##3.제곱합\n",
    "print(np.dot(a,a))"
   ]
  },
  {
   "cell_type": "code",
   "execution_count": 15,
   "id": "2d664c2e",
   "metadata": {
    "execution": {
     "iopub.execute_input": "2022-11-23T11:58:51.859115Z",
     "iopub.status.busy": "2022-11-23T11:58:51.858098Z",
     "iopub.status.idle": "2022-11-23T11:58:51.868104Z",
     "shell.execute_reply": "2022-11-23T11:58:51.866797Z"
    },
    "papermill": {
     "duration": 0.028601,
     "end_time": "2022-11-23T11:58:51.870951",
     "exception": false,
     "start_time": "2022-11-23T11:58:51.842350",
     "status": "completed"
    },
    "tags": []
   },
   "outputs": [
    {
     "data": {
      "text/plain": [
       "3.605551275463989"
      ]
     },
     "execution_count": 15,
     "metadata": {},
     "output_type": "execute_result"
    }
   ],
   "source": [
    "# Euclidean norm: length, magnitude of vector\n",
    "from scipy import linalg as la\n",
    "\n",
    "a = np.array([2,3])\n",
    "la.norm(a)"
   ]
  },
  {
   "cell_type": "code",
   "execution_count": 16,
   "id": "ee829026",
   "metadata": {
    "execution": {
     "iopub.execute_input": "2022-11-23T11:58:51.910008Z",
     "iopub.status.busy": "2022-11-23T11:58:51.908809Z",
     "iopub.status.idle": "2022-11-23T11:58:51.915691Z",
     "shell.execute_reply": "2022-11-23T11:58:51.914758Z"
    },
    "papermill": {
     "duration": 0.027931,
     "end_time": "2022-11-23T11:58:51.918634",
     "exception": false,
     "start_time": "2022-11-23T11:58:51.890703",
     "status": "completed"
    },
    "tags": []
   },
   "outputs": [],
   "source": [
    "# characteristic of vector norm\n",
    "a = np.array([-1, 2, 3])\n",
    "b = np.array([1, -2, 4])"
   ]
  },
  {
   "cell_type": "raw",
   "id": "7301efd4",
   "metadata": {
    "papermill": {
     "duration": 0.01975,
     "end_time": "2022-11-23T11:58:51.960723",
     "exception": false,
     "start_time": "2022-11-23T11:58:51.940973",
     "status": "completed"
    },
    "tags": []
   },
   "source": [
    "#scalar 곱\n",
    "beta = 0.5\n",
    "la.norm(beta*a) == np.abs(beta) * la.norm(a)"
   ]
  },
  {
   "cell_type": "code",
   "execution_count": 17,
   "id": "f1f0e4e9",
   "metadata": {
    "execution": {
     "iopub.execute_input": "2022-11-23T11:58:51.998427Z",
     "iopub.status.busy": "2022-11-23T11:58:51.997986Z",
     "iopub.status.idle": "2022-11-23T11:58:52.005961Z",
     "shell.execute_reply": "2022-11-23T11:58:52.004551Z"
    },
    "papermill": {
     "duration": 0.027072,
     "end_time": "2022-11-23T11:58:52.008392",
     "exception": false,
     "start_time": "2022-11-23T11:58:51.981320",
     "status": "completed"
    },
    "tags": []
   },
   "outputs": [
    {
     "data": {
      "text/plain": [
       "True"
      ]
     },
     "execution_count": 17,
     "metadata": {},
     "output_type": "execute_result"
    }
   ],
   "source": [
    "#삼각형의 한 변의 길이는 다른 두 변의 길이의 합보다 작다\n",
    "la.norm(a+b) <= la.norm(a)+la.norm(b)"
   ]
  },
  {
   "cell_type": "code",
   "execution_count": 18,
   "id": "31b0bffc",
   "metadata": {
    "execution": {
     "iopub.execute_input": "2022-11-23T11:58:52.040822Z",
     "iopub.status.busy": "2022-11-23T11:58:52.040426Z",
     "iopub.status.idle": "2022-11-23T11:58:52.047525Z",
     "shell.execute_reply": "2022-11-23T11:58:52.046408Z"
    },
    "papermill": {
     "duration": 0.026172,
     "end_time": "2022-11-23T11:58:52.049851",
     "exception": false,
     "start_time": "2022-11-23T11:58:52.023679",
     "status": "completed"
    },
    "tags": []
   },
   "outputs": [
    {
     "data": {
      "text/plain": [
       "True"
      ]
     },
     "execution_count": 18,
     "metadata": {},
     "output_type": "execute_result"
    }
   ],
   "source": [
    "#길이는 0보다 크거나 작다\n",
    "la.norm(a) >= 0"
   ]
  },
  {
   "cell_type": "markdown",
   "id": "eb359ab6",
   "metadata": {
    "papermill": {
     "duration": 0.014656,
     "end_time": "2022-11-23T11:58:52.080124",
     "exception": false,
     "start_time": "2022-11-23T11:58:52.065468",
     "status": "completed"
    },
    "tags": []
   },
   "source": [
    "<h2>Orthonormal vector</h2>\n",
    "직교이면서 동시에 벡터의 크기가 1인 벡터집합\n",
    "\n",
    "ex\n",
    "$a_1 = \\begin{bmatrix}0\\\\ 0\\\\ 1\\end{bmatrix}$\n",
    "$a_2 = {1\\over{\\sqrt2}} \\begin{bmatrix}1\\\\ 1\\\\ 0\\end{bmatrix}$\n",
    "$a_3 = {1\\over{\\sqrt2}} \\begin{bmatrix}1\\\\ -1\\\\ 0\\end{bmatrix}$\n",
    "\n",
    "show $a_1, a_2, a_3$ are orthonormal vector\n"
   ]
  },
  {
   "cell_type": "code",
   "execution_count": 19,
   "id": "9a2f7e0f",
   "metadata": {
    "execution": {
     "iopub.execute_input": "2022-11-23T11:58:52.111839Z",
     "iopub.status.busy": "2022-11-23T11:58:52.111423Z",
     "iopub.status.idle": "2022-11-23T11:58:52.117483Z",
     "shell.execute_reply": "2022-11-23T11:58:52.116400Z"
    },
    "papermill": {
     "duration": 0.024985,
     "end_time": "2022-11-23T11:58:52.119939",
     "exception": false,
     "start_time": "2022-11-23T11:58:52.094954",
     "status": "completed"
    },
    "tags": []
   },
   "outputs": [],
   "source": [
    "#orthonormal vector\n",
    "a1 = np.array([0,0,1]).reshape(-1,1)\n",
    "a2 = 1/np.sqrt(2)*np.array([1,1,0]).reshape(-1,1)\n",
    "a3 = 1/np.sqrt(2)*np.array([1,-1,0]).reshape(-1,1)"
   ]
  },
  {
   "cell_type": "code",
   "execution_count": 20,
   "id": "2f535a35",
   "metadata": {
    "execution": {
     "iopub.execute_input": "2022-11-23T11:58:52.152450Z",
     "iopub.status.busy": "2022-11-23T11:58:52.152018Z",
     "iopub.status.idle": "2022-11-23T11:58:52.165647Z",
     "shell.execute_reply": "2022-11-23T11:58:52.164542Z"
    },
    "papermill": {
     "duration": 0.032827,
     "end_time": "2022-11-23T11:58:52.168257",
     "exception": false,
     "start_time": "2022-11-23T11:58:52.135430",
     "status": "completed"
    },
    "tags": []
   },
   "outputs": [
    {
     "data": {
      "text/plain": [
       "array([[ 1.,  0.,  0.],\n",
       "       [ 0.,  1., -0.],\n",
       "       [ 0., -0.,  1.]])"
      ]
     },
     "execution_count": 20,
     "metadata": {},
     "output_type": "execute_result"
    }
   ],
   "source": [
    "#norm=1, 열들의 곱\n",
    "A = np.concatenate((a1,a2,a3),axis=1)\n",
    "np.round(A.T@A,3)"
   ]
  },
  {
   "cell_type": "code",
   "execution_count": 21,
   "id": "f88f96f8",
   "metadata": {
    "execution": {
     "iopub.execute_input": "2022-11-23T11:58:52.200593Z",
     "iopub.status.busy": "2022-11-23T11:58:52.199649Z",
     "iopub.status.idle": "2022-11-23T11:58:52.209603Z",
     "shell.execute_reply": "2022-11-23T11:58:52.208286Z"
    },
    "papermill": {
     "duration": 0.028607,
     "end_time": "2022-11-23T11:58:52.212001",
     "exception": false,
     "start_time": "2022-11-23T11:58:52.183394",
     "status": "completed"
    },
    "tags": []
   },
   "outputs": [
    {
     "data": {
      "text/plain": [
       "array([[-1.086,  0.997,  0.283, -1.506],\n",
       "       [-0.579,  1.651, -2.427, -0.429],\n",
       "       [ 1.266, -0.867, -0.679, -0.095],\n",
       "       [ 1.491, -0.639, -0.444, -0.434]])"
      ]
     },
     "execution_count": 21,
     "metadata": {},
     "output_type": "execute_result"
    }
   ],
   "source": [
    "# 2차원 배열 생성 \n",
    "A = np.array(np.random.RandomState(123).normal(size=16)).reshape(4,4)\n",
    "A.round(3)"
   ]
  },
  {
   "cell_type": "code",
   "execution_count": 22,
   "id": "eeb12c80",
   "metadata": {
    "execution": {
     "iopub.execute_input": "2022-11-23T11:58:52.244613Z",
     "iopub.status.busy": "2022-11-23T11:58:52.243885Z",
     "iopub.status.idle": "2022-11-23T11:58:52.253025Z",
     "shell.execute_reply": "2022-11-23T11:58:52.251784Z"
    },
    "papermill": {
     "duration": 0.027793,
     "end_time": "2022-11-23T11:58:52.255205",
     "exception": false,
     "start_time": "2022-11-23T11:58:52.227412",
     "status": "completed"
    },
    "tags": []
   },
   "outputs": [
    {
     "data": {
      "text/plain": [
       "(3, 4)"
      ]
     },
     "execution_count": 22,
     "metadata": {},
     "output_type": "execute_result"
    }
   ],
   "source": [
    "#행렬의 크기\n",
    "A = np.random.RandomState(123).randint(1,12,size=12).reshape(3,4)\n",
    "A.shape"
   ]
  },
  {
   "cell_type": "code",
   "execution_count": 23,
   "id": "a4490fd8",
   "metadata": {
    "execution": {
     "iopub.execute_input": "2022-11-23T11:58:52.287728Z",
     "iopub.status.busy": "2022-11-23T11:58:52.287332Z",
     "iopub.status.idle": "2022-11-23T11:58:52.294779Z",
     "shell.execute_reply": "2022-11-23T11:58:52.293315Z"
    },
    "papermill": {
     "duration": 0.02657,
     "end_time": "2022-11-23T11:58:52.297114",
     "exception": false,
     "start_time": "2022-11-23T11:58:52.270544",
     "status": "completed"
    },
    "tags": []
   },
   "outputs": [
    {
     "data": {
      "text/plain": [
       "array([3, 4, 2])"
      ]
     },
     "execution_count": 23,
     "metadata": {},
     "output_type": "execute_result"
    }
   ],
   "source": [
    "#열벡터\n",
    "A[:,0]"
   ]
  },
  {
   "cell_type": "code",
   "execution_count": 24,
   "id": "8bf24b08",
   "metadata": {
    "execution": {
     "iopub.execute_input": "2022-11-23T11:58:52.329853Z",
     "iopub.status.busy": "2022-11-23T11:58:52.329411Z",
     "iopub.status.idle": "2022-11-23T11:58:52.337877Z",
     "shell.execute_reply": "2022-11-23T11:58:52.336452Z"
    },
    "papermill": {
     "duration": 0.027859,
     "end_time": "2022-11-23T11:58:52.340397",
     "exception": false,
     "start_time": "2022-11-23T11:58:52.312538",
     "status": "completed"
    },
    "tags": []
   },
   "outputs": [
    {
     "data": {
      "text/plain": [
       "array([3, 3, 7, 2])"
      ]
     },
     "execution_count": 24,
     "metadata": {},
     "output_type": "execute_result"
    }
   ],
   "source": [
    "#행벡터\n",
    "A[0,:]"
   ]
  },
  {
   "cell_type": "code",
   "execution_count": 25,
   "id": "70f8e406",
   "metadata": {
    "execution": {
     "iopub.execute_input": "2022-11-23T11:58:52.373349Z",
     "iopub.status.busy": "2022-11-23T11:58:52.372878Z",
     "iopub.status.idle": "2022-11-23T11:58:52.381253Z",
     "shell.execute_reply": "2022-11-23T11:58:52.380000Z"
    },
    "papermill": {
     "duration": 0.027721,
     "end_time": "2022-11-23T11:58:52.383684",
     "exception": false,
     "start_time": "2022-11-23T11:58:52.355963",
     "status": "completed"
    },
    "tags": []
   },
   "outputs": [
    {
     "data": {
      "text/plain": [
       "7"
      ]
     },
     "execution_count": 25,
     "metadata": {},
     "output_type": "execute_result"
    }
   ],
   "source": [
    "#행렬의 표기법\n",
    "A[0,2]"
   ]
  },
  {
   "cell_type": "code",
   "execution_count": 26,
   "id": "27af9f7e",
   "metadata": {
    "execution": {
     "iopub.execute_input": "2022-11-23T11:58:52.416911Z",
     "iopub.status.busy": "2022-11-23T11:58:52.416466Z",
     "iopub.status.idle": "2022-11-23T11:58:52.425619Z",
     "shell.execute_reply": "2022-11-23T11:58:52.424571Z"
    },
    "papermill": {
     "duration": 0.028309,
     "end_time": "2022-11-23T11:58:52.427595",
     "exception": false,
     "start_time": "2022-11-23T11:58:52.399286",
     "status": "completed"
    },
    "tags": []
   },
   "outputs": [
    {
     "data": {
      "text/plain": [
       "array([[1, 2, 3],\n",
       "       [4, 5, 6]])"
      ]
     },
     "execution_count": 26,
     "metadata": {},
     "output_type": "execute_result"
    }
   ],
   "source": [
    "#행렬 덧셈\n",
    "A = np.arange(1,7).reshape(2,3)\n",
    "B = np.arange(3,9).reshape(2,3)\n",
    "A"
   ]
  },
  {
   "cell_type": "code",
   "execution_count": 27,
   "id": "4a0cfccf",
   "metadata": {
    "execution": {
     "iopub.execute_input": "2022-11-23T11:58:52.460681Z",
     "iopub.status.busy": "2022-11-23T11:58:52.460291Z",
     "iopub.status.idle": "2022-11-23T11:58:52.467075Z",
     "shell.execute_reply": "2022-11-23T11:58:52.466030Z"
    },
    "papermill": {
     "duration": 0.026155,
     "end_time": "2022-11-23T11:58:52.469335",
     "exception": false,
     "start_time": "2022-11-23T11:58:52.443180",
     "status": "completed"
    },
    "tags": []
   },
   "outputs": [
    {
     "data": {
      "text/plain": [
       "array([[3, 4, 5],\n",
       "       [6, 7, 8]])"
      ]
     },
     "execution_count": 27,
     "metadata": {},
     "output_type": "execute_result"
    }
   ],
   "source": [
    "B"
   ]
  },
  {
   "cell_type": "code",
   "execution_count": 28,
   "id": "3952fb55",
   "metadata": {
    "execution": {
     "iopub.execute_input": "2022-11-23T11:58:52.503266Z",
     "iopub.status.busy": "2022-11-23T11:58:52.502826Z",
     "iopub.status.idle": "2022-11-23T11:58:52.510104Z",
     "shell.execute_reply": "2022-11-23T11:58:52.508804Z"
    },
    "papermill": {
     "duration": 0.026579,
     "end_time": "2022-11-23T11:58:52.512325",
     "exception": false,
     "start_time": "2022-11-23T11:58:52.485746",
     "status": "completed"
    },
    "tags": []
   },
   "outputs": [
    {
     "data": {
      "text/plain": [
       "array([[ 4,  6,  8],\n",
       "       [10, 12, 14]])"
      ]
     },
     "execution_count": 28,
     "metadata": {},
     "output_type": "execute_result"
    }
   ],
   "source": [
    "A+B"
   ]
  },
  {
   "cell_type": "code",
   "execution_count": 29,
   "id": "b058cbe1",
   "metadata": {
    "execution": {
     "iopub.execute_input": "2022-11-23T11:58:52.545720Z",
     "iopub.status.busy": "2022-11-23T11:58:52.545299Z",
     "iopub.status.idle": "2022-11-23T11:58:52.553445Z",
     "shell.execute_reply": "2022-11-23T11:58:52.551942Z"
    },
    "papermill": {
     "duration": 0.027917,
     "end_time": "2022-11-23T11:58:52.556045",
     "exception": false,
     "start_time": "2022-11-23T11:58:52.528128",
     "status": "completed"
    },
    "tags": []
   },
   "outputs": [
    {
     "data": {
      "text/plain": [
       "array([[ True,  True],\n",
       "       [ True,  True],\n",
       "       [ True,  True]])"
      ]
     },
     "execution_count": 29,
     "metadata": {},
     "output_type": "execute_result"
    }
   ],
   "source": [
    "#행렬의 전치의 성질\n",
    "A.T + B.T == (A+B).T"
   ]
  },
  {
   "cell_type": "code",
   "execution_count": 30,
   "id": "1746aea1",
   "metadata": {
    "execution": {
     "iopub.execute_input": "2022-11-23T11:58:52.590717Z",
     "iopub.status.busy": "2022-11-23T11:58:52.590267Z",
     "iopub.status.idle": "2022-11-23T11:58:52.598200Z",
     "shell.execute_reply": "2022-11-23T11:58:52.597046Z"
    },
    "papermill": {
     "duration": 0.028062,
     "end_time": "2022-11-23T11:58:52.600646",
     "exception": false,
     "start_time": "2022-11-23T11:58:52.572584",
     "status": "completed"
    },
    "tags": []
   },
   "outputs": [
    {
     "data": {
      "text/plain": [
       "array([[ 26,  44],\n",
       "       [ 62, 107]])"
      ]
     },
     "execution_count": 30,
     "metadata": {},
     "output_type": "execute_result"
    }
   ],
   "source": [
    "#행렬 곱 연산자:@\n",
    "A @ B.T"
   ]
  },
  {
   "cell_type": "code",
   "execution_count": 31,
   "id": "e2596654",
   "metadata": {
    "execution": {
     "iopub.execute_input": "2022-11-23T11:58:52.635467Z",
     "iopub.status.busy": "2022-11-23T11:58:52.635022Z",
     "iopub.status.idle": "2022-11-23T11:58:52.642642Z",
     "shell.execute_reply": "2022-11-23T11:58:52.641452Z"
    },
    "papermill": {
     "duration": 0.028318,
     "end_time": "2022-11-23T11:58:52.645474",
     "exception": false,
     "start_time": "2022-11-23T11:58:52.617156",
     "status": "completed"
    },
    "tags": []
   },
   "outputs": [
    {
     "data": {
      "text/plain": [
       "array([[ 26,  44],\n",
       "       [ 62, 107]])"
      ]
     },
     "execution_count": 31,
     "metadata": {},
     "output_type": "execute_result"
    }
   ],
   "source": [
    "# 행렬 곱 함수: np.matmul\n",
    "np.matmul(A,B.T)"
   ]
  },
  {
   "cell_type": "code",
   "execution_count": 32,
   "id": "ed60248b",
   "metadata": {
    "execution": {
     "iopub.execute_input": "2022-11-23T11:58:52.680810Z",
     "iopub.status.busy": "2022-11-23T11:58:52.680162Z",
     "iopub.status.idle": "2022-11-23T11:58:52.684921Z",
     "shell.execute_reply": "2022-11-23T11:58:52.684125Z"
    },
    "papermill": {
     "duration": 0.025333,
     "end_time": "2022-11-23T11:58:52.687022",
     "exception": false,
     "start_time": "2022-11-23T11:58:52.661689",
     "status": "completed"
    },
    "tags": []
   },
   "outputs": [],
   "source": [
    "B = B.T"
   ]
  },
  {
   "cell_type": "code",
   "execution_count": 33,
   "id": "cd652655",
   "metadata": {
    "execution": {
     "iopub.execute_input": "2022-11-23T11:58:52.721044Z",
     "iopub.status.busy": "2022-11-23T11:58:52.720582Z",
     "iopub.status.idle": "2022-11-23T11:58:52.728943Z",
     "shell.execute_reply": "2022-11-23T11:58:52.727358Z"
    },
    "papermill": {
     "duration": 0.028824,
     "end_time": "2022-11-23T11:58:52.731960",
     "exception": false,
     "start_time": "2022-11-23T11:58:52.703136",
     "status": "completed"
    },
    "tags": []
   },
   "outputs": [
    {
     "data": {
      "text/plain": [
       "array([[ True,  True],\n",
       "       [ True,  True]])"
      ]
     },
     "execution_count": 33,
     "metadata": {},
     "output_type": "execute_result"
    }
   ],
   "source": [
    "# 행렬 곱의 전치\n",
    "(A@B).T == B.T @ A.T"
   ]
  },
  {
   "cell_type": "code",
   "execution_count": 34,
   "id": "0756739b",
   "metadata": {
    "execution": {
     "iopub.execute_input": "2022-11-23T11:58:52.767091Z",
     "iopub.status.busy": "2022-11-23T11:58:52.766612Z",
     "iopub.status.idle": "2022-11-23T11:58:52.774434Z",
     "shell.execute_reply": "2022-11-23T11:58:52.773091Z"
    },
    "papermill": {
     "duration": 0.027815,
     "end_time": "2022-11-23T11:58:52.776607",
     "exception": false,
     "start_time": "2022-11-23T11:58:52.748792",
     "status": "completed"
    },
    "tags": []
   },
   "outputs": [
    {
     "data": {
      "text/plain": [
       "array([[0., 0., 0.],\n",
       "       [0., 0., 0.],\n",
       "       [0., 0., 0.]])"
      ]
     },
     "execution_count": 34,
     "metadata": {},
     "output_type": "execute_result"
    }
   ],
   "source": [
    "#영행렬\n",
    "size = 3\n",
    "np.zeros(shape=(size,size))"
   ]
  },
  {
   "cell_type": "code",
   "execution_count": 35,
   "id": "b3f1cb27",
   "metadata": {
    "execution": {
     "iopub.execute_input": "2022-11-23T11:58:52.811950Z",
     "iopub.status.busy": "2022-11-23T11:58:52.811033Z",
     "iopub.status.idle": "2022-11-23T11:58:52.819516Z",
     "shell.execute_reply": "2022-11-23T11:58:52.818016Z"
    },
    "papermill": {
     "duration": 0.02912,
     "end_time": "2022-11-23T11:58:52.821936",
     "exception": false,
     "start_time": "2022-11-23T11:58:52.792816",
     "status": "completed"
    },
    "tags": []
   },
   "outputs": [
    {
     "data": {
      "text/plain": [
       "array([[1., 0., 0.],\n",
       "       [0., 1., 0.],\n",
       "       [0., 0., 1.]])"
      ]
     },
     "execution_count": 35,
     "metadata": {},
     "output_type": "execute_result"
    }
   ],
   "source": [
    "#항등행렬\n",
    "np.identity(n=size)"
   ]
  },
  {
   "cell_type": "code",
   "execution_count": 36,
   "id": "6d7c4ae2",
   "metadata": {
    "execution": {
     "iopub.execute_input": "2022-11-23T11:58:52.857808Z",
     "iopub.status.busy": "2022-11-23T11:58:52.856970Z",
     "iopub.status.idle": "2022-11-23T11:58:52.864122Z",
     "shell.execute_reply": "2022-11-23T11:58:52.862823Z"
    },
    "papermill": {
     "duration": 0.0288,
     "end_time": "2022-11-23T11:58:52.866891",
     "exception": false,
     "start_time": "2022-11-23T11:58:52.838091",
     "status": "completed"
    },
    "tags": []
   },
   "outputs": [
    {
     "data": {
      "text/plain": [
       "array([[1, 0, 0],\n",
       "       [0, 2, 0],\n",
       "       [0, 0, 3]])"
      ]
     },
     "execution_count": 36,
     "metadata": {},
     "output_type": "execute_result"
    }
   ],
   "source": [
    "#대각행렬\n",
    "np.diag([1,2,3])"
   ]
  },
  {
   "cell_type": "code",
   "execution_count": 37,
   "id": "04796673",
   "metadata": {
    "execution": {
     "iopub.execute_input": "2022-11-23T11:58:52.904580Z",
     "iopub.status.busy": "2022-11-23T11:58:52.903705Z",
     "iopub.status.idle": "2022-11-23T11:58:52.912952Z",
     "shell.execute_reply": "2022-11-23T11:58:52.911520Z"
    },
    "papermill": {
     "duration": 0.030919,
     "end_time": "2022-11-23T11:58:52.915672",
     "exception": false,
     "start_time": "2022-11-23T11:58:52.884753",
     "status": "completed"
    },
    "tags": []
   },
   "outputs": [
    {
     "data": {
      "text/plain": [
       "array([[1, 2, 3],\n",
       "       [0, 2, 7],\n",
       "       [0, 0, 5]])"
      ]
     },
     "execution_count": 37,
     "metadata": {},
     "output_type": "execute_result"
    }
   ],
   "source": [
    "# 상삼각행렬\n",
    "np.triu([[1,2,3],[1,2,7],[7,8,5]], k=0)"
   ]
  },
  {
   "cell_type": "code",
   "execution_count": 38,
   "id": "feede718",
   "metadata": {
    "execution": {
     "iopub.execute_input": "2022-11-23T11:58:52.953920Z",
     "iopub.status.busy": "2022-11-23T11:58:52.953531Z",
     "iopub.status.idle": "2022-11-23T11:58:52.962473Z",
     "shell.execute_reply": "2022-11-23T11:58:52.961189Z"
    },
    "papermill": {
     "duration": 0.031653,
     "end_time": "2022-11-23T11:58:52.964808",
     "exception": false,
     "start_time": "2022-11-23T11:58:52.933155",
     "status": "completed"
    },
    "tags": []
   },
   "outputs": [
    {
     "data": {
      "text/plain": [
       "array([[1, 0],\n",
       "       [0, 1]])"
      ]
     },
     "execution_count": 38,
     "metadata": {},
     "output_type": "execute_result"
    }
   ],
   "source": [
    "#A^T*A = A*A^T = I 일때 A는 직교행렬(orthogonal matrix)\n",
    "A = np.array([[1,0],[0,1]])\n",
    "A"
   ]
  },
  {
   "cell_type": "code",
   "execution_count": 39,
   "id": "42ae1008",
   "metadata": {
    "execution": {
     "iopub.execute_input": "2022-11-23T11:58:53.003090Z",
     "iopub.status.busy": "2022-11-23T11:58:53.001585Z",
     "iopub.status.idle": "2022-11-23T11:58:53.011243Z",
     "shell.execute_reply": "2022-11-23T11:58:53.010042Z"
    },
    "papermill": {
     "duration": 0.030922,
     "end_time": "2022-11-23T11:58:53.013654",
     "exception": false,
     "start_time": "2022-11-23T11:58:52.982732",
     "status": "completed"
    },
    "tags": []
   },
   "outputs": [
    {
     "data": {
      "text/plain": [
       "array([[1, 0],\n",
       "       [0, 1]])"
      ]
     },
     "execution_count": 39,
     "metadata": {},
     "output_type": "execute_result"
    }
   ],
   "source": [
    "A.T@A"
   ]
  },
  {
   "cell_type": "code",
   "execution_count": 40,
   "id": "582d3fb0",
   "metadata": {
    "execution": {
     "iopub.execute_input": "2022-11-23T11:58:53.050932Z",
     "iopub.status.busy": "2022-11-23T11:58:53.050445Z",
     "iopub.status.idle": "2022-11-23T11:58:53.059730Z",
     "shell.execute_reply": "2022-11-23T11:58:53.058425Z"
    },
    "papermill": {
     "duration": 0.030636,
     "end_time": "2022-11-23T11:58:53.061937",
     "exception": false,
     "start_time": "2022-11-23T11:58:53.031301",
     "status": "completed"
    },
    "tags": []
   },
   "outputs": [
    {
     "data": {
      "text/plain": [
       "array([[1.25, 0.5 ],\n",
       "       [0.5 , 2.  ]])"
      ]
     },
     "execution_count": 40,
     "metadata": {},
     "output_type": "execute_result"
    }
   ],
   "source": [
    "#선형방적식과 후방대입법\n",
    "A = np.array([[1,1],[1/2, -1]])\n",
    "XTX = A.T@A\n",
    "XTX"
   ]
  },
  {
   "cell_type": "code",
   "execution_count": 41,
   "id": "35f7f194",
   "metadata": {
    "execution": {
     "iopub.execute_input": "2022-11-23T11:58:53.099870Z",
     "iopub.status.busy": "2022-11-23T11:58:53.098335Z",
     "iopub.status.idle": "2022-11-23T11:58:53.118398Z",
     "shell.execute_reply": "2022-11-23T11:58:53.117128Z"
    },
    "papermill": {
     "duration": 0.041368,
     "end_time": "2022-11-23T11:58:53.120916",
     "exception": false,
     "start_time": "2022-11-23T11:58:53.079548",
     "status": "completed"
    },
    "tags": []
   },
   "outputs": [
    {
     "data": {
      "text/plain": [
       "array([[-1.35, -1.21],\n",
       "       [ 0.  ,  1.67]])"
      ]
     },
     "execution_count": 41,
     "metadata": {},
     "output_type": "execute_result"
    }
   ],
   "source": [
    "#QR 분해\n",
    "Q, R = la.qr(XTX)\n",
    "R.round(2)"
   ]
  },
  {
   "cell_type": "code",
   "execution_count": 42,
   "id": "cc218bfa",
   "metadata": {
    "execution": {
     "iopub.execute_input": "2022-11-23T11:58:53.161285Z",
     "iopub.status.busy": "2022-11-23T11:58:53.160784Z",
     "iopub.status.idle": "2022-11-23T11:58:53.168605Z",
     "shell.execute_reply": "2022-11-23T11:58:53.167746Z"
    },
    "papermill": {
     "duration": 0.03145,
     "end_time": "2022-11-23T11:58:53.170607",
     "exception": false,
     "start_time": "2022-11-23T11:58:53.139157",
     "status": "completed"
    },
    "tags": []
   },
   "outputs": [
    {
     "data": {
      "text/plain": [
       "array([-4.46,  0.37])"
      ]
     },
     "execution_count": 42,
     "metadata": {},
     "output_type": "execute_result"
    }
   ],
   "source": [
    "b = np.array([4,2])\n",
    "np.round(Q.T @ b, 2)"
   ]
  },
  {
   "cell_type": "code",
   "execution_count": 43,
   "id": "47981046",
   "metadata": {
    "execution": {
     "iopub.execute_input": "2022-11-23T11:58:53.209383Z",
     "iopub.status.busy": "2022-11-23T11:58:53.208846Z",
     "iopub.status.idle": "2022-11-23T11:58:53.217066Z",
     "shell.execute_reply": "2022-11-23T11:58:53.216105Z"
    },
    "papermill": {
     "duration": 0.030777,
     "end_time": "2022-11-23T11:58:53.219552",
     "exception": false,
     "start_time": "2022-11-23T11:58:53.188775",
     "status": "completed"
    },
    "tags": []
   },
   "outputs": [
    {
     "data": {
      "text/plain": [
       "array([[5, 1, 5],\n",
       "       [3, 9, 8],\n",
       "       [2, 1, 4]])"
      ]
     },
     "execution_count": 43,
     "metadata": {},
     "output_type": "execute_result"
    }
   ],
   "source": [
    "#하우스 홀더 변환 이해하기\n",
    "A = np.array([[5,1,5],\n",
    "             [3,9,8],\n",
    "             [2,1,4]])\n",
    "A"
   ]
  },
  {
   "cell_type": "code",
   "execution_count": 44,
   "id": "dd98d1fd",
   "metadata": {
    "execution": {
     "iopub.execute_input": "2022-11-23T11:58:53.257987Z",
     "iopub.status.busy": "2022-11-23T11:58:53.257559Z",
     "iopub.status.idle": "2022-11-23T11:58:53.265133Z",
     "shell.execute_reply": "2022-11-23T11:58:53.263883Z"
    },
    "papermill": {
     "duration": 0.029825,
     "end_time": "2022-11-23T11:58:53.267425",
     "exception": false,
     "start_time": "2022-11-23T11:58:53.237600",
     "status": "completed"
    },
    "tags": []
   },
   "outputs": [
    {
     "data": {
      "text/plain": [
       "array([[5],\n",
       "       [3],\n",
       "       [2]])"
      ]
     },
     "execution_count": 44,
     "metadata": {},
     "output_type": "execute_result"
    }
   ],
   "source": [
    "#첫번째 열벡터 추출\n",
    "a = A[:,0].reshape(-1,1)\n",
    "a"
   ]
  },
  {
   "cell_type": "code",
   "execution_count": 45,
   "id": "13194586",
   "metadata": {
    "execution": {
     "iopub.execute_input": "2022-11-23T11:58:53.306113Z",
     "iopub.status.busy": "2022-11-23T11:58:53.305686Z",
     "iopub.status.idle": "2022-11-23T11:58:53.313890Z",
     "shell.execute_reply": "2022-11-23T11:58:53.312757Z"
    },
    "papermill": {
     "duration": 0.030398,
     "end_time": "2022-11-23T11:58:53.315958",
     "exception": false,
     "start_time": "2022-11-23T11:58:53.285560",
     "status": "completed"
    },
    "tags": []
   },
   "outputs": [
    {
     "data": {
      "text/plain": [
       "array([[-1.164414],\n",
       "       [ 3.      ],\n",
       "       [ 2.      ]])"
      ]
     },
     "execution_count": 45,
     "metadata": {},
     "output_type": "execute_result"
    }
   ],
   "source": [
    "# 하우스홀더 행렬 Q1 구성\n",
    "size = A.shape[0]\n",
    "e1 = np.identity(n=size)[:,0].reshape(-1,1) #단위행렬 생성후 열벡터 생성\n",
    "\n",
    "#u,v 벡터 구성\n",
    "u = a - la.norm(a)*e1\n",
    "u"
   ]
  },
  {
   "cell_type": "code",
   "execution_count": 46,
   "id": "3e1c4bb3",
   "metadata": {
    "execution": {
     "iopub.execute_input": "2022-11-23T11:58:53.354607Z",
     "iopub.status.busy": "2022-11-23T11:58:53.353592Z",
     "iopub.status.idle": "2022-11-23T11:58:53.363104Z",
     "shell.execute_reply": "2022-11-23T11:58:53.361760Z"
    },
    "papermill": {
     "duration": 0.031603,
     "end_time": "2022-11-23T11:58:53.365616",
     "exception": false,
     "start_time": "2022-11-23T11:58:53.334013",
     "status": "completed"
    },
    "tags": []
   },
   "outputs": [
    {
     "data": {
      "text/plain": [
       "array([[-0.30732141],\n",
       "       [ 0.79178387],\n",
       "       [ 0.52785591]])"
      ]
     },
     "execution_count": 46,
     "metadata": {},
     "output_type": "execute_result"
    }
   ],
   "source": [
    "v = u/la.norm(u)\n",
    "v"
   ]
  },
  {
   "cell_type": "code",
   "execution_count": 47,
   "id": "ef58c035",
   "metadata": {
    "execution": {
     "iopub.execute_input": "2022-11-23T11:58:53.403505Z",
     "iopub.status.busy": "2022-11-23T11:58:53.403043Z",
     "iopub.status.idle": "2022-11-23T11:58:53.411833Z",
     "shell.execute_reply": "2022-11-23T11:58:53.410400Z"
    },
    "papermill": {
     "duration": 0.03129,
     "end_time": "2022-11-23T11:58:53.414463",
     "exception": false,
     "start_time": "2022-11-23T11:58:53.383173",
     "status": "completed"
    },
    "tags": []
   },
   "outputs": [
    {
     "data": {
      "text/plain": [
       "array([[ 0.81,  0.49,  0.32],\n",
       "       [ 0.49, -0.25, -0.84],\n",
       "       [ 0.32, -0.84,  0.44]])"
      ]
     },
     "execution_count": 47,
     "metadata": {},
     "output_type": "execute_result"
    }
   ],
   "source": [
    "Q1 = np.identity(n=size) - 2 * v @ v.T\n",
    "np.round(Q1, 2)"
   ]
  },
  {
   "cell_type": "code",
   "execution_count": 48,
   "id": "9df196fd",
   "metadata": {
    "execution": {
     "iopub.execute_input": "2022-11-23T11:58:53.453870Z",
     "iopub.status.busy": "2022-11-23T11:58:53.452768Z",
     "iopub.status.idle": "2022-11-23T11:58:53.462761Z",
     "shell.execute_reply": "2022-11-23T11:58:53.461516Z"
    },
    "papermill": {
     "duration": 0.033026,
     "end_time": "2022-11-23T11:58:53.465104",
     "exception": false,
     "start_time": "2022-11-23T11:58:53.432078",
     "status": "completed"
    },
    "tags": []
   },
   "outputs": [
    {
     "data": {
      "text/plain": [
       "array([[ 6.16,  5.52,  9.25],\n",
       "       [-0.  , -2.63, -2.94],\n",
       "       [-0.  , -6.76, -3.29]])"
      ]
     },
     "execution_count": 48,
     "metadata": {},
     "output_type": "execute_result"
    }
   ],
   "source": [
    "#Result of householder\n",
    "np.round(Q1 @ A, 2)"
   ]
  },
  {
   "cell_type": "code",
   "execution_count": 49,
   "id": "aca8ff34",
   "metadata": {
    "execution": {
     "iopub.execute_input": "2022-11-23T11:58:53.503943Z",
     "iopub.status.busy": "2022-11-23T11:58:53.503505Z",
     "iopub.status.idle": "2022-11-23T11:58:53.512096Z",
     "shell.execute_reply": "2022-11-23T11:58:53.510921Z"
    },
    "papermill": {
     "duration": 0.031711,
     "end_time": "2022-11-23T11:58:53.515373",
     "exception": false,
     "start_time": "2022-11-23T11:58:53.483662",
     "status": "completed"
    },
    "tags": []
   },
   "outputs": [
    {
     "name": "stdout",
     "output_type": "stream",
     "text": [
      "Q\n",
      "[[-0.811  0.479 -0.336]\n",
      " [-0.487 -0.871 -0.067]\n",
      " [-0.324  0.109  0.94 ]]\n",
      "R\n",
      "[[-6.164 -5.516 -9.247]\n",
      " [ 0.    -7.251 -4.137]\n",
      " [ 0.     0.     1.544]]\n"
     ]
    }
   ],
   "source": [
    "#QR분해 결과\n",
    "Q, R = la.qr(A)\n",
    "print(\"Q\")\n",
    "print(np.round(Q, 3))\n",
    "print(\"R\")\n",
    "print(np.round(R, 3))"
   ]
  },
  {
   "cell_type": "code",
   "execution_count": 50,
   "id": "491747f5",
   "metadata": {
    "execution": {
     "iopub.execute_input": "2022-11-23T11:58:53.554984Z",
     "iopub.status.busy": "2022-11-23T11:58:53.554559Z",
     "iopub.status.idle": "2022-11-23T11:58:53.562632Z",
     "shell.execute_reply": "2022-11-23T11:58:53.560778Z"
    },
    "papermill": {
     "duration": 0.030751,
     "end_time": "2022-11-23T11:58:53.565449",
     "exception": false,
     "start_time": "2022-11-23T11:58:53.534698",
     "status": "completed"
    },
    "tags": []
   },
   "outputs": [],
   "source": [
    "#행렬 정의\n",
    "A = np.array([[1, -1, -1, 1],\n",
    "              [2, -1, 1, -1],\n",
    "              [4, 1, -1, 1],\n",
    "              [2, 1, -1, -1]\n",
    "])"
   ]
  },
  {
   "cell_type": "code",
   "execution_count": 51,
   "id": "ff5fc45d",
   "metadata": {
    "execution": {
     "iopub.execute_input": "2022-11-23T11:58:53.604802Z",
     "iopub.status.busy": "2022-11-23T11:58:53.604348Z",
     "iopub.status.idle": "2022-11-23T11:58:53.614082Z",
     "shell.execute_reply": "2022-11-23T11:58:53.612308Z"
    },
    "papermill": {
     "duration": 0.033164,
     "end_time": "2022-11-23T11:58:53.616955",
     "exception": false,
     "start_time": "2022-11-23T11:58:53.583791",
     "status": "completed"
    },
    "tags": []
   },
   "outputs": [
    {
     "name": "stdout",
     "output_type": "stream",
     "text": [
      "Q\n",
      "[[-0.2   -0.587  0.784 -0.   ]\n",
      " [-0.4   -0.65  -0.588  0.267]\n",
      " [-0.8    0.273 -0.    -0.535]\n",
      " [-0.4    0.398  0.196  0.802]]\n",
      "R\n",
      "[[-5.    -0.6    1.    -0.2  ]\n",
      " [ 0.     1.908 -0.734 -0.063]\n",
      " [ 0.     0.    -1.569  1.177]\n",
      " [ 0.     0.     0.    -1.604]]\n"
     ]
    }
   ],
   "source": [
    "#QR 행렬 구하기\n",
    "Q,R = la.qr(A)\n",
    "print(\"Q\")\n",
    "print(Q.round(3))\n",
    "print(\"R\")\n",
    "print(R.round(3))"
   ]
  },
  {
   "cell_type": "markdown",
   "id": "b791e196",
   "metadata": {
    "papermill": {
     "duration": 0.017792,
     "end_time": "2022-11-23T11:58:53.653208",
     "exception": false,
     "start_time": "2022-11-23T11:58:53.635416",
     "status": "completed"
    },
    "tags": []
   },
   "source": [
    "<H2>Using QR분해 solve linear equation</H2>\n",
    "$$\n",
    "Ax = b \\\\\n",
    "=> QRx = b \\\\\n",
    "=> Q^TQRx = Q^Tb \\\\\n",
    "=> Rx = Q^Tb \\\\\n",
    "$$"
   ]
  },
  {
   "cell_type": "markdown",
   "id": "f15c0a3f",
   "metadata": {
    "papermill": {
     "duration": 0.017534,
     "end_time": "2022-11-23T11:58:53.689383",
     "exception": false,
     "start_time": "2022-11-23T11:58:53.671849",
     "status": "completed"
    },
    "tags": []
   },
   "source": [
    "<h1>Inverse</h1>"
   ]
  },
  {
   "cell_type": "code",
   "execution_count": 52,
   "id": "13dd9940",
   "metadata": {
    "execution": {
     "iopub.execute_input": "2022-11-23T11:58:53.726961Z",
     "iopub.status.busy": "2022-11-23T11:58:53.726563Z",
     "iopub.status.idle": "2022-11-23T11:58:53.734504Z",
     "shell.execute_reply": "2022-11-23T11:58:53.733424Z"
    },
    "papermill": {
     "duration": 0.029263,
     "end_time": "2022-11-23T11:58:53.736527",
     "exception": false,
     "start_time": "2022-11-23T11:58:53.707264",
     "status": "completed"
    },
    "tags": []
   },
   "outputs": [
    {
     "data": {
      "text/plain": [
       "array([[-3, -4],\n",
       "       [ 4,  6],\n",
       "       [ 1,  1]])"
      ]
     },
     "execution_count": 52,
     "metadata": {},
     "output_type": "execute_result"
    }
   ],
   "source": [
    "#left inverse\n",
    "A = np.array([[-3, -4],\n",
    "             [4, 6],\n",
    "             [1, 1]])\n",
    "A"
   ]
  },
  {
   "cell_type": "code",
   "execution_count": 53,
   "id": "751cbe8a",
   "metadata": {
    "execution": {
     "iopub.execute_input": "2022-11-23T11:58:53.775391Z",
     "iopub.status.busy": "2022-11-23T11:58:53.774929Z",
     "iopub.status.idle": "2022-11-23T11:58:53.783923Z",
     "shell.execute_reply": "2022-11-23T11:58:53.782703Z"
    },
    "papermill": {
     "duration": 0.031825,
     "end_time": "2022-11-23T11:58:53.786764",
     "exception": false,
     "start_time": "2022-11-23T11:58:53.754939",
     "status": "completed"
    },
    "tags": []
   },
   "outputs": [
    {
     "data": {
      "text/plain": [
       "array([[ 1., -0.],\n",
       "       [ 0.,  1.]])"
      ]
     },
     "execution_count": 53,
     "metadata": {},
     "output_type": "execute_result"
    }
   ],
   "source": [
    "B = 1/9 * np.array([[-11, -10, 16],\n",
    "                   [7, 8, -11]])\n",
    "np.round(B@A, 3)"
   ]
  },
  {
   "cell_type": "code",
   "execution_count": 54,
   "id": "1f583d5d",
   "metadata": {
    "execution": {
     "iopub.execute_input": "2022-11-23T11:58:53.826070Z",
     "iopub.status.busy": "2022-11-23T11:58:53.825693Z",
     "iopub.status.idle": "2022-11-23T11:58:53.833675Z",
     "shell.execute_reply": "2022-11-23T11:58:53.832537Z"
    },
    "papermill": {
     "duration": 0.030233,
     "end_time": "2022-11-23T11:58:53.836013",
     "exception": false,
     "start_time": "2022-11-23T11:58:53.805780",
     "status": "completed"
    },
    "tags": []
   },
   "outputs": [
    {
     "data": {
      "text/plain": [
       "array([[1., 0.],\n",
       "       [0., 1.]])"
      ]
     },
     "execution_count": 54,
     "metadata": {},
     "output_type": "execute_result"
    }
   ],
   "source": [
    "C = 1/2 * np.array([[0, -1, 6],\n",
    "                   [0, 1, -4]])\n",
    "np.round(C@A, 3)"
   ]
  },
  {
   "cell_type": "code",
   "execution_count": null,
   "id": "1edb007a",
   "metadata": {
    "papermill": {
     "duration": 0.020693,
     "end_time": "2022-11-23T11:58:53.875646",
     "exception": false,
     "start_time": "2022-11-23T11:58:53.854953",
     "status": "completed"
    },
    "tags": []
   },
   "outputs": [],
   "source": []
  }
 ],
 "metadata": {
  "kernelspec": {
   "display_name": "Python 3",
   "language": "python",
   "name": "python3"
  },
  "language_info": {
   "codemirror_mode": {
    "name": "ipython",
    "version": 3
   },
   "file_extension": ".py",
   "mimetype": "text/x-python",
   "name": "python",
   "nbconvert_exporter": "python",
   "pygments_lexer": "ipython3",
   "version": "3.7.12"
  },
  "papermill": {
   "default_parameters": {},
   "duration": 13.491947,
   "end_time": "2022-11-23T11:58:54.818281",
   "environment_variables": {},
   "exception": null,
   "input_path": "__notebook__.ipynb",
   "output_path": "__notebook__.ipynb",
   "parameters": {},
   "start_time": "2022-11-23T11:58:41.326334",
   "version": "2.3.4"
  }
 },
 "nbformat": 4,
 "nbformat_minor": 5
}
