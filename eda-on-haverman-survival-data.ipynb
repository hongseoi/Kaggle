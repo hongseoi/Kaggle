{
 "cells": [
  {
   "cell_type": "markdown",
   "id": "e845d895",
   "metadata": {
    "papermill": {
     "duration": 0.010025,
     "end_time": "2022-11-29T13:41:26.222378",
     "exception": false,
     "start_time": "2022-11-29T13:41:26.212353",
     "status": "completed"
    },
    "tags": []
   },
   "source": [
    "<h1>EDA ON Haverman Survival Data</h1>\n",
    "\n",
    "Haverman data set is the result of the research conducted between 1958 and 1970 to examine the patient will survived for less than 5 years or grater than equal to five years after operation. The study was held at the University of Chicago's Billings Hospital.\n",
    "\n",
    "<h2> Objective</h2>\n",
    "\n",
    "At this notebook, I want to predict the patient's chance of survival using the four features in this dataset.\n",
    "\n",
    "<h3>reference</h3>\n",
    "\n",
    "* My school's lecture meterial"
   ]
  },
  {
   "cell_type": "markdown",
   "id": "739c4f98",
   "metadata": {
    "papermill": {
     "duration": 0.007831,
     "end_time": "2022-11-29T13:41:26.238948",
     "exception": false,
     "start_time": "2022-11-29T13:41:26.231117",
     "status": "completed"
    },
    "tags": []
   },
   "source": [
    "<h2>1. Import Neccessary Libraries</h2>"
   ]
  },
  {
   "cell_type": "code",
   "execution_count": 1,
   "id": "68b5b121",
   "metadata": {
    "_cell_guid": "b1076dfc-b9ad-4769-8c92-a6c4dae69d19",
    "_uuid": "8f2839f25d086af736a60e9eeb907d3b93b6e0e5",
    "execution": {
     "iopub.execute_input": "2022-11-29T13:41:26.257295Z",
     "iopub.status.busy": "2022-11-29T13:41:26.256641Z",
     "iopub.status.idle": "2022-11-29T13:41:27.186244Z",
     "shell.execute_reply": "2022-11-29T13:41:27.185489Z"
    },
    "papermill": {
     "duration": 0.94167,
     "end_time": "2022-11-29T13:41:27.188749",
     "exception": false,
     "start_time": "2022-11-29T13:41:26.247079",
     "status": "completed"
    },
    "tags": []
   },
   "outputs": [
    {
     "name": "stdout",
     "output_type": "stream",
     "text": [
      "/kaggle/input/haberman/haberman.csv\n"
     ]
    }
   ],
   "source": [
    "# This Python 3 environment comes with many helpful analytics libraries installed\n",
    "# It is defined by the kaggle/python Docker image: https://github.com/kaggle/docker-python\n",
    "# For example, here's several helpful packages to load\n",
    "\n",
    "import numpy as np # linear algebra\n",
    "import pandas as pd # data processing, CSV file I/O (e.g. pd.read_csv)\n",
    "\n",
    "import matplotlib.pyplot as plt\n",
    "import seaborn as sns\n",
    "\n",
    "plt.rcParams['figure.figsize'] = (8,5)\n",
    "np.random.seed(42)\n",
    "%matplotlib inline\n",
    "\n",
    "# Input data files are available in the read-only \"../input/\" directory\n",
    "# For example, running this (by clicking run or pressing Shift+Enter) will list all files under the input directory\n",
    "\n",
    "import os\n",
    "for dirname, _, filenames in os.walk('/kaggle/input'):\n",
    "    for filename in filenames:\n",
    "        print(os.path.join(dirname, filename))\n",
    "\n",
    "# You can write up to 20GB to the current directory (/kaggle/working/) that gets preserved as output when you create a version using \"Save & Run All\" \n",
    "# You can also write temporary files to /kaggle/temp/, but they won't be saved outside of the current session"
   ]
  },
  {
   "cell_type": "markdown",
   "id": "b1b232ff",
   "metadata": {
    "papermill": {
     "duration": 0.009183,
     "end_time": "2022-11-29T13:41:27.208910",
     "exception": false,
     "start_time": "2022-11-29T13:41:27.199727",
     "status": "completed"
    },
    "tags": []
   },
   "source": [
    "<h2>2. Load dataset</h2>"
   ]
  },
  {
   "cell_type": "code",
   "execution_count": 2,
   "id": "d1651299",
   "metadata": {
    "execution": {
     "iopub.execute_input": "2022-11-29T13:41:27.229297Z",
     "iopub.status.busy": "2022-11-29T13:41:27.228495Z",
     "iopub.status.idle": "2022-11-29T13:41:27.251723Z",
     "shell.execute_reply": "2022-11-29T13:41:27.251093Z"
    },
    "papermill": {
     "duration": 0.035515,
     "end_time": "2022-11-29T13:41:27.253788",
     "exception": false,
     "start_time": "2022-11-29T13:41:27.218273",
     "status": "completed"
    },
    "tags": []
   },
   "outputs": [
    {
     "data": {
      "text/html": [
       "<div>\n",
       "<style scoped>\n",
       "    .dataframe tbody tr th:only-of-type {\n",
       "        vertical-align: middle;\n",
       "    }\n",
       "\n",
       "    .dataframe tbody tr th {\n",
       "        vertical-align: top;\n",
       "    }\n",
       "\n",
       "    .dataframe thead th {\n",
       "        text-align: right;\n",
       "    }\n",
       "</style>\n",
       "<table border=\"1\" class=\"dataframe\">\n",
       "  <thead>\n",
       "    <tr style=\"text-align: right;\">\n",
       "      <th></th>\n",
       "      <th>age</th>\n",
       "      <th>year</th>\n",
       "      <th>nodes</th>\n",
       "      <th>status</th>\n",
       "    </tr>\n",
       "  </thead>\n",
       "  <tbody>\n",
       "    <tr>\n",
       "      <th>0</th>\n",
       "      <td>30</td>\n",
       "      <td>64</td>\n",
       "      <td>1</td>\n",
       "      <td>1</td>\n",
       "    </tr>\n",
       "    <tr>\n",
       "      <th>1</th>\n",
       "      <td>30</td>\n",
       "      <td>62</td>\n",
       "      <td>3</td>\n",
       "      <td>1</td>\n",
       "    </tr>\n",
       "    <tr>\n",
       "      <th>2</th>\n",
       "      <td>30</td>\n",
       "      <td>65</td>\n",
       "      <td>0</td>\n",
       "      <td>1</td>\n",
       "    </tr>\n",
       "    <tr>\n",
       "      <th>3</th>\n",
       "      <td>31</td>\n",
       "      <td>59</td>\n",
       "      <td>2</td>\n",
       "      <td>1</td>\n",
       "    </tr>\n",
       "    <tr>\n",
       "      <th>4</th>\n",
       "      <td>31</td>\n",
       "      <td>65</td>\n",
       "      <td>4</td>\n",
       "      <td>1</td>\n",
       "    </tr>\n",
       "  </tbody>\n",
       "</table>\n",
       "</div>"
      ],
      "text/plain": [
       "   age  year  nodes  status\n",
       "0   30    64      1       1\n",
       "1   30    62      3       1\n",
       "2   30    65      0       1\n",
       "3   31    59      2       1\n",
       "4   31    65      4       1"
      ]
     },
     "execution_count": 2,
     "metadata": {},
     "output_type": "execute_result"
    }
   ],
   "source": [
    "df = pd.read_csv(\"/kaggle/input/haberman/haberman.csv\")\n",
    "df.head()"
   ]
  },
  {
   "cell_type": "markdown",
   "id": "cd2d9629",
   "metadata": {
    "papermill": {
     "duration": 0.010049,
     "end_time": "2022-11-29T13:41:27.275219",
     "exception": false,
     "start_time": "2022-11-29T13:41:27.265170",
     "status": "completed"
    },
    "tags": []
   },
   "source": [
    "<h2>3. EDA</h2>"
   ]
  },
  {
   "cell_type": "code",
   "execution_count": 3,
   "id": "6626fbc4",
   "metadata": {
    "execution": {
     "iopub.execute_input": "2022-11-29T13:41:27.297182Z",
     "iopub.status.busy": "2022-11-29T13:41:27.296581Z",
     "iopub.status.idle": "2022-11-29T13:41:27.301577Z",
     "shell.execute_reply": "2022-11-29T13:41:27.300978Z"
    },
    "papermill": {
     "duration": 0.018083,
     "end_time": "2022-11-29T13:41:27.303265",
     "exception": false,
     "start_time": "2022-11-29T13:41:27.285182",
     "status": "completed"
    },
    "tags": []
   },
   "outputs": [
    {
     "data": {
      "text/plain": [
       "(306, 4)"
      ]
     },
     "execution_count": 3,
     "metadata": {},
     "output_type": "execute_result"
    }
   ],
   "source": [
    "df.shape"
   ]
  },
  {
   "cell_type": "code",
   "execution_count": 4,
   "id": "db58b098",
   "metadata": {
    "execution": {
     "iopub.execute_input": "2022-11-29T13:41:27.324916Z",
     "iopub.status.busy": "2022-11-29T13:41:27.324320Z",
     "iopub.status.idle": "2022-11-29T13:41:27.344218Z",
     "shell.execute_reply": "2022-11-29T13:41:27.342616Z"
    },
    "papermill": {
     "duration": 0.033158,
     "end_time": "2022-11-29T13:41:27.346461",
     "exception": false,
     "start_time": "2022-11-29T13:41:27.313303",
     "status": "completed"
    },
    "tags": []
   },
   "outputs": [
    {
     "name": "stdout",
     "output_type": "stream",
     "text": [
      "<class 'pandas.core.frame.DataFrame'>\n",
      "RangeIndex: 306 entries, 0 to 305\n",
      "Data columns (total 4 columns):\n",
      " #   Column  Non-Null Count  Dtype\n",
      "---  ------  --------------  -----\n",
      " 0   age     306 non-null    int64\n",
      " 1   year    306 non-null    int64\n",
      " 2   nodes   306 non-null    int64\n",
      " 3   status  306 non-null    int64\n",
      "dtypes: int64(4)\n",
      "memory usage: 9.7 KB\n"
     ]
    }
   ],
   "source": [
    "df.info()"
   ]
  },
  {
   "cell_type": "markdown",
   "id": "18e8a8f2",
   "metadata": {
    "papermill": {
     "duration": 0.008302,
     "end_time": "2022-11-29T13:41:27.363822",
     "exception": false,
     "start_time": "2022-11-29T13:41:27.355520",
     "status": "completed"
    },
    "tags": []
   },
   "source": [
    "* shape is (306, 4)\n",
    "* 4 features are all int type\n",
    "* There is no NaN"
   ]
  },
  {
   "cell_type": "code",
   "execution_count": 5,
   "id": "6343509e",
   "metadata": {
    "execution": {
     "iopub.execute_input": "2022-11-29T13:41:27.383748Z",
     "iopub.status.busy": "2022-11-29T13:41:27.382569Z",
     "iopub.status.idle": "2022-11-29T13:41:27.395698Z",
     "shell.execute_reply": "2022-11-29T13:41:27.394671Z"
    },
    "papermill": {
     "duration": 0.02598,
     "end_time": "2022-11-29T13:41:27.398199",
     "exception": false,
     "start_time": "2022-11-29T13:41:27.372219",
     "status": "completed"
    },
    "tags": []
   },
   "outputs": [
    {
     "data": {
      "text/html": [
       "<div>\n",
       "<style scoped>\n",
       "    .dataframe tbody tr th:only-of-type {\n",
       "        vertical-align: middle;\n",
       "    }\n",
       "\n",
       "    .dataframe tbody tr th {\n",
       "        vertical-align: top;\n",
       "    }\n",
       "\n",
       "    .dataframe thead th {\n",
       "        text-align: right;\n",
       "    }\n",
       "</style>\n",
       "<table border=\"1\" class=\"dataframe\">\n",
       "  <thead>\n",
       "    <tr style=\"text-align: right;\">\n",
       "      <th></th>\n",
       "      <th>age</th>\n",
       "      <th>year</th>\n",
       "      <th>nodes</th>\n",
       "      <th>status</th>\n",
       "    </tr>\n",
       "  </thead>\n",
       "  <tbody>\n",
       "    <tr>\n",
       "      <th>0</th>\n",
       "      <td>30</td>\n",
       "      <td>64</td>\n",
       "      <td>1</td>\n",
       "      <td>Survived</td>\n",
       "    </tr>\n",
       "    <tr>\n",
       "      <th>1</th>\n",
       "      <td>30</td>\n",
       "      <td>62</td>\n",
       "      <td>3</td>\n",
       "      <td>Survived</td>\n",
       "    </tr>\n",
       "    <tr>\n",
       "      <th>2</th>\n",
       "      <td>30</td>\n",
       "      <td>65</td>\n",
       "      <td>0</td>\n",
       "      <td>Survived</td>\n",
       "    </tr>\n",
       "    <tr>\n",
       "      <th>3</th>\n",
       "      <td>31</td>\n",
       "      <td>59</td>\n",
       "      <td>2</td>\n",
       "      <td>Survived</td>\n",
       "    </tr>\n",
       "    <tr>\n",
       "      <th>4</th>\n",
       "      <td>31</td>\n",
       "      <td>65</td>\n",
       "      <td>4</td>\n",
       "      <td>Survived</td>\n",
       "    </tr>\n",
       "    <tr>\n",
       "      <th>5</th>\n",
       "      <td>33</td>\n",
       "      <td>58</td>\n",
       "      <td>10</td>\n",
       "      <td>Survived</td>\n",
       "    </tr>\n",
       "    <tr>\n",
       "      <th>6</th>\n",
       "      <td>33</td>\n",
       "      <td>60</td>\n",
       "      <td>0</td>\n",
       "      <td>Survived</td>\n",
       "    </tr>\n",
       "    <tr>\n",
       "      <th>7</th>\n",
       "      <td>34</td>\n",
       "      <td>59</td>\n",
       "      <td>0</td>\n",
       "      <td>Died</td>\n",
       "    </tr>\n",
       "    <tr>\n",
       "      <th>8</th>\n",
       "      <td>34</td>\n",
       "      <td>66</td>\n",
       "      <td>9</td>\n",
       "      <td>Died</td>\n",
       "    </tr>\n",
       "    <tr>\n",
       "      <th>9</th>\n",
       "      <td>34</td>\n",
       "      <td>58</td>\n",
       "      <td>30</td>\n",
       "      <td>Survived</td>\n",
       "    </tr>\n",
       "  </tbody>\n",
       "</table>\n",
       "</div>"
      ],
      "text/plain": [
       "   age  year  nodes    status\n",
       "0   30    64      1  Survived\n",
       "1   30    62      3  Survived\n",
       "2   30    65      0  Survived\n",
       "3   31    59      2  Survived\n",
       "4   31    65      4  Survived\n",
       "5   33    58     10  Survived\n",
       "6   33    60      0  Survived\n",
       "7   34    59      0      Died\n",
       "8   34    66      9      Died\n",
       "9   34    58     30  Survived"
      ]
     },
     "execution_count": 5,
     "metadata": {},
     "output_type": "execute_result"
    }
   ],
   "source": [
    "#change target feature as categorical type\n",
    "\n",
    "df['status'] = df['status'].apply(lambda x: 'Survived' if x==1 else 'Died')\n",
    "df.head(10)"
   ]
  },
  {
   "cell_type": "code",
   "execution_count": 6,
   "id": "159cb94c",
   "metadata": {
    "execution": {
     "iopub.execute_input": "2022-11-29T13:41:27.418185Z",
     "iopub.status.busy": "2022-11-29T13:41:27.417827Z",
     "iopub.status.idle": "2022-11-29T13:41:27.438866Z",
     "shell.execute_reply": "2022-11-29T13:41:27.438120Z"
    },
    "papermill": {
     "duration": 0.033011,
     "end_time": "2022-11-29T13:41:27.440672",
     "exception": false,
     "start_time": "2022-11-29T13:41:27.407661",
     "status": "completed"
    },
    "tags": []
   },
   "outputs": [
    {
     "data": {
      "text/html": [
       "<div>\n",
       "<style scoped>\n",
       "    .dataframe tbody tr th:only-of-type {\n",
       "        vertical-align: middle;\n",
       "    }\n",
       "\n",
       "    .dataframe tbody tr th {\n",
       "        vertical-align: top;\n",
       "    }\n",
       "\n",
       "    .dataframe thead th {\n",
       "        text-align: right;\n",
       "    }\n",
       "</style>\n",
       "<table border=\"1\" class=\"dataframe\">\n",
       "  <thead>\n",
       "    <tr style=\"text-align: right;\">\n",
       "      <th></th>\n",
       "      <th>age</th>\n",
       "      <th>year</th>\n",
       "      <th>nodes</th>\n",
       "      <th>status</th>\n",
       "    </tr>\n",
       "  </thead>\n",
       "  <tbody>\n",
       "    <tr>\n",
       "      <th>count</th>\n",
       "      <td>306.000000</td>\n",
       "      <td>306.000000</td>\n",
       "      <td>306.000000</td>\n",
       "      <td>306</td>\n",
       "    </tr>\n",
       "    <tr>\n",
       "      <th>unique</th>\n",
       "      <td>NaN</td>\n",
       "      <td>NaN</td>\n",
       "      <td>NaN</td>\n",
       "      <td>2</td>\n",
       "    </tr>\n",
       "    <tr>\n",
       "      <th>top</th>\n",
       "      <td>NaN</td>\n",
       "      <td>NaN</td>\n",
       "      <td>NaN</td>\n",
       "      <td>Survived</td>\n",
       "    </tr>\n",
       "    <tr>\n",
       "      <th>freq</th>\n",
       "      <td>NaN</td>\n",
       "      <td>NaN</td>\n",
       "      <td>NaN</td>\n",
       "      <td>225</td>\n",
       "    </tr>\n",
       "    <tr>\n",
       "      <th>mean</th>\n",
       "      <td>52.457516</td>\n",
       "      <td>62.852941</td>\n",
       "      <td>4.026144</td>\n",
       "      <td>NaN</td>\n",
       "    </tr>\n",
       "    <tr>\n",
       "      <th>std</th>\n",
       "      <td>10.803452</td>\n",
       "      <td>3.249405</td>\n",
       "      <td>7.189654</td>\n",
       "      <td>NaN</td>\n",
       "    </tr>\n",
       "    <tr>\n",
       "      <th>min</th>\n",
       "      <td>30.000000</td>\n",
       "      <td>58.000000</td>\n",
       "      <td>0.000000</td>\n",
       "      <td>NaN</td>\n",
       "    </tr>\n",
       "    <tr>\n",
       "      <th>25%</th>\n",
       "      <td>44.000000</td>\n",
       "      <td>60.000000</td>\n",
       "      <td>0.000000</td>\n",
       "      <td>NaN</td>\n",
       "    </tr>\n",
       "    <tr>\n",
       "      <th>50%</th>\n",
       "      <td>52.000000</td>\n",
       "      <td>63.000000</td>\n",
       "      <td>1.000000</td>\n",
       "      <td>NaN</td>\n",
       "    </tr>\n",
       "    <tr>\n",
       "      <th>75%</th>\n",
       "      <td>60.750000</td>\n",
       "      <td>65.750000</td>\n",
       "      <td>4.000000</td>\n",
       "      <td>NaN</td>\n",
       "    </tr>\n",
       "    <tr>\n",
       "      <th>max</th>\n",
       "      <td>83.000000</td>\n",
       "      <td>69.000000</td>\n",
       "      <td>52.000000</td>\n",
       "      <td>NaN</td>\n",
       "    </tr>\n",
       "  </tbody>\n",
       "</table>\n",
       "</div>"
      ],
      "text/plain": [
       "               age        year       nodes    status\n",
       "count   306.000000  306.000000  306.000000       306\n",
       "unique         NaN         NaN         NaN         2\n",
       "top            NaN         NaN         NaN  Survived\n",
       "freq           NaN         NaN         NaN       225\n",
       "mean     52.457516   62.852941    4.026144       NaN\n",
       "std      10.803452    3.249405    7.189654       NaN\n",
       "min      30.000000   58.000000    0.000000       NaN\n",
       "25%      44.000000   60.000000    0.000000       NaN\n",
       "50%      52.000000   63.000000    1.000000       NaN\n",
       "75%      60.750000   65.750000    4.000000       NaN\n",
       "max      83.000000   69.000000   52.000000       NaN"
      ]
     },
     "execution_count": 6,
     "metadata": {},
     "output_type": "execute_result"
    }
   ],
   "source": [
    "df.describe(include='all')"
   ]
  },
  {
   "cell_type": "code",
   "execution_count": 7,
   "id": "014514d3",
   "metadata": {
    "execution": {
     "iopub.execute_input": "2022-11-29T13:41:27.460853Z",
     "iopub.status.busy": "2022-11-29T13:41:27.460194Z",
     "iopub.status.idle": "2022-11-29T13:41:27.467251Z",
     "shell.execute_reply": "2022-11-29T13:41:27.466528Z"
    },
    "papermill": {
     "duration": 0.019089,
     "end_time": "2022-11-29T13:41:27.468907",
     "exception": false,
     "start_time": "2022-11-29T13:41:27.449818",
     "status": "completed"
    },
    "tags": []
   },
   "outputs": [
    {
     "data": {
      "text/plain": [
       "Survived    225\n",
       "Died         81\n",
       "Name: status, dtype: int64"
      ]
     },
     "execution_count": 7,
     "metadata": {},
     "output_type": "execute_result"
    }
   ],
   "source": [
    "df['status'].value_counts()"
   ]
  },
  {
   "cell_type": "markdown",
   "id": "8c7c3d52",
   "metadata": {
    "papermill": {
     "duration": 0.008847,
     "end_time": "2022-11-29T13:41:27.486716",
     "exception": false,
     "start_time": "2022-11-29T13:41:27.477869",
     "status": "completed"
    },
    "tags": []
   },
   "source": [
    "Survived is 225 and Died is 81. \n",
    "\n",
    "It means the dataset is unbalanced."
   ]
  },
  {
   "cell_type": "markdown",
   "id": "db415e88",
   "metadata": {
    "papermill": {
     "duration": 0.00878,
     "end_time": "2022-11-29T13:41:27.504556",
     "exception": false,
     "start_time": "2022-11-29T13:41:27.495776",
     "status": "completed"
    },
    "tags": []
   },
   "source": [
    "<h2>3.1. Univariate Analysis</h2>\n",
    "\n",
    "* 1-D Scatter plot\n",
    "* PDF\n",
    "* CDF\n",
    "* Box Plot\n",
    "* Violin Plot\n",
    "\n",
    "<h2>3.2. Bivariate Analysis</h2>\n",
    "\n",
    "* 2-D Scatter plot\n",
    "* Pair Plot\n",
    "\n",
    "<h2>3.3. Multivariate Analysis</h2>\n",
    "\n",
    "* Countour Plot"
   ]
  },
  {
   "cell_type": "code",
   "execution_count": 8,
   "id": "83a49f74",
   "metadata": {
    "execution": {
     "iopub.execute_input": "2022-11-29T13:41:27.524829Z",
     "iopub.status.busy": "2022-11-29T13:41:27.524155Z",
     "iopub.status.idle": "2022-11-29T13:41:28.018282Z",
     "shell.execute_reply": "2022-11-29T13:41:28.017077Z"
    },
    "papermill": {
     "duration": 0.506829,
     "end_time": "2022-11-29T13:41:28.020386",
     "exception": false,
     "start_time": "2022-11-29T13:41:27.513557",
     "status": "completed"
    },
    "tags": []
   },
   "outputs": [
    {
     "data": {
      "text/plain": [
       "<seaborn.axisgrid.FacetGrid at 0x7f39f5547910>"
      ]
     },
     "execution_count": 8,
     "metadata": {},
     "output_type": "execute_result"
    },
    {
     "data": {
      "image/png": "[encoded data removed]",
      "text/plain": [
       "<Figure size 511.875x432 with 1 Axes>"
      ]
     },
     "metadata": {},
     "output_type": "display_data"
    }
   ],
   "source": [
    "#1-D scatter Plot\n",
    "\n",
    "sns.set_style('whitegrid')\n",
    "g = sns.FacetGrid(df, hue='status', height=6)\n",
    "g.map(plt.scatter, 'age', 'nodes', alpha=0.5)\n",
    "g.add_legend()\n"
   ]
  },
  {
   "cell_type": "code",
   "execution_count": 9,
   "id": "fe4e7631",
   "metadata": {
    "execution": {
     "iopub.execute_input": "2022-11-29T13:41:28.044260Z",
     "iopub.status.busy": "2022-11-29T13:41:28.043021Z",
     "iopub.status.idle": "2022-11-29T13:41:28.500671Z",
     "shell.execute_reply": "2022-11-29T13:41:28.499928Z"
    },
    "papermill": {
     "duration": 0.471166,
     "end_time": "2022-11-29T13:41:28.502642",
     "exception": false,
     "start_time": "2022-11-29T13:41:28.031476",
     "status": "completed"
    },
    "tags": []
   },
   "outputs": [
    {
     "data": {
      "image/png": "[encoded data removed]",
      "text/plain": [
       "<Figure size 511.875x432 with 1 Axes>"
      ]
     },
     "metadata": {},
     "output_type": "display_data"
    }
   ],
   "source": [
    "#1-D scatter Plot using different way\n",
    "\n",
    "sns.set_style('whitegrid')\n",
    "g = sns.FacetGrid(df, hue='status', height=6)\\\n",
    ".map(plt.scatter, 'age', 'nodes', alpha=0.5).add_legend()"
   ]
  },
  {
   "cell_type": "markdown",
   "id": "d0a919de",
   "metadata": {
    "papermill": {
     "duration": 0.009658,
     "end_time": "2022-11-29T13:41:28.522463",
     "exception": false,
     "start_time": "2022-11-29T13:41:28.512805",
     "status": "completed"
    },
    "tags": []
   },
   "source": [
    "<h3>graph observation</h3>\n",
    "\n",
    "1. the range of the patients from 30 to 40 age has less of orange dot. That means this range of patients' survival rate is high.\n",
    "\n",
    "2. Very few patients have more than 25 to 30 positive lymph nodes.\n",
    "\n",
    "3. Almost all patients in their 50s and 60s survived if they don't have benign lymph nodes.\n",
    "\n",
    "4. All patients over the age of 80 die within 5 years\n",
    "\n",
    "5. Having many positive lymph nodes does not necessarily mean that you will die within 5 years.\n"
   ]
  },
  {
   "cell_type": "markdown",
   "id": "15f02666",
   "metadata": {
    "papermill": {
     "duration": 0.009542,
     "end_time": "2022-11-29T13:41:28.541783",
     "exception": false,
     "start_time": "2022-11-29T13:41:28.532241",
     "status": "completed"
    },
    "tags": []
   },
   "source": [
    "<h3>Check observation 1.</h3>\n",
    "the range of the patients from 30 to 40 age has less of orange dot. That means this range of patients' survival rate is high.\n",
    "\n"
   ]
  },
  {
   "cell_type": "code",
   "execution_count": 10,
   "id": "ab6482ed",
   "metadata": {
    "execution": {
     "iopub.execute_input": "2022-11-29T13:41:28.565576Z",
     "iopub.status.busy": "2022-11-29T13:41:28.563410Z",
     "iopub.status.idle": "2022-11-29T13:41:28.574094Z",
     "shell.execute_reply": "2022-11-29T13:41:28.573173Z"
    },
    "papermill": {
     "duration": 0.024739,
     "end_time": "2022-11-29T13:41:28.576299",
     "exception": false,
     "start_time": "2022-11-29T13:41:28.551560",
     "status": "completed"
    },
    "tags": []
   },
   "outputs": [
    {
     "name": "stdout",
     "output_type": "stream",
     "text": [
      "The number of patients in the age group 30 to 40 survived: 39 \n",
      " The number of patients in the age group 30 to 40 survived: 4\n"
     ]
    }
   ],
   "source": [
    "df_3040 = df.loc[(df['age']<=40)&(df['age']>=30)]\n",
    "df_3040_survived = df_3040.loc[df_3040['status']=='Survived']\n",
    "df_3040_died = df_3040.loc[df_3040['status']=='Died']\n",
    "\n",
    "print(f'The number of patients in the age group 30 to 40 survived: {len(df_3040_survived)} \\n The number of patients in the age group 30 to 40 survived: {len(df_3040_died)}')"
   ]
  },
  {
   "cell_type": "markdown",
   "id": "0e0a4d75",
   "metadata": {
    "papermill": {
     "duration": 0.012376,
     "end_time": "2022-11-29T13:41:28.599549",
     "exception": false,
     "start_time": "2022-11-29T13:41:28.587173",
     "status": "completed"
    },
    "tags": []
   },
   "source": [
    " <h3>Check observation 2.</h3>\n",
    "\n",
    " Very few patients have more than 25 to 30 positive lymph nodes."
   ]
  },
  {
   "cell_type": "code",
   "execution_count": 11,
   "id": "9d806c99",
   "metadata": {
    "execution": {
     "iopub.execute_input": "2022-11-29T13:41:28.626561Z",
     "iopub.status.busy": "2022-11-29T13:41:28.625914Z",
     "iopub.status.idle": "2022-11-29T13:41:28.634704Z",
     "shell.execute_reply": "2022-11-29T13:41:28.633310Z"
    },
    "papermill": {
     "duration": 0.024637,
     "end_time": "2022-11-29T13:41:28.636849",
     "exception": false,
     "start_time": "2022-11-29T13:41:28.612212",
     "status": "completed"
    },
    "tags": []
   },
   "outputs": [
    {
     "name": "stdout",
     "output_type": "stream",
     "text": [
      "The number of patients who has more than 25 lymph nodes of the 306 patients: 6\n"
     ]
    }
   ],
   "source": [
    "a = df['nodes'].value_counts()\n",
    "a.sort_index(inplace=True)\n",
    "print(f'The number of patients who has more than 25 lymph nodes of the 306 patients: {a[a.index>=25].sum()}')"
   ]
  },
  {
   "cell_type": "markdown",
   "id": "b980d48e",
   "metadata": {
    "papermill": {
     "duration": 0.009544,
     "end_time": "2022-11-29T13:41:28.656605",
     "exception": false,
     "start_time": "2022-11-29T13:41:28.647061",
     "status": "completed"
    },
    "tags": []
   },
   "source": [
    "<h3>Check observation 3.</h3>\n",
    "\n",
    "Almost all patients in their 50s and 60s survived if they don't have benign lymph nodes.\n"
   ]
  },
  {
   "cell_type": "markdown",
   "id": "a1f97352",
   "metadata": {
    "papermill": {
     "duration": 0.009655,
     "end_time": "2022-11-29T13:41:28.676326",
     "exception": false,
     "start_time": "2022-11-29T13:41:28.666671",
     "status": "completed"
    },
    "tags": []
   },
   "source": [
    " <h3>Check observation 4.</h3>\n",
    "\n",
    "All patients over the age of 80 die within 5 years\n"
   ]
  },
  {
   "cell_type": "code",
   "execution_count": 12,
   "id": "1ebbf9c9",
   "metadata": {
    "execution": {
     "iopub.execute_input": "2022-11-29T13:41:28.697866Z",
     "iopub.status.busy": "2022-11-29T13:41:28.697509Z",
     "iopub.status.idle": "2022-11-29T13:41:28.703151Z",
     "shell.execute_reply": "2022-11-29T13:41:28.702310Z"
    },
    "papermill": {
     "duration": 0.018909,
     "end_time": "2022-11-29T13:41:28.705283",
     "exception": false,
     "start_time": "2022-11-29T13:41:28.686374",
     "status": "completed"
    },
    "tags": []
   },
   "outputs": [
    {
     "name": "stdout",
     "output_type": "stream",
     "text": [
      "306\n",
      "Number of patients whose age is more than 80: 1\n"
     ]
    }
   ],
   "source": [
    "age = df['age']\n",
    "count = 0\n",
    "print(len(age))\n",
    "for i in age:\n",
    "    if(i>=80):\n",
    "        count += 1\n",
    "print(f'Number of patients whose age is more than 80: {count}')"
   ]
  },
  {
   "cell_type": "markdown",
   "id": "ad1c8a34",
   "metadata": {
    "papermill": {
     "duration": 0.009671,
     "end_time": "2022-11-29T13:41:28.725273",
     "exception": false,
     "start_time": "2022-11-29T13:41:28.715602",
     "status": "completed"
    },
    "tags": []
   },
   "source": [
    "<h3>Check observation 5.</h3>\n",
    "\n",
    "\n",
    "Having many positive lymph nodes does not necessarily mean that you will die within 5 years."
   ]
  },
  {
   "cell_type": "markdown",
   "id": "862f61cf",
   "metadata": {
    "papermill": {
     "duration": 0.009673,
     "end_time": "2022-11-29T13:41:28.745076",
     "exception": false,
     "start_time": "2022-11-29T13:41:28.735403",
     "status": "completed"
    },
    "tags": []
   },
   "source": [
    "<h2>3.2. Bivariate Analysis</h2>\n",
    "\n",
    "* 2-D Scatter plot\n",
    "* Pair Plot\n"
   ]
  },
  {
   "cell_type": "code",
   "execution_count": 13,
   "id": "f8a51da6",
   "metadata": {
    "execution": {
     "iopub.execute_input": "2022-11-29T13:41:28.767201Z",
     "iopub.status.busy": "2022-11-29T13:41:28.765943Z",
     "iopub.status.idle": "2022-11-29T13:41:31.215091Z",
     "shell.execute_reply": "2022-11-29T13:41:31.213756Z"
    },
    "papermill": {
     "duration": 2.462164,
     "end_time": "2022-11-29T13:41:31.217178",
     "exception": false,
     "start_time": "2022-11-29T13:41:28.755014",
     "status": "completed"
    },
    "tags": []
   },
   "outputs": [
    {
     "data": {
      "text/plain": [
       "<seaborn.axisgrid.PairGrid at 0x7f39f33a32d0>"
      ]
     },
     "execution_count": 13,
     "metadata": {},
     "output_type": "execute_result"
    },
    {
     "data": {
      "image/png": "[encoded data removed]",
      "text/plain": [
       "<Figure size 943.875x864 with 12 Axes>"
      ]
     },
     "metadata": {},
     "output_type": "display_data"
    }
   ],
   "source": [
    "#pair plot\n",
    "sns.set_style('whitegrid')\n",
    "sns.pairplot(df, hue='status', height=4)"
   ]
  },
  {
   "cell_type": "markdown",
   "id": "b8b89c34",
   "metadata": {
    "papermill": {
     "duration": 0.012089,
     "end_time": "2022-11-29T13:41:31.242287",
     "exception": false,
     "start_time": "2022-11-29T13:41:31.230198",
     "status": "completed"
    },
    "tags": []
   },
   "source": [
    "그래프 관찰\n",
    "1. 선형적 관계를 보이는 그래프는 없다.\n",
    "2. 데이터가 많이 중첩되어 있다.\n",
    "3. 그림 2는 중첩이 심해 분류하기 어렵다. 61년과 68년에 환자들이 많이 생존하였다.\n",
    "4. 그림3은 중첩이 심하지만 패턴이 있다. 양성림프절 수와 환자 나이가 target에 가장 유의미하게 보인다.\n",
    "5. 그림6은 중첩이 가장 많아 분류 어렵다.\n",
    "6. 그림4=2, 7=3, 8=6\n",
    "7. 그림 3, 7이 데이터분석에 가장 유용"
   ]
  },
  {
   "cell_type": "markdown",
   "id": "9b753798",
   "metadata": {
    "papermill": {
     "duration": 0.01174,
     "end_time": "2022-11-29T13:41:31.266177",
     "exception": false,
     "start_time": "2022-11-29T13:41:31.254437",
     "status": "completed"
    },
    "tags": []
   },
   "source": [
    "관찰3"
   ]
  },
  {
   "cell_type": "code",
   "execution_count": 14,
   "id": "66779be6",
   "metadata": {
    "execution": {
     "iopub.execute_input": "2022-11-29T13:41:31.292545Z",
     "iopub.status.busy": "2022-11-29T13:41:31.292186Z",
     "iopub.status.idle": "2022-11-29T13:41:31.295619Z",
     "shell.execute_reply": "2022-11-29T13:41:31.294963Z"
    },
    "papermill": {
     "duration": 0.018903,
     "end_time": "2022-11-29T13:41:31.297233",
     "exception": false,
     "start_time": "2022-11-29T13:41:31.278330",
     "status": "completed"
    },
    "tags": []
   },
   "outputs": [],
   "source": [
    "# 61년 68년 죽은사람 산사람 수 비교하기"
   ]
  },
  {
   "cell_type": "markdown",
   "id": "19eb1f78",
   "metadata": {
    "papermill": {
     "duration": 0.012921,
     "end_time": "2022-11-29T13:41:31.322649",
     "exception": false,
     "start_time": "2022-11-29T13:41:31.309728",
     "status": "completed"
    },
    "tags": []
   },
   "source": [
    "1-d scatter plot"
   ]
  },
  {
   "cell_type": "code",
   "execution_count": 15,
   "id": "698c2d04",
   "metadata": {
    "execution": {
     "iopub.execute_input": "2022-11-29T13:41:31.349784Z",
     "iopub.status.busy": "2022-11-29T13:41:31.349213Z",
     "iopub.status.idle": "2022-11-29T13:41:31.353282Z",
     "shell.execute_reply": "2022-11-29T13:41:31.352409Z"
    },
    "papermill": {
     "duration": 0.020208,
     "end_time": "2022-11-29T13:41:31.355685",
     "exception": false,
     "start_time": "2022-11-29T13:41:31.335477",
     "status": "completed"
    },
    "tags": []
   },
   "outputs": [],
   "source": [
    "#histogram으로 양성 림프절 수 확인"
   ]
  },
  {
   "cell_type": "code",
   "execution_count": 16,
   "id": "34fb8d14",
   "metadata": {
    "execution": {
     "iopub.execute_input": "2022-11-29T13:41:31.382617Z",
     "iopub.status.busy": "2022-11-29T13:41:31.381691Z",
     "iopub.status.idle": "2022-11-29T13:41:31.386473Z",
     "shell.execute_reply": "2022-11-29T13:41:31.385334Z"
    },
    "papermill": {
     "duration": 0.020671,
     "end_time": "2022-11-29T13:41:31.388915",
     "exception": false,
     "start_time": "2022-11-29T13:41:31.368244",
     "status": "completed"
    },
    "tags": []
   },
   "outputs": [],
   "source": [
    "#확률분포 환자 나이에 대한 pdf\n"
   ]
  },
  {
   "cell_type": "markdown",
   "id": "5f1e935a",
   "metadata": {
    "papermill": {
     "duration": 0.013171,
     "end_time": "2022-11-29T13:41:31.415198",
     "exception": false,
     "start_time": "2022-11-29T13:41:31.402027",
     "status": "completed"
    },
    "tags": []
   },
   "source": [
    "1. 데이터 중첩 심함\n",
    "2. 3040 생존률 높음\n",
    "3. 40~60 생존률 낮다\n",
    "4. 40~45 사망자가 가장 많다\n",
    "5. 환자 나이로는 생존가능성 판별 불가"
   ]
  },
  {
   "cell_type": "code",
   "execution_count": 17,
   "id": "e1d8f61a",
   "metadata": {
    "execution": {
     "iopub.execute_input": "2022-11-29T13:41:31.441491Z",
     "iopub.status.busy": "2022-11-29T13:41:31.441143Z",
     "iopub.status.idle": "2022-11-29T13:41:31.445068Z",
     "shell.execute_reply": "2022-11-29T13:41:31.444248Z"
    },
    "papermill": {
     "duration": 0.019685,
     "end_time": "2022-11-29T13:41:31.447370",
     "exception": false,
     "start_time": "2022-11-29T13:41:31.427685",
     "status": "completed"
    },
    "tags": []
   },
   "outputs": [],
   "source": [
    "#수술연도의 pdf"
   ]
  },
  {
   "cell_type": "markdown",
   "id": "5594973c",
   "metadata": {
    "papermill": {
     "duration": 0.01219,
     "end_time": "2022-11-29T13:41:31.472570",
     "exception": false,
     "start_time": "2022-11-29T13:41:31.460380",
     "status": "completed"
    },
    "tags": []
   },
   "source": [
    "1.중첩 많음\n",
    "2. 수술 잘된 해와 그렇지 않은 해가 구분되지만 연도로 추측은 불가\n",
    "3. 수술 좋은해 65년, 60년\n",
    "4. 수술 가장 안좋은 해 61년"
   ]
  },
  {
   "cell_type": "code",
   "execution_count": 18,
   "id": "e0726448",
   "metadata": {
    "execution": {
     "iopub.execute_input": "2022-11-29T13:41:31.498919Z",
     "iopub.status.busy": "2022-11-29T13:41:31.498535Z",
     "iopub.status.idle": "2022-11-29T13:41:31.502949Z",
     "shell.execute_reply": "2022-11-29T13:41:31.502008Z"
    },
    "papermill": {
     "duration": 0.020701,
     "end_time": "2022-11-29T13:41:31.505648",
     "exception": false,
     "start_time": "2022-11-29T13:41:31.484947",
     "status": "completed"
    },
    "tags": []
   },
   "outputs": [],
   "source": [
    "#양성 림프절 수에 대한 pdf\n"
   ]
  },
  {
   "cell_type": "markdown",
   "id": "27604739",
   "metadata": {
    "papermill": {
     "duration": 0.012172,
     "end_time": "2022-11-29T13:41:31.530348",
     "exception": false,
     "start_time": "2022-11-29T13:41:31.518176",
     "status": "completed"
    },
    "tags": []
   },
   "source": [
    "1. 유방암 전문 웹사이트에 의하면 림프절 수는 생존율에 중요한 변수\n",
    "2. 양성림프절 없으면 생존율 노ㅠ다.\n",
    "3. 양성림프절 1개인 환자도 생존율 높다.\n",
    "4. 양성림프절 수 많을수록 생존율 낮다\n",
    "5. 매우 적은 환자들만 25개 이상의 림프절을 갖고 있다.\n",
    "6. 양성 림프절 수는 데이터 분석에 적합한 속성이다.\n"
   ]
  },
  {
   "cell_type": "code",
   "execution_count": 19,
   "id": "987a53e5",
   "metadata": {
    "execution": {
     "iopub.execute_input": "2022-11-29T13:41:31.556816Z",
     "iopub.status.busy": "2022-11-29T13:41:31.556444Z",
     "iopub.status.idle": "2022-11-29T13:41:31.560268Z",
     "shell.execute_reply": "2022-11-29T13:41:31.559320Z"
    },
    "papermill": {
     "duration": 0.019211,
     "end_time": "2022-11-29T13:41:31.561995",
     "exception": false,
     "start_time": "2022-11-29T13:41:31.542784",
     "status": "completed"
    },
    "tags": []
   },
   "outputs": [],
   "source": [
    "#가설 확인\n"
   ]
  },
  {
   "cell_type": "markdown",
   "id": "84e2ac49",
   "metadata": {
    "papermill": {
     "duration": 0.012211,
     "end_time": "2022-11-29T13:41:31.586491",
     "exception": false,
     "start_time": "2022-11-29T13:41:31.574280",
     "status": "completed"
    },
    "tags": []
   },
   "source": [
    "결론\n",
    "양성림프절 개수별 생존율\n",
    "0~1개\n",
    "25개 이상"
   ]
  },
  {
   "cell_type": "code",
   "execution_count": 20,
   "id": "4da5d7b2",
   "metadata": {
    "execution": {
     "iopub.execute_input": "2022-11-29T13:41:31.612694Z",
     "iopub.status.busy": "2022-11-29T13:41:31.612324Z",
     "iopub.status.idle": "2022-11-29T13:41:31.616055Z",
     "shell.execute_reply": "2022-11-29T13:41:31.615383Z"
    },
    "papermill": {
     "duration": 0.018714,
     "end_time": "2022-11-29T13:41:31.617577",
     "exception": false,
     "start_time": "2022-11-29T13:41:31.598863",
     "status": "completed"
    },
    "tags": []
   },
   "outputs": [],
   "source": [
    "#양성림프절 cdf\n"
   ]
  },
  {
   "cell_type": "code",
   "execution_count": 21,
   "id": "a34aa941",
   "metadata": {
    "execution": {
     "iopub.execute_input": "2022-11-29T13:41:31.644224Z",
     "iopub.status.busy": "2022-11-29T13:41:31.643548Z",
     "iopub.status.idle": "2022-11-29T13:41:31.648050Z",
     "shell.execute_reply": "2022-11-29T13:41:31.647094Z"
    },
    "papermill": {
     "duration": 0.019874,
     "end_time": "2022-11-29T13:41:31.650014",
     "exception": false,
     "start_time": "2022-11-29T13:41:31.630140",
     "status": "completed"
    },
    "tags": []
   },
   "outputs": [],
   "source": [
    "#pdf cdf 같이 그리기"
   ]
  },
  {
   "cell_type": "markdown",
   "id": "d7149d0a",
   "metadata": {
    "papermill": {
     "duration": 0.012039,
     "end_time": "2022-11-29T13:41:31.674553",
     "exception": false,
     "start_time": "2022-11-29T13:41:31.662514",
     "status": "completed"
    },
    "tags": []
   },
   "source": [
    "1. 양성림프절 많은 환자들도 생존하고 없는 환자가 수술 후 사망하기도 함\n",
    "2. 생존환자중 가장 양성림프절이 많은 경우는 46개\n",
    "3. 생존환자의 83.55%의 양성립프절 수는 0~4.6개\n",
    "4. 사망한 환자의 56.79%의 양성림프절 수는 0~5.2개\n"
   ]
  },
  {
   "cell_type": "code",
   "execution_count": 22,
   "id": "83368ce2",
   "metadata": {
    "execution": {
     "iopub.execute_input": "2022-11-29T13:41:31.700938Z",
     "iopub.status.busy": "2022-11-29T13:41:31.700573Z",
     "iopub.status.idle": "2022-11-29T13:41:31.705011Z",
     "shell.execute_reply": "2022-11-29T13:41:31.703627Z"
    },
    "papermill": {
     "duration": 0.020512,
     "end_time": "2022-11-29T13:41:31.707449",
     "exception": false,
     "start_time": "2022-11-29T13:41:31.686937",
     "status": "completed"
    },
    "tags": []
   },
   "outputs": [],
   "source": [
    "#관찰에 대한 확인\n"
   ]
  },
  {
   "cell_type": "markdown",
   "id": "3767010e",
   "metadata": {
    "papermill": {
     "duration": 0.011794,
     "end_time": "2022-11-29T13:41:31.731829",
     "exception": false,
     "start_time": "2022-11-29T13:41:31.720035",
     "status": "completed"
    },
    "tags": []
   },
   "source": [
    "boxplot, violin plot\n",
    "\n",
    "생존자 측에 이상치가 많다.\n",
    "생존자그룹의 q1, median이 거의 같다.\n",
    "생존자 q3와 사망자 median 값이 같다>생존자와 사망자 데이터가 중첩되어 좋은 모델이 나올 것 같지 않다.\n",
    "양성립프절 적은 환자들 대부분 생존\n"
   ]
  },
  {
   "cell_type": "code",
   "execution_count": 23,
   "id": "53ea4932",
   "metadata": {
    "execution": {
     "iopub.execute_input": "2022-11-29T13:41:31.757654Z",
     "iopub.status.busy": "2022-11-29T13:41:31.757329Z",
     "iopub.status.idle": "2022-11-29T13:41:31.762023Z",
     "shell.execute_reply": "2022-11-29T13:41:31.760802Z"
    },
    "papermill": {
     "duration": 0.020003,
     "end_time": "2022-11-29T13:41:31.764218",
     "exception": false,
     "start_time": "2022-11-29T13:41:31.744215",
     "status": "completed"
    },
    "tags": []
   },
   "outputs": [],
   "source": [
    "#countour plot"
   ]
  },
  {
   "cell_type": "markdown",
   "id": "9823fb45",
   "metadata": {
    "papermill": {
     "duration": 0.012123,
     "end_time": "2022-11-29T13:41:31.789065",
     "exception": false,
     "start_time": "2022-11-29T13:41:31.776942",
     "status": "completed"
    },
    "tags": []
   },
   "source": [
    "양성립프절이 2개 이하인 환자 전체에서 많은 수가 50~56세 그룹"
   ]
  },
  {
   "cell_type": "markdown",
   "id": "e5be3f96",
   "metadata": {
    "papermill": {
     "duration": 0.012088,
     "end_time": "2022-11-29T13:41:31.813693",
     "exception": false,
     "start_time": "2022-11-29T13:41:31.801605",
     "status": "completed"
    },
    "tags": []
   },
   "source": [
    "eda 결론\n",
    "1. 3040 많은 수 생존\n",
    "2. 61, 68년 수술받은 환자들 많이 생존\n",
    "3. 양성림프절은 유방암 중요지표\n",
    "4. 양성림프절 없으면 생존확률 높음\n",
    "5. 몇몇 환자는 많은 양성림프절을 갖고도 생존, 몇몇은 그 반대. 양성림프절 없는 것이 생존 보장하지 않음\n",
    "6. 아주 일부의 환자들만 림프절 25개 이상\n",
    "7. eda 바탕으로 유방암 환자의 생존 가능성에 대한 가설 제시 가"
   ]
  }
 ],
 "metadata": {
  "kernelspec": {
   "display_name": "Python 3",
   "language": "python",
   "name": "python3"
  },
  "language_info": {
   "codemirror_mode": {
    "name": "ipython",
    "version": 3
   },
   "file_extension": ".py",
   "mimetype": "text/x-python",
   "name": "python",
   "nbconvert_exporter": "python",
   "pygments_lexer": "ipython3",
   "version": "3.7.12"
  },
  "papermill": {
   "default_parameters": {},
   "duration": 13.537484,
   "end_time": "2022-11-29T13:41:32.547682",
   "environment_variables": {},
   "exception": null,
   "input_path": "__notebook__.ipynb",
   "output_path": "__notebook__.ipynb",
   "parameters": {},
   "start_time": "2022-11-29T13:41:19.010198",
   "version": "2.3.4"
  }
 },
 "nbformat": 4,
 "nbformat_minor": 5
}
